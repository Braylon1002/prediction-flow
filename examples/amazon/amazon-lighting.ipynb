{
 "cells": [
  {
   "cell_type": "markdown",
   "metadata": {},
   "source": [
    "# script to do experiments described in paper: Deep Interest Evolution Network for Click-Through Rate Prediction\n",
    "\n",
    "## how to run\n",
    "\n",
    "1. Please run prepare_neg.ipynb first."
   ]
  },
  {
   "cell_type": "code",
   "execution_count": 8,
   "metadata": {},
   "outputs": [],
   "source": [
    "SEQ_MAX_LEN = 100 # maximum sequence length\n",
    "BATCH_SIZE = 128\n",
    "EMBEDDING_DIM = 18\n",
    "DNN_HIDDEN_SIZE = [200, 80]\n",
    "DNN_DROPOUT = 0.0\n",
    "TEST_RUN = False\n",
    "EPOCH = 2\n",
    "SEED = 10"
   ]
  },
  {
   "cell_type": "code",
   "execution_count": 2,
   "metadata": {},
   "outputs": [],
   "source": [
    "%matplotlib inline\n",
    "\n",
    "import itertools\n",
    "from collections import Counter, OrderedDict\n",
    "\n",
    "import random\n",
    "import numpy as np\n",
    "import pandas as pd\n",
    "import matplotlib.pyplot as plt\n",
    "\n",
    "import torch\n",
    "import torch.nn as nn\n",
    "import torch.optim as optim\n",
    "import torch.nn.functional as F\n",
    "from sklearn.metrics import roc_auc_score\n",
    "\n",
    "from prediction_flow.features import Number, Category, Sequence, Features\n",
    "from prediction_flow.transformers.column import (\n",
    "    StandardScaler, CategoryEncoder, SequenceEncoder)\n",
    "\n",
    "from prediction_flow.pytorch.data import Dataset\n",
    "from prediction_flow.pytorch import WideDeep, DeepFM, DNN, DIN, DIEN, AttentionGroup\n",
    "\n",
    "from prediction_flow.pytorch.functions import fit, predict, create_dataloader_fn"
   ]
  },
  {
   "cell_type": "code",
   "execution_count": 3,
   "metadata": {},
   "outputs": [
    {
     "data": {
      "text/plain": [
       "<torch._C.Generator at 0x1265ba750>"
      ]
     },
     "execution_count": 3,
     "metadata": {},
     "output_type": "execute_result"
    }
   ],
   "source": [
    "random.seed(SEED)\n",
    "np.random.seed(SEED)\n",
    "torch.manual_seed(SEED)"
   ]
  },
  {
   "cell_type": "code",
   "execution_count": 4,
   "metadata": {},
   "outputs": [],
   "source": [
    "train_df = pd.read_csv(\n",
    "    \"./local_train.csv\", sep='\\t')\n",
    "\n",
    "valid_df = pd.read_csv(\n",
    "    \"./local_test.csv\", sep='\\t')"
   ]
  },
  {
   "cell_type": "code",
   "execution_count": 9,
   "metadata": {},
   "outputs": [],
   "source": [
    "if TEST_RUN:\n",
    "    train_df = train_df.sample(1000)\n",
    "    valid_df = valid_df.sample(1000)"
   ]
  },
  {
   "cell_type": "code",
   "execution_count": 10,
   "metadata": {},
   "outputs": [
    {
     "data": {
      "text/html": [
       "<div>\n",
       "<style scoped>\n",
       "    .dataframe tbody tr th:only-of-type {\n",
       "        vertical-align: middle;\n",
       "    }\n",
       "\n",
       "    .dataframe tbody tr th {\n",
       "        vertical-align: top;\n",
       "    }\n",
       "\n",
       "    .dataframe thead th {\n",
       "        text-align: right;\n",
       "    }\n",
       "</style>\n",
       "<table border=\"1\" class=\"dataframe\">\n",
       "  <thead>\n",
       "    <tr style=\"text-align: right;\">\n",
       "      <th></th>\n",
       "      <th>label</th>\n",
       "      <th>uid</th>\n",
       "      <th>mid</th>\n",
       "      <th>cat</th>\n",
       "      <th>hist_mids</th>\n",
       "      <th>hist_cats</th>\n",
       "      <th>neg_hist_mids</th>\n",
       "      <th>neg_hist_cats</th>\n",
       "    </tr>\n",
       "  </thead>\n",
       "  <tbody>\n",
       "    <tr>\n",
       "      <th>488228</th>\n",
       "      <td>0</td>\n",
       "      <td>A263AXFZ228DM</td>\n",
       "      <td>0373695349</td>\n",
       "      <td>Books</td>\n",
       "      <td>0330313509\u00020374528535\u0002B005DT9R02\u00020312380666\u000216...</td>\n",
       "      <td>Books\u0002Books\u0002Literature &amp; Fiction\u0002Books\u0002Books\u0002B...</td>\n",
       "      <td>1584302755\u00021596683333\u00020786934352\u00020385490844\u000207...</td>\n",
       "      <td>Books\u0002Books\u0002Books\u0002Books\u0002Books\u0002Books\u0002Books\u0002Book...</td>\n",
       "    </tr>\n",
       "    <tr>\n",
       "      <th>796910</th>\n",
       "      <td>0</td>\n",
       "      <td>AY1FEZRH8DUO6</td>\n",
       "      <td>B00IAFE8E6</td>\n",
       "      <td>Literature &amp; Fiction</td>\n",
       "      <td>0505527766\u0002193332063X\u0002193332077X\u0002193332080X\u0002B0...</td>\n",
       "      <td>Books\u0002Books\u0002Books\u0002Books\u0002Literature &amp; Fiction\u0002L...</td>\n",
       "      <td>B005GPDKNI\u00021414115466\u00020312354622\u00020061013382\u000200...</td>\n",
       "      <td>Anthologies\u0002Books\u0002Books\u0002Books\u0002Books\u0002Books\u0002Book...</td>\n",
       "    </tr>\n",
       "    <tr>\n",
       "      <th>849192</th>\n",
       "      <td>0</td>\n",
       "      <td>A2PHAQ041SSKO8</td>\n",
       "      <td>0985906103</td>\n",
       "      <td>Books</td>\n",
       "      <td>156882131X\u00020975922947\u00020765324024\u00021449568696\u000203...</td>\n",
       "      <td>Books\u0002Books\u0002Books\u0002Books\u0002Books\u0002Books\u0002Books\u0002Book...</td>\n",
       "      <td>0307718271\u00020671522663\u00021904902979\u0002B00GZTG4PU\u0002B0...</td>\n",
       "      <td>Books\u0002Books\u0002Books\u0002Literature &amp; Fiction\u0002Parenti...</td>\n",
       "    </tr>\n",
       "    <tr>\n",
       "      <th>653157</th>\n",
       "      <td>1</td>\n",
       "      <td>A332QQ6M9SF0GX</td>\n",
       "      <td>0802122647</td>\n",
       "      <td>Books</td>\n",
       "      <td>0395389925\u00020747510431\u00020316176486\u00020393064476\u000214...</td>\n",
       "      <td>Books\u0002Books\u0002Books\u0002Books\u0002Books</td>\n",
       "      <td>079351181X\u00020061672394\u00020226791459\u0002B005TD2FW4\u000219...</td>\n",
       "      <td>Books\u0002Books\u0002Books\u0002Literature &amp; Fiction\u0002Books</td>\n",
       "    </tr>\n",
       "    <tr>\n",
       "      <th>816903</th>\n",
       "      <td>1</td>\n",
       "      <td>A34W6ACJ456AGC</td>\n",
       "      <td>111848147X</td>\n",
       "      <td>Books</td>\n",
       "      <td>0785214119\u00020446677477\u00020671027034\u0002044656740X\u000207...</td>\n",
       "      <td>Books\u0002Books\u0002Books\u0002Books\u0002Books\u0002Books\u0002Books\u0002Book...</td>\n",
       "      <td>0761167358\u00020811863360\u0002B0025VKZWU\u00020199928037\u000206...</td>\n",
       "      <td>Books\u0002Books\u0002Action &amp; Adventure\u0002Books\u0002Books\u0002Boo...</td>\n",
       "    </tr>\n",
       "  </tbody>\n",
       "</table>\n",
       "</div>"
      ],
      "text/plain": [
       "        label             uid         mid                   cat  \\\n",
       "488228      0   A263AXFZ228DM  0373695349                 Books   \n",
       "796910      0   AY1FEZRH8DUO6  B00IAFE8E6  Literature & Fiction   \n",
       "849192      0  A2PHAQ041SSKO8  0985906103                 Books   \n",
       "653157      1  A332QQ6M9SF0GX  0802122647                 Books   \n",
       "816903      1  A34W6ACJ456AGC  111848147X                 Books   \n",
       "\n",
       "                                                hist_mids  \\\n",
       "488228  0330313509\u00020374528535\u0002B005DT9R02\u00020312380666\u000216...   \n",
       "796910  0505527766\u0002193332063X\u0002193332077X\u0002193332080X\u0002B0...   \n",
       "849192  156882131X\u00020975922947\u00020765324024\u00021449568696\u000203...   \n",
       "653157  0395389925\u00020747510431\u00020316176486\u00020393064476\u000214...   \n",
       "816903  0785214119\u00020446677477\u00020671027034\u0002044656740X\u000207...   \n",
       "\n",
       "                                                hist_cats  \\\n",
       "488228  Books\u0002Books\u0002Literature & Fiction\u0002Books\u0002Books\u0002B...   \n",
       "796910  Books\u0002Books\u0002Books\u0002Books\u0002Literature & Fiction\u0002L...   \n",
       "849192  Books\u0002Books\u0002Books\u0002Books\u0002Books\u0002Books\u0002Books\u0002Book...   \n",
       "653157                      Books\u0002Books\u0002Books\u0002Books\u0002Books   \n",
       "816903  Books\u0002Books\u0002Books\u0002Books\u0002Books\u0002Books\u0002Books\u0002Book...   \n",
       "\n",
       "                                            neg_hist_mids  \\\n",
       "488228  1584302755\u00021596683333\u00020786934352\u00020385490844\u000207...   \n",
       "796910  B005GPDKNI\u00021414115466\u00020312354622\u00020061013382\u000200...   \n",
       "849192  0307718271\u00020671522663\u00021904902979\u0002B00GZTG4PU\u0002B0...   \n",
       "653157  079351181X\u00020061672394\u00020226791459\u0002B005TD2FW4\u000219...   \n",
       "816903  0761167358\u00020811863360\u0002B0025VKZWU\u00020199928037\u000206...   \n",
       "\n",
       "                                            neg_hist_cats  \n",
       "488228  Books\u0002Books\u0002Books\u0002Books\u0002Books\u0002Books\u0002Books\u0002Book...  \n",
       "796910  Anthologies\u0002Books\u0002Books\u0002Books\u0002Books\u0002Books\u0002Book...  \n",
       "849192  Books\u0002Books\u0002Books\u0002Literature & Fiction\u0002Parenti...  \n",
       "653157       Books\u0002Books\u0002Books\u0002Literature & Fiction\u0002Books  \n",
       "816903  Books\u0002Books\u0002Action & Adventure\u0002Books\u0002Books\u0002Boo...  "
      ]
     },
     "execution_count": 10,
     "metadata": {},
     "output_type": "execute_result"
    }
   ],
   "source": [
    "train_df.head()"
   ]
  },
  {
   "cell_type": "code",
   "execution_count": 11,
   "metadata": {},
   "outputs": [
    {
     "data": {
      "text/html": [
       "<div>\n",
       "<style scoped>\n",
       "    .dataframe tbody tr th:only-of-type {\n",
       "        vertical-align: middle;\n",
       "    }\n",
       "\n",
       "    .dataframe tbody tr th {\n",
       "        vertical-align: top;\n",
       "    }\n",
       "\n",
       "    .dataframe thead th {\n",
       "        text-align: right;\n",
       "    }\n",
       "</style>\n",
       "<table border=\"1\" class=\"dataframe\">\n",
       "  <thead>\n",
       "    <tr style=\"text-align: right;\">\n",
       "      <th></th>\n",
       "      <th>label</th>\n",
       "      <th>uid</th>\n",
       "      <th>mid</th>\n",
       "      <th>cat</th>\n",
       "      <th>hist_mids</th>\n",
       "      <th>hist_cats</th>\n",
       "      <th>neg_hist_mids</th>\n",
       "      <th>neg_hist_cats</th>\n",
       "    </tr>\n",
       "  </thead>\n",
       "  <tbody>\n",
       "    <tr>\n",
       "      <th>17198</th>\n",
       "      <td>0</td>\n",
       "      <td>A2WK7Q3UG59GGY</td>\n",
       "      <td>0451409450</td>\n",
       "      <td>Books</td>\n",
       "      <td>0596517742\u00020141017872\u00020297848003\u00021591843626</td>\n",
       "      <td>Books\u0002Books\u0002Books\u0002Books</td>\n",
       "      <td>0634003143\u00020071800697\u00020300087071\u00021771013397</td>\n",
       "      <td>Books\u0002Books\u0002Books\u0002Books</td>\n",
       "    </tr>\n",
       "    <tr>\n",
       "      <th>84428</th>\n",
       "      <td>0</td>\n",
       "      <td>AP4QL9E0S7NTX</td>\n",
       "      <td>0385742118</td>\n",
       "      <td>Books</td>\n",
       "      <td>0896937852\u00021576737330\u0002160096074X\u00020307277259\u000215...</td>\n",
       "      <td>Books\u0002Books\u0002Books\u0002Books\u0002Books\u0002Books\u0002Books\u0002Book...</td>\n",
       "      <td>1880226618\u00021620327082\u00021416989536\u0002B00BMAQY70\u000214...</td>\n",
       "      <td>Books\u0002Books\u0002Books\u0002Drawing\u0002Books\u0002Books\u0002Books\u0002Ge...</td>\n",
       "    </tr>\n",
       "    <tr>\n",
       "      <th>59295</th>\n",
       "      <td>1</td>\n",
       "      <td>A3B8HDDUN7WA0H</td>\n",
       "      <td>B00GTT1JL0</td>\n",
       "      <td>Old Testament</td>\n",
       "      <td>0830745319\u00021401603998\u00020892216948\u00020849919622\u000203...</td>\n",
       "      <td>Books\u0002Books\u0002Books\u0002Books\u0002Books\u0002Books\u0002Books\u0002Book...</td>\n",
       "      <td>B00HTQNIH0\u0002B006TJDJKE\u0002B00FKEYK1Q\u00020758213174\u0002B0...</td>\n",
       "      <td>Mysteries &amp; Detectives\u0002Metaphysical\u0002Literature...</td>\n",
       "    </tr>\n",
       "    <tr>\n",
       "      <th>100466</th>\n",
       "      <td>0</td>\n",
       "      <td>A3C52KSMXXGPF9</td>\n",
       "      <td>0758227175</td>\n",
       "      <td>Books</td>\n",
       "      <td>0751327816\u00020471418048\u00020521553326\u0002093334693X\u000204...</td>\n",
       "      <td>Books\u0002Books\u0002Books\u0002Books\u0002Books\u0002Books\u0002Books\u0002Book...</td>\n",
       "      <td>0140437428\u0002B005ZI32JS\u00020380789337\u00021571892508\u000203...</td>\n",
       "      <td>Books\u0002Sleep\u0002Books\u0002Books\u0002Books\u0002Books\u0002Books\u0002Book...</td>\n",
       "    </tr>\n",
       "    <tr>\n",
       "      <th>41105</th>\n",
       "      <td>1</td>\n",
       "      <td>A3T590XHG6IIMX</td>\n",
       "      <td>1482689928</td>\n",
       "      <td>Books</td>\n",
       "      <td>0375838813\u00020451047117\u00020615421032\u00021493605852\u0002B0...</td>\n",
       "      <td>Books\u0002Books\u0002Books\u0002Books\u0002Horror\u0002Books</td>\n",
       "      <td>0316198935\u00021577316509\u0002B007K7ZGZU\u00020792253914\u000205...</td>\n",
       "      <td>Books\u0002Books\u0002Literature &amp; Fiction\u0002Books\u0002Books\u0002E...</td>\n",
       "    </tr>\n",
       "  </tbody>\n",
       "</table>\n",
       "</div>"
      ],
      "text/plain": [
       "        label             uid         mid            cat  \\\n",
       "17198       0  A2WK7Q3UG59GGY  0451409450          Books   \n",
       "84428       0   AP4QL9E0S7NTX  0385742118          Books   \n",
       "59295       1  A3B8HDDUN7WA0H  B00GTT1JL0  Old Testament   \n",
       "100466      0  A3C52KSMXXGPF9  0758227175          Books   \n",
       "41105       1  A3T590XHG6IIMX  1482689928          Books   \n",
       "\n",
       "                                                hist_mids  \\\n",
       "17198         0596517742\u00020141017872\u00020297848003\u00021591843626   \n",
       "84428   0896937852\u00021576737330\u0002160096074X\u00020307277259\u000215...   \n",
       "59295   0830745319\u00021401603998\u00020892216948\u00020849919622\u000203...   \n",
       "100466  0751327816\u00020471418048\u00020521553326\u0002093334693X\u000204...   \n",
       "41105   0375838813\u00020451047117\u00020615421032\u00021493605852\u0002B0...   \n",
       "\n",
       "                                                hist_cats  \\\n",
       "17198                             Books\u0002Books\u0002Books\u0002Books   \n",
       "84428   Books\u0002Books\u0002Books\u0002Books\u0002Books\u0002Books\u0002Books\u0002Book...   \n",
       "59295   Books\u0002Books\u0002Books\u0002Books\u0002Books\u0002Books\u0002Books\u0002Book...   \n",
       "100466  Books\u0002Books\u0002Books\u0002Books\u0002Books\u0002Books\u0002Books\u0002Book...   \n",
       "41105                Books\u0002Books\u0002Books\u0002Books\u0002Horror\u0002Books   \n",
       "\n",
       "                                            neg_hist_mids  \\\n",
       "17198         0634003143\u00020071800697\u00020300087071\u00021771013397   \n",
       "84428   1880226618\u00021620327082\u00021416989536\u0002B00BMAQY70\u000214...   \n",
       "59295   B00HTQNIH0\u0002B006TJDJKE\u0002B00FKEYK1Q\u00020758213174\u0002B0...   \n",
       "100466  0140437428\u0002B005ZI32JS\u00020380789337\u00021571892508\u000203...   \n",
       "41105   0316198935\u00021577316509\u0002B007K7ZGZU\u00020792253914\u000205...   \n",
       "\n",
       "                                            neg_hist_cats  \n",
       "17198                             Books\u0002Books\u0002Books\u0002Books  \n",
       "84428   Books\u0002Books\u0002Books\u0002Drawing\u0002Books\u0002Books\u0002Books\u0002Ge...  \n",
       "59295   Mysteries & Detectives\u0002Metaphysical\u0002Literature...  \n",
       "100466  Books\u0002Sleep\u0002Books\u0002Books\u0002Books\u0002Books\u0002Books\u0002Book...  \n",
       "41105   Books\u0002Books\u0002Literature & Fiction\u0002Books\u0002Books\u0002E...  "
      ]
     },
     "execution_count": 11,
     "metadata": {},
     "output_type": "execute_result"
    }
   ],
   "source": [
    "valid_df.head()"
   ]
  },
  {
   "cell_type": "markdown",
   "metadata": {},
   "source": [
    "# define features"
   ]
  },
  {
   "cell_type": "code",
   "execution_count": 12,
   "metadata": {},
   "outputs": [],
   "source": [
    "cat_enc = SequenceEncoder(sep=\"\\x02\", min_cnt=1, max_len=SEQ_MAX_LEN)"
   ]
  },
  {
   "cell_type": "code",
   "execution_count": 13,
   "metadata": {},
   "outputs": [
    {
     "data": {
      "text/plain": [
       "<prediction_flow.transformers.column.sequence_encoder.SequenceEncoder at 0x15dbaddd8>"
      ]
     },
     "execution_count": 13,
     "metadata": {},
     "output_type": "execute_result"
    }
   ],
   "source": [
    "cat_enc.fit(train_df.hist_cats.values)"
   ]
  },
  {
   "cell_type": "code",
   "execution_count": 14,
   "metadata": {},
   "outputs": [],
   "source": [
    "cat_word2idx, cat_idx2word = cat_enc.word2idx, cat_enc.idx2word"
   ]
  },
  {
   "cell_type": "code",
   "execution_count": 15,
   "metadata": {},
   "outputs": [
    {
     "name": "stdout",
     "output_type": "stream",
     "text": [
      "299\n"
     ]
    }
   ],
   "source": [
    "print(len(cat_word2idx))"
   ]
  },
  {
   "cell_type": "code",
   "execution_count": 16,
   "metadata": {},
   "outputs": [],
   "source": [
    "mid_enc = SequenceEncoder(sep=\"\\x02\", min_cnt=1, max_len=SEQ_MAX_LEN)"
   ]
  },
  {
   "cell_type": "code",
   "execution_count": 17,
   "metadata": {},
   "outputs": [
    {
     "data": {
      "text/plain": [
       "<prediction_flow.transformers.column.sequence_encoder.SequenceEncoder at 0x15dbc3748>"
      ]
     },
     "execution_count": 17,
     "metadata": {},
     "output_type": "execute_result"
    }
   ],
   "source": [
    "mid_enc.fit(np.vstack([train_df.mid.values, train_df.hist_mids.values]))"
   ]
  },
  {
   "cell_type": "code",
   "execution_count": 18,
   "metadata": {},
   "outputs": [],
   "source": [
    "mid_word2idx, mid_idx2word = mid_enc.word2idx, mid_enc.idx2word"
   ]
  },
  {
   "cell_type": "code",
   "execution_count": 19,
   "metadata": {},
   "outputs": [
    {
     "name": "stdout",
     "output_type": "stream",
     "text": [
      "13570\n"
     ]
    }
   ],
   "source": [
    "print(len(mid_word2idx))"
   ]
  },
  {
   "cell_type": "code",
   "execution_count": 20,
   "metadata": {},
   "outputs": [],
   "source": [
    "number_features = []\n",
    "\n",
    "category_features = [\n",
    "    Category('mid',\n",
    "             CategoryEncoder(min_cnt=1, word2idx=mid_word2idx, idx2word=mid_idx2word),\n",
    "             embedding_name='mid'),\n",
    "    Category('cat',\n",
    "             CategoryEncoder(min_cnt=1, word2idx=cat_word2idx, idx2word=cat_idx2word),\n",
    "             embedding_name='cat'),\n",
    "]\n",
    "\n",
    "sequence_features = [\n",
    "    Sequence('hist_mids',\n",
    "             SequenceEncoder(sep=\"\\x02\", min_cnt=1, max_len=SEQ_MAX_LEN,\n",
    "                             word2idx=mid_word2idx, idx2word=mid_idx2word),\n",
    "             embedding_name='mid'),\n",
    "    Sequence('hist_cats',\n",
    "             SequenceEncoder(sep=\"\\x02\", min_cnt=1, max_len=SEQ_MAX_LEN,\n",
    "                             word2idx=cat_word2idx, idx2word=cat_idx2word),\n",
    "             embedding_name='cat')\n",
    "]\n",
    "\n",
    "features, train_loader, valid_loader = create_dataloader_fn(\n",
    "    number_features, category_features, sequence_features, BATCH_SIZE, train_df, 'label', valid_df, 4)"
   ]
  },
  {
   "cell_type": "code",
   "execution_count": 21,
   "metadata": {},
   "outputs": [],
   "source": [
    "def evaluation(model, df, dataloader):\n",
    "    preds = predict(model, dataloader)\n",
    "    return roc_auc_score(df['label'], preds.ravel())"
   ]
  },
  {
   "cell_type": "code",
   "execution_count": 38,
   "metadata": {},
   "outputs": [],
   "source": [
    "import pytorch_lightning as pl\n",
    "\n",
    "class CoolModel(pl.LightningModule):\n",
    "    def __init__(self):\n",
    "        super(CoolModel, self).__init__()\n",
    "        self.model = DNN(\n",
    "            features,\n",
    "            2,\n",
    "            EMBEDDING_DIM,\n",
    "            DNN_HIDDEN_SIZE,\n",
    "            final_activation='sigmoid',\n",
    "            dropout=DNN_DROPOUT)\n",
    "    \n",
    "    def forward(self, x):\n",
    "        return self.model(x)\n",
    "\n",
    "    def training_step(self, batch, batch_nb):\n",
    "        # REQUIRED\n",
    "        y = batch['label']\n",
    "        y_hat = self.forward(batch)\n",
    "        loss = F.binary_cross_entropy(y_hat, y)\n",
    "        return {\n",
    "            'loss': loss,\n",
    "            'progress_bar':\n",
    "            {'training_loss': loss}}\n",
    "\n",
    "    def validation_step(self, batch, batch_nb):\n",
    "        # OPTIONAL\n",
    "        y = batch['label']\n",
    "        y_hat = self.forward(batch)\n",
    "        loss = F.binary_cross_entropy(y_hat, y)\n",
    "        return {'val_loss': loss}\n",
    "\n",
    "    def validation_end(self, outputs):\n",
    "        # OPTIONAL\n",
    "        avg_loss = torch.stack([x['val_loss'] for x in outputs]).mean()\n",
    "        return {'progress_bar': {'val_loss': avg_loss}}\n",
    "\n",
    "    def configure_optimizers(self):\n",
    "        # REQUIRED\n",
    "        return torch.optim.Adam(self.parameters(), lr=0.003)\n",
    "\n",
    "    @pl.data_loader\n",
    "    def train_dataloader(self):\n",
    "        return train_loader\n",
    "\n",
    "    @pl.data_loader\n",
    "    def val_dataloader(self):\n",
    "        # OPTIONAL\n",
    "        # can also return a list of val dataloaders\n",
    "        return valid_loader"
   ]
  },
  {
   "cell_type": "code",
   "execution_count": 41,
   "metadata": {},
   "outputs": [],
   "source": [
    "from pytorch_lightning import Trainer\n",
    "\n",
    "model = CoolModel()\n",
    "\n",
    "# most basic trainer, uses good defaults\n",
    "trainer = Trainer(max_nb_epochs=5)    "
   ]
  },
  {
   "cell_type": "code",
   "execution_count": 42,
   "metadata": {},
   "outputs": [
    {
     "name": "stderr",
     "output_type": "stream",
     "text": [
      "  0%|          | 0/5 [00:00<?, ?it/s]"
     ]
    },
    {
     "name": "stdout",
     "output_type": "stream",
     "text": [
      "                                 Name         Type Params\n",
      "0                               model          DNN  280 K\n",
      "1                 model.embedding:mid    Embedding  244 K\n",
      "2                 model.embedding:cat    Embedding    5 K\n",
      "3             model.pooling:hist_mids   MaxPooling    0  \n",
      "4             model.pooling:hist_cats   MaxPooling    0  \n",
      "5                           model.mlp          MLP   31 K\n",
      "6               model.mlp._sequential   Sequential   31 K\n",
      "7        model.mlp._sequential.dense0       Linear   14 K\n",
      "8    model.mlp._sequential.batchnorm0  BatchNorm1d  400  \n",
      "9   model.mlp._sequential.activation0         ReLU    0  \n",
      "10       model.mlp._sequential.dense1       Linear   16 K\n",
      "11   model.mlp._sequential.batchnorm1  BatchNorm1d  160  \n",
      "12  model.mlp._sequential.activation1         ReLU    0  \n",
      "13                  model.final_layer       Linear   81  \n"
     ]
    },
    {
     "name": "stderr",
     "output_type": "stream",
     "text": [
      "100%|██████████| 16/16 [00:00<00:00, 37.40it/s, batch_nb=7, epoch=19, loss=0.046, training_loss=0.00538, v_nb=7, val_loss=1.39]"
     ]
    },
    {
     "data": {
      "text/plain": [
       "1"
      ]
     },
     "execution_count": 42,
     "metadata": {},
     "output_type": "execute_result"
    },
    {
     "name": "stderr",
     "output_type": "stream",
     "text": [
      "100%|██████████| 16/16 [00:14<00:00, 37.40it/s, batch_nb=7, epoch=19, loss=0.046, training_loss=0.00538, v_nb=7, val_loss=1.39]"
     ]
    }
   ],
   "source": [
    "trainer.fit(model)"
   ]
  },
  {
   "cell_type": "code",
   "execution_count": 44,
   "metadata": {},
   "outputs": [],
   "source": [
    "score = evaluation(model, valid_df, valid_loader)"
   ]
  },
  {
   "cell_type": "code",
   "execution_count": 46,
   "metadata": {},
   "outputs": [
    {
     "name": "stdout",
     "output_type": "stream",
     "text": [
      "auc: 0.5041570364663586\n"
     ]
    }
   ],
   "source": [
    "print(f'auc: {score}')"
   ]
  },
  {
   "cell_type": "code",
   "execution_count": null,
   "metadata": {},
   "outputs": [],
   "source": []
  }
 ],
 "metadata": {
  "kernelspec": {
   "display_name": "Python 3",
   "language": "python",
   "name": "python3"
  },
  "language_info": {
   "codemirror_mode": {
    "name": "ipython",
    "version": 3
   },
   "file_extension": ".py",
   "mimetype": "text/x-python",
   "name": "python",
   "nbconvert_exporter": "python",
   "pygments_lexer": "ipython3",
   "version": "3.6.6"
  }
 },
 "nbformat": 4,
 "nbformat_minor": 2
}
