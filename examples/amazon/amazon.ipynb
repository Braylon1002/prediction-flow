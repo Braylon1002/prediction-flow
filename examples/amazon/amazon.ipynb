{
 "cells": [
  {
   "cell_type": "markdown",
   "metadata": {},
   "source": [
    "# script to do experiments described in paper: Deep Interest Evolution Network for Click-Through Rate Prediction\n",
    "\n",
    "## how to run\n",
    "please download data.tar.gz, data1.tar.gz and data2.tar.gz from https://github.com/mouna99/dien and decompress them to the same folder with this script.\n"
   ]
  },
  {
   "cell_type": "code",
   "execution_count": 1,
   "metadata": {},
   "outputs": [],
   "source": [
    "SEQ_MAX_LEN = 100 # maximum sequence length\n",
    "BATCH_SIZE = 128\n",
    "MBEDDING_DIM = 18\n",
    "DNN_HIDDEN_SIZE = [200, 80]\n",
    "DNN_DROPOUT = 0.0\n",
    "TEST_RUN = False\n",
    "EPOCH = 1"
   ]
  },
  {
   "cell_type": "code",
   "execution_count": 2,
   "metadata": {},
   "outputs": [],
   "source": [
    "%matplotlib inline\n",
    "\n",
    "import itertools\n",
    "from collections import Counter\n",
    "\n",
    "import numpy as np\n",
    "import pandas as pd\n",
    "\n",
    "import torch\n",
    "import torch.nn as nn\n",
    "import torch.optim as optim\n",
    "import torch.nn.functional as F\n",
    "from sklearn.metrics import roc_auc_score\n",
    "\n",
    "from prediction_flow.features import Number, Category, Sequence, Features\n",
    "from prediction_flow.transformers.column import (\n",
    "    StandardScaler, CategoryEncoder, SequenceEncoder)\n",
    "\n",
    "from prediction_flow.pytorch.data import Dataset\n",
    "from prediction_flow.pytorch import WideDeep, DeepFM, DNN, DIN, DIEN, AttentionGroup, EmbeddingRef\n",
    "\n",
    "from prediction_flow.pytorch.functions import fit, predict, create_dataloader_fn"
   ]
  },
  {
   "cell_type": "code",
   "execution_count": 3,
   "metadata": {},
   "outputs": [],
   "source": [
    "train_df = pd.read_csv(\n",
    "    \"./local_train.csv\", sep='\\t')\n",
    "\n",
    "valid_df = pd.read_csv(\n",
    "    \"./local_test.csv\", sep='\\t')"
   ]
  },
  {
   "cell_type": "code",
   "execution_count": 4,
   "metadata": {},
   "outputs": [],
   "source": [
    "if TEST_RUN:\n",
    "    train_df = train_df.sample(1000)\n",
    "    valid_df = valid_df.sample(1000)"
   ]
  },
  {
   "cell_type": "code",
   "execution_count": 5,
   "metadata": {},
   "outputs": [
    {
     "data": {
      "text/html": [
       "<div>\n",
       "<style scoped>\n",
       "    .dataframe tbody tr th:only-of-type {\n",
       "        vertical-align: middle;\n",
       "    }\n",
       "\n",
       "    .dataframe tbody tr th {\n",
       "        vertical-align: top;\n",
       "    }\n",
       "\n",
       "    .dataframe thead th {\n",
       "        text-align: right;\n",
       "    }\n",
       "</style>\n",
       "<table border=\"1\" class=\"dataframe\">\n",
       "  <thead>\n",
       "    <tr style=\"text-align: right;\">\n",
       "      <th></th>\n",
       "      <th>label</th>\n",
       "      <th>uid</th>\n",
       "      <th>mid</th>\n",
       "      <th>cat</th>\n",
       "      <th>hist_mids</th>\n",
       "      <th>hist_cats</th>\n",
       "      <th>neg_hist_mids</th>\n",
       "      <th>neg_hist_cats</th>\n",
       "    </tr>\n",
       "  </thead>\n",
       "  <tbody>\n",
       "    <tr>\n",
       "      <th>840224</th>\n",
       "      <td>0</td>\n",
       "      <td>A21T1KXN9MOBWL</td>\n",
       "      <td>1577782100</td>\n",
       "      <td>Books</td>\n",
       "      <td>1908147016\u0002B00APARP6M\u0002B00DUUMC8U\u00020982582900</td>\n",
       "      <td>Books\u0002Historical\u0002Biographical\u0002Books</td>\n",
       "      <td>0765326574\u00020553560921\u00020970402902\u00021935711121</td>\n",
       "      <td>Books\u0002Books\u0002Books\u0002Books</td>\n",
       "    </tr>\n",
       "    <tr>\n",
       "      <th>444413</th>\n",
       "      <td>1</td>\n",
       "      <td>A1IITSYATPP1OW</td>\n",
       "      <td>1499646704</td>\n",
       "      <td>Books</td>\n",
       "      <td>1476718202\u00021491276029\u0002B00DRL96CC\u00020992142202\u000214...</td>\n",
       "      <td>Books\u0002Books\u0002Literature &amp; Fiction\u0002Books\u0002Books\u0002B...</td>\n",
       "      <td>B00L70DD2E\u00021601625375\u00021463607946\u00020345298632\u000209...</td>\n",
       "      <td>Weight Loss\u0002Books\u0002Books\u0002Books\u0002Books\u0002Books\u0002Books</td>\n",
       "    </tr>\n",
       "    <tr>\n",
       "      <th>51871</th>\n",
       "      <td>1</td>\n",
       "      <td>A9GY8PLOTA94I</td>\n",
       "      <td>141448125X</td>\n",
       "      <td>Books</td>\n",
       "      <td>0825425379\u00020060514957\u00020805098542\u00020606238409\u000207...</td>\n",
       "      <td>Books\u0002Books\u0002Books\u0002Books\u0002Books\u0002Books\u0002Books\u0002Book...</td>\n",
       "      <td>1590527488\u00020670059218\u00021936608588\u00020615505791\u000216...</td>\n",
       "      <td>Books\u0002Books\u0002Books\u0002Books\u0002Books\u0002Books\u0002Books\u0002Book...</td>\n",
       "    </tr>\n",
       "    <tr>\n",
       "      <th>575727</th>\n",
       "      <td>1</td>\n",
       "      <td>A2T9MK9KT26RRR</td>\n",
       "      <td>0671318373</td>\n",
       "      <td>Books</td>\n",
       "      <td>B00760GICG\u00020553384031\u00020316069159\u00020393325970\u000205...</td>\n",
       "      <td>Literature &amp; Fiction\u0002Books\u0002Books\u0002Books\u0002Books\u0002B...</td>\n",
       "      <td>0793584973\u0002B00B0XERBE\u00020972838708\u00020333718291\u000214...</td>\n",
       "      <td>Books\u0002Literature &amp; Fiction\u0002Books\u0002Books\u0002Books\u0002B...</td>\n",
       "    </tr>\n",
       "    <tr>\n",
       "      <th>254549</th>\n",
       "      <td>1</td>\n",
       "      <td>A1Q5JZF6CBQ1PM</td>\n",
       "      <td>1495979237</td>\n",
       "      <td>Books</td>\n",
       "      <td>1938404009\u00021476735247\u00020425265951\u0002042526596X\u000214...</td>\n",
       "      <td>Books\u0002Books\u0002Books\u0002Books\u0002Books\u0002Books\u0002Books\u0002Book...</td>\n",
       "      <td>1423107233\u0002B0094Z4NIC\u00021600594654\u00020345404769\u000204...</td>\n",
       "      <td>Books\u0002Contemporary Women\u0002Books\u0002Books\u0002Books\u0002Boo...</td>\n",
       "    </tr>\n",
       "  </tbody>\n",
       "</table>\n",
       "</div>"
      ],
      "text/plain": [
       "        label             uid         mid    cat  \\\n",
       "840224      0  A21T1KXN9MOBWL  1577782100  Books   \n",
       "444413      1  A1IITSYATPP1OW  1499646704  Books   \n",
       "51871       1   A9GY8PLOTA94I  141448125X  Books   \n",
       "575727      1  A2T9MK9KT26RRR  0671318373  Books   \n",
       "254549      1  A1Q5JZF6CBQ1PM  1495979237  Books   \n",
       "\n",
       "                                                hist_mids  \\\n",
       "840224        1908147016\u0002B00APARP6M\u0002B00DUUMC8U\u00020982582900   \n",
       "444413  1476718202\u00021491276029\u0002B00DRL96CC\u00020992142202\u000214...   \n",
       "51871   0825425379\u00020060514957\u00020805098542\u00020606238409\u000207...   \n",
       "575727  B00760GICG\u00020553384031\u00020316069159\u00020393325970\u000205...   \n",
       "254549  1938404009\u00021476735247\u00020425265951\u0002042526596X\u000214...   \n",
       "\n",
       "                                                hist_cats  \\\n",
       "840224                Books\u0002Historical\u0002Biographical\u0002Books   \n",
       "444413  Books\u0002Books\u0002Literature & Fiction\u0002Books\u0002Books\u0002B...   \n",
       "51871   Books\u0002Books\u0002Books\u0002Books\u0002Books\u0002Books\u0002Books\u0002Book...   \n",
       "575727  Literature & Fiction\u0002Books\u0002Books\u0002Books\u0002Books\u0002B...   \n",
       "254549  Books\u0002Books\u0002Books\u0002Books\u0002Books\u0002Books\u0002Books\u0002Book...   \n",
       "\n",
       "                                            neg_hist_mids  \\\n",
       "840224        0765326574\u00020553560921\u00020970402902\u00021935711121   \n",
       "444413  B00L70DD2E\u00021601625375\u00021463607946\u00020345298632\u000209...   \n",
       "51871   1590527488\u00020670059218\u00021936608588\u00020615505791\u000216...   \n",
       "575727  0793584973\u0002B00B0XERBE\u00020972838708\u00020333718291\u000214...   \n",
       "254549  1423107233\u0002B0094Z4NIC\u00021600594654\u00020345404769\u000204...   \n",
       "\n",
       "                                            neg_hist_cats  \n",
       "840224                            Books\u0002Books\u0002Books\u0002Books  \n",
       "444413    Weight Loss\u0002Books\u0002Books\u0002Books\u0002Books\u0002Books\u0002Books  \n",
       "51871   Books\u0002Books\u0002Books\u0002Books\u0002Books\u0002Books\u0002Books\u0002Book...  \n",
       "575727  Books\u0002Literature & Fiction\u0002Books\u0002Books\u0002Books\u0002B...  \n",
       "254549  Books\u0002Contemporary Women\u0002Books\u0002Books\u0002Books\u0002Boo...  "
      ]
     },
     "execution_count": 5,
     "metadata": {},
     "output_type": "execute_result"
    }
   ],
   "source": [
    "train_df.head()"
   ]
  },
  {
   "cell_type": "code",
   "execution_count": 6,
   "metadata": {},
   "outputs": [
    {
     "data": {
      "text/html": [
       "<div>\n",
       "<style scoped>\n",
       "    .dataframe tbody tr th:only-of-type {\n",
       "        vertical-align: middle;\n",
       "    }\n",
       "\n",
       "    .dataframe tbody tr th {\n",
       "        vertical-align: top;\n",
       "    }\n",
       "\n",
       "    .dataframe thead th {\n",
       "        text-align: right;\n",
       "    }\n",
       "</style>\n",
       "<table border=\"1\" class=\"dataframe\">\n",
       "  <thead>\n",
       "    <tr style=\"text-align: right;\">\n",
       "      <th></th>\n",
       "      <th>label</th>\n",
       "      <th>uid</th>\n",
       "      <th>mid</th>\n",
       "      <th>cat</th>\n",
       "      <th>hist_mids</th>\n",
       "      <th>hist_cats</th>\n",
       "      <th>neg_hist_mids</th>\n",
       "      <th>neg_hist_cats</th>\n",
       "    </tr>\n",
       "  </thead>\n",
       "  <tbody>\n",
       "    <tr>\n",
       "      <th>46841</th>\n",
       "      <td>1</td>\n",
       "      <td>A1AEK70KPFQQFB</td>\n",
       "      <td>0781758513</td>\n",
       "      <td>Books</td>\n",
       "      <td>0060847344\u00020061138371\u00020061363847\u00020323066607</td>\n",
       "      <td>Books\u0002Books\u0002Books\u0002Books</td>\n",
       "      <td>B00G3GNUXO\u00020615898491\u00021930004818\u00021603582649</td>\n",
       "      <td>United States\u0002Books\u0002Books\u0002Books</td>\n",
       "    </tr>\n",
       "    <tr>\n",
       "      <th>52846</th>\n",
       "      <td>0</td>\n",
       "      <td>AUTQ8523N1DD</td>\n",
       "      <td>1476783284</td>\n",
       "      <td>Books</td>\n",
       "      <td>1420103423\u00021420110373\u00020786021365\u00020446559245</td>\n",
       "      <td>Books\u0002Books\u0002Books\u0002Books</td>\n",
       "      <td>0505525755\u00021884313469\u00021605294225\u00021573441449</td>\n",
       "      <td>Books\u0002Books\u0002Books\u0002Books</td>\n",
       "    </tr>\n",
       "    <tr>\n",
       "      <th>32948</th>\n",
       "      <td>0</td>\n",
       "      <td>A28J1OWDX35U77</td>\n",
       "      <td>0778315568</td>\n",
       "      <td>Books</td>\n",
       "      <td>0446392308\u00020898621992\u00020345432282\u00020060574534\u000215...</td>\n",
       "      <td>Books\u0002Books\u0002Books\u0002Books\u0002Books\u0002Books\u0002Books\u0002Books</td>\n",
       "      <td>1455509566\u00021400071496\u00020786303611\u00020440506832\u000214...</td>\n",
       "      <td>Books\u0002Books\u0002Books\u0002Books\u0002Books\u0002Literature &amp; Fic...</td>\n",
       "    </tr>\n",
       "    <tr>\n",
       "      <th>66158</th>\n",
       "      <td>0</td>\n",
       "      <td>AFX1VHGZKFGWV</td>\n",
       "      <td>1455510084</td>\n",
       "      <td>Books</td>\n",
       "      <td>0425257274\u00020425257282\u00020061348171\u00020140621199\u000205...</td>\n",
       "      <td>Books\u0002Books\u0002Books\u0002Books\u0002Books</td>\n",
       "      <td>1600661297\u00020375714472\u0002B009VM0L8E\u0002159059908X\u000200...</td>\n",
       "      <td>Books\u0002Books\u0002Contemporary\u0002Books\u0002Books</td>\n",
       "    </tr>\n",
       "    <tr>\n",
       "      <th>50146</th>\n",
       "      <td>0</td>\n",
       "      <td>A2RQDQWUUKMAQ0</td>\n",
       "      <td>0545096766</td>\n",
       "      <td>Books</td>\n",
       "      <td>0983196338\u00020307387135\u00020061147958\u0002031257164X\u000204...</td>\n",
       "      <td>Books\u0002Books\u0002Books\u0002Books\u0002Books\u0002Books\u0002Single Aut...</td>\n",
       "      <td>0741474530\u00020425217213\u00020345456300\u0002048623908X\u0002B0...</td>\n",
       "      <td>Books\u0002Books\u0002Books\u0002Books\u0002Individual Artists\u0002Boo...</td>\n",
       "    </tr>\n",
       "  </tbody>\n",
       "</table>\n",
       "</div>"
      ],
      "text/plain": [
       "       label             uid         mid    cat  \\\n",
       "46841      1  A1AEK70KPFQQFB  0781758513  Books   \n",
       "52846      0    AUTQ8523N1DD  1476783284  Books   \n",
       "32948      0  A28J1OWDX35U77  0778315568  Books   \n",
       "66158      0   AFX1VHGZKFGWV  1455510084  Books   \n",
       "50146      0  A2RQDQWUUKMAQ0  0545096766  Books   \n",
       "\n",
       "                                               hist_mids  \\\n",
       "46841        0060847344\u00020061138371\u00020061363847\u00020323066607   \n",
       "52846        1420103423\u00021420110373\u00020786021365\u00020446559245   \n",
       "32948  0446392308\u00020898621992\u00020345432282\u00020060574534\u000215...   \n",
       "66158  0425257274\u00020425257282\u00020061348171\u00020140621199\u000205...   \n",
       "50146  0983196338\u00020307387135\u00020061147958\u0002031257164X\u000204...   \n",
       "\n",
       "                                               hist_cats  \\\n",
       "46841                            Books\u0002Books\u0002Books\u0002Books   \n",
       "52846                            Books\u0002Books\u0002Books\u0002Books   \n",
       "32948    Books\u0002Books\u0002Books\u0002Books\u0002Books\u0002Books\u0002Books\u0002Books   \n",
       "66158                      Books\u0002Books\u0002Books\u0002Books\u0002Books   \n",
       "50146  Books\u0002Books\u0002Books\u0002Books\u0002Books\u0002Books\u0002Single Aut...   \n",
       "\n",
       "                                           neg_hist_mids  \\\n",
       "46841        B00G3GNUXO\u00020615898491\u00021930004818\u00021603582649   \n",
       "52846        0505525755\u00021884313469\u00021605294225\u00021573441449   \n",
       "32948  1455509566\u00021400071496\u00020786303611\u00020440506832\u000214...   \n",
       "66158  1600661297\u00020375714472\u0002B009VM0L8E\u0002159059908X\u000200...   \n",
       "50146  0741474530\u00020425217213\u00020345456300\u0002048623908X\u0002B0...   \n",
       "\n",
       "                                           neg_hist_cats  \n",
       "46841                    United States\u0002Books\u0002Books\u0002Books  \n",
       "52846                            Books\u0002Books\u0002Books\u0002Books  \n",
       "32948  Books\u0002Books\u0002Books\u0002Books\u0002Books\u0002Literature & Fic...  \n",
       "66158               Books\u0002Books\u0002Contemporary\u0002Books\u0002Books  \n",
       "50146  Books\u0002Books\u0002Books\u0002Books\u0002Individual Artists\u0002Boo...  "
      ]
     },
     "execution_count": 6,
     "metadata": {},
     "output_type": "execute_result"
    }
   ],
   "source": [
    "valid_df.head()"
   ]
  },
  {
   "cell_type": "markdown",
   "metadata": {},
   "source": [
    "# EDA"
   ]
  },
  {
   "cell_type": "code",
   "execution_count": 7,
   "metadata": {},
   "outputs": [],
   "source": [
    "def scale_eda(df):\n",
    "    print(df.shape)\n",
    "    print(df.uid.nunique())\n",
    "    print(df.mid.nunique())\n",
    "    print(df.groupby('label', as_index=False).uid.count())"
   ]
  },
  {
   "cell_type": "code",
   "execution_count": 8,
   "metadata": {},
   "outputs": [
    {
     "name": "stdout",
     "output_type": "stream",
     "text": [
      "(1000, 8)\n",
      "1000\n",
      "987\n",
      "   label  uid\n",
      "0      0  510\n",
      "1      1  490\n",
      "(1000, 8)\n",
      "997\n",
      "987\n",
      "   label  uid\n",
      "0      0  506\n",
      "1      1  494\n"
     ]
    }
   ],
   "source": [
    "scale_eda(train_df)\n",
    "scale_eda(valid_df)"
   ]
  },
  {
   "cell_type": "code",
   "execution_count": 9,
   "metadata": {},
   "outputs": [
    {
     "data": {
      "text/plain": [
       "['1908147016', 'B00APARP6M', 'B00DUUMC8U', '0982582900']"
      ]
     },
     "execution_count": 9,
     "metadata": {},
     "output_type": "execute_result"
    }
   ],
   "source": [
    "train_df.values[0][4].split(\"\u0002\")"
   ]
  },
  {
   "cell_type": "markdown",
   "metadata": {},
   "source": [
    "**This data set is well balanced. Each user has two samples, pos sample and neg sample.**"
   ]
  },
  {
   "cell_type": "code",
   "execution_count": 10,
   "metadata": {},
   "outputs": [],
   "source": [
    "unique_cats = Counter(train_df.cat.values.tolist())"
   ]
  },
  {
   "cell_type": "code",
   "execution_count": 11,
   "metadata": {},
   "outputs": [],
   "source": [
    "unique_cats_in_hist = Counter(\n",
    "    itertools.chain(*train_df.hist_cats.apply(lambda x: x.split(\"\u0002\")).values.tolist()))"
   ]
  },
  {
   "cell_type": "code",
   "execution_count": 12,
   "metadata": {},
   "outputs": [
    {
     "name": "stdout",
     "output_type": "stream",
     "text": [
      "65 251 49\n"
     ]
    }
   ],
   "source": [
    "print(len(unique_cats), len(unique_cats_in_hist),\n",
    "      len(np.intersect1d(list(unique_cats.keys()), list(unique_cats_in_hist.keys()))))"
   ]
  },
  {
   "cell_type": "markdown",
   "metadata": {},
   "source": [
    "**All categorys also appear in history categorys.**"
   ]
  },
  {
   "cell_type": "code",
   "execution_count": 13,
   "metadata": {},
   "outputs": [],
   "source": [
    "unique_mids = Counter(train_df.mid.values.tolist())"
   ]
  },
  {
   "cell_type": "code",
   "execution_count": 14,
   "metadata": {},
   "outputs": [],
   "source": [
    "unique_mids_in_hist = Counter(\n",
    "    itertools.chain(*train_df.hist_mids.apply(lambda x: x.split(\"\u0002\")).values.tolist()))"
   ]
  },
  {
   "cell_type": "code",
   "execution_count": 15,
   "metadata": {},
   "outputs": [
    {
     "name": "stdout",
     "output_type": "stream",
     "text": [
      "987 12329 147\n"
     ]
    }
   ],
   "source": [
    "print(len(unique_mids), len(unique_mids_in_hist),\n",
    "      len(np.intersect1d(list(unique_mids.keys()), list(unique_mids_in_hist.keys()))))"
   ]
  },
  {
   "cell_type": "markdown",
   "metadata": {},
   "source": [
    "**Most mids appears in history mids.**"
   ]
  },
  {
   "cell_type": "code",
   "execution_count": 16,
   "metadata": {},
   "outputs": [
    {
     "name": "stdout",
     "output_type": "stream",
     "text": [
      "There are 2.43161094224924% mid overlap between train and valid\n"
     ]
    }
   ],
   "source": [
    "print(\"There are {}% mid overlap between train and valid\".format(\n",
    "    100 * len(np.intersect1d(train_df.mid.unique(), valid_df.mid.unique())) / len(valid_df.mid.unique())))"
   ]
  },
  {
   "cell_type": "code",
   "execution_count": 17,
   "metadata": {},
   "outputs": [
    {
     "name": "stdout",
     "output_type": "stream",
     "text": [
      "There are 45.0% mid overlap between train and valid\n"
     ]
    }
   ],
   "source": [
    "print(\"There are {}% mid overlap between train and valid\".format(\n",
    "    100 * len(np.intersect1d(train_df.cat.unique(), valid_df.cat.unique())) / len(valid_df.cat.unique())))"
   ]
  },
  {
   "cell_type": "markdown",
   "metadata": {},
   "source": [
    "# define features"
   ]
  },
  {
   "cell_type": "code",
   "execution_count": 18,
   "metadata": {},
   "outputs": [],
   "source": [
    "cat_enc = SequenceEncoder(sep=\"\u0002\", min_cnt=1, max_len=SEQ_MAX_LEN)"
   ]
  },
  {
   "cell_type": "code",
   "execution_count": 19,
   "metadata": {},
   "outputs": [
    {
     "data": {
      "text/plain": [
       "<prediction_flow.transformers.column.sequence_encoder.SequenceEncoder at 0x14c1e9550>"
      ]
     },
     "execution_count": 19,
     "metadata": {},
     "output_type": "execute_result"
    }
   ],
   "source": [
    "cat_enc.fit(train_df.hist_cats.values)"
   ]
  },
  {
   "cell_type": "code",
   "execution_count": 20,
   "metadata": {},
   "outputs": [],
   "source": [
    "cat_word2idx, cat_idx2word = cat_enc.word2idx, cat_enc.idx2word"
   ]
  },
  {
   "cell_type": "code",
   "execution_count": 21,
   "metadata": {},
   "outputs": [
    {
     "name": "stdout",
     "output_type": "stream",
     "text": [
      "253\n"
     ]
    }
   ],
   "source": [
    "print(len(cat_word2idx))"
   ]
  },
  {
   "cell_type": "code",
   "execution_count": 22,
   "metadata": {},
   "outputs": [],
   "source": [
    "mid_enc = SequenceEncoder(sep=\"\u0002\", min_cnt=1, max_len=SEQ_MAX_LEN)"
   ]
  },
  {
   "cell_type": "code",
   "execution_count": 23,
   "metadata": {},
   "outputs": [
    {
     "data": {
      "text/plain": [
       "<prediction_flow.transformers.column.sequence_encoder.SequenceEncoder at 0x14a375da0>"
      ]
     },
     "execution_count": 23,
     "metadata": {},
     "output_type": "execute_result"
    }
   ],
   "source": [
    "mid_enc.fit(np.vstack([train_df.mid.values, train_df.hist_mids.values]))"
   ]
  },
  {
   "cell_type": "code",
   "execution_count": 24,
   "metadata": {},
   "outputs": [],
   "source": [
    "mid_word2idx, mid_idx2word = mid_enc.word2idx, mid_enc.idx2word"
   ]
  },
  {
   "cell_type": "code",
   "execution_count": 25,
   "metadata": {},
   "outputs": [
    {
     "name": "stdout",
     "output_type": "stream",
     "text": [
      "13171\n"
     ]
    }
   ],
   "source": [
    "print(len(mid_word2idx))"
   ]
  },
  {
   "cell_type": "code",
   "execution_count": 26,
   "metadata": {},
   "outputs": [],
   "source": [
    "number_features = []\n",
    "\n",
    "category_features = [\n",
    "    Category('mid', CategoryEncoder(min_cnt=1, word2idx=mid_word2idx, idx2word=mid_idx2word)),\n",
    "    Category('cat', CategoryEncoder(min_cnt=1, word2idx=cat_word2idx, idx2word=cat_idx2word)),\n",
    "]\n",
    "\n",
    "sequence_features = [\n",
    "    Sequence('hist_mids', SequenceEncoder(sep=\"\u0002\", min_cnt=1, max_len=SEQ_MAX_LEN,\n",
    "                                          word2idx=mid_word2idx, idx2word=mid_idx2word)),\n",
    "    Sequence('hist_cats', SequenceEncoder(sep=\"\u0002\", min_cnt=1, max_len=SEQ_MAX_LEN,\n",
    "                                          word2idx=cat_word2idx, idx2word=cat_idx2word))\n",
    "]\n",
    "\n",
    "features, train_loader, valid_loader = create_dataloader_fn(\n",
    "    number_features, category_features, sequence_features, BATCH_SIZE, train_df, 'label', valid_df, 4)"
   ]
  },
  {
   "cell_type": "code",
   "execution_count": 27,
   "metadata": {},
   "outputs": [],
   "source": [
    "def evaluation(df, dataloader):\n",
    "    preds = predict(model, dataloader)\n",
    "    return roc_auc_score(df['label'], preds.ravel())"
   ]
  },
  {
   "cell_type": "code",
   "execution_count": 28,
   "metadata": {},
   "outputs": [],
   "source": [
    "embedding_ref = EmbeddingRef(\n",
    "    {'hist_mids': 'mid', 'hist_cats': 'cat'})\n",
    "\n",
    "din_attention_groups = [\n",
    "    AttentionGroup(\n",
    "        name='group1',\n",
    "        pairs=[{'ad': 'mid', 'pos_hist': 'hist_mids'},\n",
    "               {'ad': 'cat', 'pos_hist': 'hist_cats'}],\n",
    "        hidden_layers=[80, 40], att_dropout=0.0)]\n",
    "\n",
    "gru_attention_groups = [\n",
    "    AttentionGroup(\n",
    "        name='group1',\n",
    "        pairs=[{'ad': 'mid', 'pos_hist': 'hist_mids'},\n",
    "               {'ad': 'cat', 'pos_hist': 'hist_cats'}],\n",
    "        hidden_layers=[80, 40], att_dropout=0.0, gru_type='GRU')]\n",
    "\n",
    "aigru_attention_groups = [\n",
    "    AttentionGroup(\n",
    "        name='group1',\n",
    "        pairs=[{'ad': 'mid', 'pos_hist': 'hist_mids'},\n",
    "               {'ad': 'cat', 'pos_hist': 'hist_cats'}],\n",
    "        hidden_layers=[80, 40], att_dropout=0.0, gru_type='AIGRU')]\n",
    "\n",
    "agru_attention_groups = [\n",
    "    AttentionGroup(\n",
    "        name='group1',\n",
    "        pairs=[{'ad': 'mid', 'pos_hist': 'hist_mids'},\n",
    "               {'ad': 'cat', 'pos_hist': 'hist_cats'}],\n",
    "        hidden_layers=[80, 40], att_dropout=0.0, gru_type='AGRU')]\n",
    "\n",
    "augru_attention_groups = [\n",
    "    AttentionGroup(\n",
    "        name='group1',\n",
    "        pairs=[{'ad': 'mid', 'pos_hist': 'hist_mids'},\n",
    "               {'ad': 'cat', 'pos_hist': 'hist_cats'}],\n",
    "        hidden_layers=[80, 40], att_dropout=0.0, gru_type='AUGRU')]\n",
    "\n",
    "models = [\n",
    "    DNN(features, 2, MBEDDING_DIM, DNN_HIDDEN_SIZE,\n",
    "        final_activation='sigmoid', dropout=DNN_DROPOUT,\n",
    "        embedding_ref=embedding_ref),\n",
    "    \n",
    "    WideDeep(features,\n",
    "             wide_features=['mid', 'hist_mids', 'cat', 'hist_cats'],\n",
    "             deep_features=['mid', 'hist_mids', 'cat', 'hist_cats'],\n",
    "             cross_features=[('mid', 'hist_mids'), ('cat', 'hist_cats')],\n",
    "             num_classes=2, embedding_size=MBEDDING_DIM, hidden_layers=DNN_HIDDEN_SIZE,\n",
    "             final_activation='sigmoid', dropout=DNN_DROPOUT, embedding_ref=embedding_ref),\n",
    "    \n",
    "    DeepFM(features, 2, MBEDDING_DIM, DNN_HIDDEN_SIZE, \n",
    "           final_activation='sigmoid', dropout=DNN_DROPOUT,\n",
    "           embedding_ref=embedding_ref),\n",
    "    \n",
    "    DIN(features, din_attention_groups, 2, MBEDDING_DIM, DNN_HIDDEN_SIZE,\n",
    "        final_activation='sigmoid', dropout=DNN_DROPOUT, embedding_ref=embedding_ref),\n",
    "    \n",
    "    DIEN(features, gru_attention_groups, 2, MBEDDING_DIM, DNN_HIDDEN_SIZE,\n",
    "         final_activation='sigmoid', dropout=DNN_DROPOUT, embedding_ref=embedding_ref),\n",
    "    \n",
    "    DIEN(features, aigru_attention_groups, 2, MBEDDING_DIM, DNN_HIDDEN_SIZE,\n",
    "         final_activation='sigmoid', dropout=DNN_DROPOUT, embedding_ref=embedding_ref),\n",
    "    \n",
    "    DIEN(features, agru_attention_groups, 2, MBEDDING_DIM, DNN_HIDDEN_SIZE,\n",
    "         final_activation='sigmoid', dropout=DNN_DROPOUT, embedding_ref=embedding_ref),\n",
    "    \n",
    "    DIEN(features, augru_attention_groups, 2, MBEDDING_DIM, DNN_HIDDEN_SIZE,\n",
    "         final_activation='sigmoid', dropout=DNN_DROPOUT, embedding_ref=embedding_ref)\n",
    "]"
   ]
  },
  {
   "cell_type": "code",
   "execution_count": 29,
   "metadata": {},
   "outputs": [
    {
     "name": "stdout",
     "output_type": "stream",
     "text": [
      "DNN(\n",
      "  (embedding:mid): Embedding(13171, 18, padding_idx=0)\n",
      "  (embedding:cat): Embedding(253, 18, padding_idx=0)\n",
      "  (pooling:hist_mids): MaxPooling()\n",
      "  (pooling:hist_cats): MaxPooling()\n",
      "  (mlp): MLP(\n",
      "    (_sequential): Sequential(\n",
      "      (dense0): Linear(in_features=72, out_features=200, bias=True)\n",
      "      (batchnorm0): BatchNorm1d(200, eps=1e-05, momentum=0.1, affine=True, track_running_stats=True)\n",
      "      (activation0): ReLU()\n",
      "      (dense1): Linear(in_features=200, out_features=80, bias=True)\n",
      "      (batchnorm1): BatchNorm1d(80, eps=1e-05, momentum=0.1, affine=True, track_running_stats=True)\n",
      "      (activation1): ReLU()\n",
      "    )\n",
      "  )\n",
      "  (final_layer): Linear(in_features=80, out_features=1, bias=True)\n",
      ")\n"
     ]
    },
    {
     "data": {
      "application/vnd.jupyter.widget-view+json": {
       "model_id": "f30ffc215d6745d4a2c8cdb5e5037250",
       "version_major": 2,
       "version_minor": 0
      },
      "text/plain": [
       "HBox(children=(IntProgress(value=0, description='training routine', max=1, style=ProgressStyle(description_wid…"
      ]
     },
     "metadata": {},
     "output_type": "display_data"
    },
    {
     "data": {
      "application/vnd.jupyter.widget-view+json": {
       "model_id": "21929e85de2344ec893b26c1dd3a7301",
       "version_major": 2,
       "version_minor": 0
      },
      "text/plain": [
       "HBox(children=(IntProgress(value=0, description='train', max=8, style=ProgressStyle(description_width='initial…"
      ]
     },
     "metadata": {},
     "output_type": "display_data"
    },
    {
     "data": {
      "application/vnd.jupyter.widget-view+json": {
       "model_id": "dea8520485ce44c3bb4f1f77c985bc90",
       "version_major": 2,
       "version_minor": 0
      },
      "text/plain": [
       "HBox(children=(IntProgress(value=0, description='valid', max=8, style=ProgressStyle(description_width='initial…"
      ]
     },
     "metadata": {},
     "output_type": "display_data"
    },
    {
     "name": "stdout",
     "output_type": "stream",
     "text": [
      "WideDeep(\n",
      "  (embedding:mid): Embedding(13171, 18, padding_idx=0)\n",
      "  (embedding:cat): Embedding(253, 18, padding_idx=0)\n",
      "  (pooling:hist_mids): SumPooling()\n",
      "  (pooling:hist_cats): SumPooling()\n",
      "  (mlp): MLP(\n",
      "    (_sequential): Sequential(\n",
      "      (dense0): Linear(in_features=72, out_features=200, bias=True)\n",
      "      (batchnorm0): BatchNorm1d(200, eps=1e-05, momentum=0.1, affine=True, track_running_stats=True)\n",
      "      (activation0): ReLU()\n",
      "      (dense1): Linear(in_features=200, out_features=80, bias=True)\n",
      "      (batchnorm1): BatchNorm1d(80, eps=1e-05, momentum=0.1, affine=True, track_running_stats=True)\n",
      "      (activation1): ReLU()\n",
      "    )\n",
      "  )\n",
      "  (final_layer): Linear(in_features=188, out_features=1, bias=True)\n",
      ")\n"
     ]
    },
    {
     "data": {
      "application/vnd.jupyter.widget-view+json": {
       "model_id": "124383e6668b4987a06abde8d495a62a",
       "version_major": 2,
       "version_minor": 0
      },
      "text/plain": [
       "HBox(children=(IntProgress(value=0, description='training routine', max=1, style=ProgressStyle(description_wid…"
      ]
     },
     "metadata": {},
     "output_type": "display_data"
    },
    {
     "data": {
      "application/vnd.jupyter.widget-view+json": {
       "model_id": "f226c777f8b94567b26d40d047184522",
       "version_major": 2,
       "version_minor": 0
      },
      "text/plain": [
       "HBox(children=(IntProgress(value=0, description='train', max=8, style=ProgressStyle(description_width='initial…"
      ]
     },
     "metadata": {},
     "output_type": "display_data"
    },
    {
     "data": {
      "application/vnd.jupyter.widget-view+json": {
       "model_id": "8724d15d29844056b752eb579cbf7e38",
       "version_major": 2,
       "version_minor": 0
      },
      "text/plain": [
       "HBox(children=(IntProgress(value=0, description='valid', max=8, style=ProgressStyle(description_width='initial…"
      ]
     },
     "metadata": {},
     "output_type": "display_data"
    },
    {
     "name": "stdout",
     "output_type": "stream",
     "text": [
      "DeepFM(\n",
      "  (embedding:mid): Embedding(13171, 18, padding_idx=0)\n",
      "  (embedding:cat): Embedding(253, 18, padding_idx=0)\n",
      "  (pooling:hist_mids): MaxPooling()\n",
      "  (pooling:hist_cats): MaxPooling()\n",
      "  (fm): FM()\n",
      "  (mlp): MLP(\n",
      "    (_sequential): Sequential(\n",
      "      (dense0): Linear(in_features=72, out_features=200, bias=True)\n",
      "      (batchnorm0): BatchNorm1d(200, eps=1e-05, momentum=0.1, affine=True, track_running_stats=True)\n",
      "      (activation0): ReLU()\n",
      "      (dense1): Linear(in_features=200, out_features=80, bias=True)\n",
      "      (batchnorm1): BatchNorm1d(80, eps=1e-05, momentum=0.1, affine=True, track_running_stats=True)\n",
      "      (activation1): ReLU()\n",
      "    )\n",
      "  )\n",
      "  (final_layer): Linear(in_features=81, out_features=1, bias=True)\n",
      ")\n"
     ]
    },
    {
     "data": {
      "application/vnd.jupyter.widget-view+json": {
       "model_id": "079467ea775c48da9b65b4b697a3ad23",
       "version_major": 2,
       "version_minor": 0
      },
      "text/plain": [
       "HBox(children=(IntProgress(value=0, description='training routine', max=1, style=ProgressStyle(description_wid…"
      ]
     },
     "metadata": {},
     "output_type": "display_data"
    },
    {
     "data": {
      "application/vnd.jupyter.widget-view+json": {
       "model_id": "c270f8d599f045c7be8db0154199f785",
       "version_major": 2,
       "version_minor": 0
      },
      "text/plain": [
       "HBox(children=(IntProgress(value=0, description='train', max=8, style=ProgressStyle(description_width='initial…"
      ]
     },
     "metadata": {},
     "output_type": "display_data"
    },
    {
     "data": {
      "application/vnd.jupyter.widget-view+json": {
       "model_id": "093c6e30ceb54c31953a64e221269e3d",
       "version_major": 2,
       "version_minor": 0
      },
      "text/plain": [
       "HBox(children=(IntProgress(value=0, description='valid', max=8, style=ProgressStyle(description_width='initial…"
      ]
     },
     "metadata": {},
     "output_type": "display_data"
    },
    {
     "name": "stdout",
     "output_type": "stream",
     "text": [
      "DIN(\n",
      "  (embedding:mid): Embedding(13171, 18, padding_idx=0)\n",
      "  (embedding:cat): Embedding(253, 18, padding_idx=0)\n",
      "  (attention_pooling:group1): Attention(\n",
      "    (mlp): MLP(\n",
      "      (_sequential): Sequential(\n",
      "        (dense0): Linear(in_features=144, out_features=80, bias=True)\n",
      "        (batchnorm0): BatchNorm1d(80, eps=1e-05, momentum=0.1, affine=True, track_running_stats=True)\n",
      "        (activation0): PReLU(num_parameters=1)\n",
      "        (dense1): Linear(in_features=80, out_features=40, bias=True)\n",
      "        (batchnorm1): BatchNorm1d(40, eps=1e-05, momentum=0.1, affine=True, track_running_stats=True)\n",
      "        (activation1): PReLU(num_parameters=1)\n",
      "      )\n",
      "    )\n",
      "    (fc): Linear(in_features=40, out_features=1, bias=True)\n",
      "  )\n",
      "  (mlp): MLP(\n",
      "    (_sequential): Sequential(\n",
      "      (dense0): Linear(in_features=72, out_features=200, bias=True)\n",
      "      (batchnorm0): BatchNorm1d(200, eps=1e-05, momentum=0.1, affine=True, track_running_stats=True)\n",
      "      (activation0): PReLU(num_parameters=1)\n",
      "      (dense1): Linear(in_features=200, out_features=80, bias=True)\n",
      "      (batchnorm1): BatchNorm1d(80, eps=1e-05, momentum=0.1, affine=True, track_running_stats=True)\n",
      "      (activation1): PReLU(num_parameters=1)\n",
      "    )\n",
      "  )\n",
      "  (final_layer): Linear(in_features=80, out_features=1, bias=True)\n",
      ")\n"
     ]
    },
    {
     "data": {
      "application/vnd.jupyter.widget-view+json": {
       "model_id": "46704aad91cc4e78bd1eadec52f66e8d",
       "version_major": 2,
       "version_minor": 0
      },
      "text/plain": [
       "HBox(children=(IntProgress(value=0, description='training routine', max=1, style=ProgressStyle(description_wid…"
      ]
     },
     "metadata": {},
     "output_type": "display_data"
    },
    {
     "data": {
      "application/vnd.jupyter.widget-view+json": {
       "model_id": "619a11570a8242dcbd3a02976a267df1",
       "version_major": 2,
       "version_minor": 0
      },
      "text/plain": [
       "HBox(children=(IntProgress(value=0, description='train', max=8, style=ProgressStyle(description_width='initial…"
      ]
     },
     "metadata": {},
     "output_type": "display_data"
    },
    {
     "data": {
      "application/vnd.jupyter.widget-view+json": {
       "model_id": "a9489264c1ae4822b34a143add2de365",
       "version_major": 2,
       "version_minor": 0
      },
      "text/plain": [
       "HBox(children=(IntProgress(value=0, description='valid', max=8, style=ProgressStyle(description_width='initial…"
      ]
     },
     "metadata": {},
     "output_type": "display_data"
    },
    {
     "name": "stdout",
     "output_type": "stream",
     "text": [
      "DIEN(\n",
      "  (embedding:mid): Embedding(13171, 18, padding_idx=0)\n",
      "  (embedding:cat): Embedding(253, 18, padding_idx=0)\n",
      "  (attention_pooling:group1): Interest(\n",
      "    (interest_extractor): GRU(36, 36, batch_first=True)\n",
      "    (interest_evolution): GRU(36, 36, batch_first=True)\n",
      "    (attention): Attention(\n",
      "      (mlp): MLP(\n",
      "        (_sequential): Sequential(\n",
      "          (dense0): Linear(in_features=144, out_features=80, bias=True)\n",
      "          (batchnorm0): BatchNorm1d(80, eps=1e-05, momentum=0.1, affine=True, track_running_stats=True)\n",
      "          (activation0): PReLU(num_parameters=1)\n",
      "          (dense1): Linear(in_features=80, out_features=40, bias=True)\n",
      "          (batchnorm1): BatchNorm1d(40, eps=1e-05, momentum=0.1, affine=True, track_running_stats=True)\n",
      "          (activation1): PReLU(num_parameters=1)\n",
      "        )\n",
      "      )\n",
      "      (fc): Linear(in_features=40, out_features=1, bias=True)\n",
      "    )\n",
      "  )\n",
      "  (mlp): MLP(\n",
      "    (_sequential): Sequential(\n",
      "      (dense0): Linear(in_features=72, out_features=200, bias=True)\n",
      "      (batchnorm0): BatchNorm1d(200, eps=1e-05, momentum=0.1, affine=True, track_running_stats=True)\n",
      "      (activation0): PReLU(num_parameters=1)\n",
      "      (dense1): Linear(in_features=200, out_features=80, bias=True)\n",
      "      (batchnorm1): BatchNorm1d(80, eps=1e-05, momentum=0.1, affine=True, track_running_stats=True)\n",
      "      (activation1): PReLU(num_parameters=1)\n",
      "    )\n",
      "  )\n",
      "  (final_layer): Linear(in_features=80, out_features=1, bias=True)\n",
      ")\n"
     ]
    },
    {
     "data": {
      "application/vnd.jupyter.widget-view+json": {
       "model_id": "a6d043846dfc4d7b9b596a466329c1a6",
       "version_major": 2,
       "version_minor": 0
      },
      "text/plain": [
       "HBox(children=(IntProgress(value=0, description='training routine', max=1, style=ProgressStyle(description_wid…"
      ]
     },
     "metadata": {},
     "output_type": "display_data"
    },
    {
     "data": {
      "application/vnd.jupyter.widget-view+json": {
       "model_id": "adfc0f216b644f04b02b27129dba1be3",
       "version_major": 2,
       "version_minor": 0
      },
      "text/plain": [
       "HBox(children=(IntProgress(value=0, description='train', max=8, style=ProgressStyle(description_width='initial…"
      ]
     },
     "metadata": {},
     "output_type": "display_data"
    },
    {
     "data": {
      "application/vnd.jupyter.widget-view+json": {
       "model_id": "56aa1ea1ab3e47be8f10bf3680363005",
       "version_major": 2,
       "version_minor": 0
      },
      "text/plain": [
       "HBox(children=(IntProgress(value=0, description='valid', max=8, style=ProgressStyle(description_width='initial…"
      ]
     },
     "metadata": {},
     "output_type": "display_data"
    },
    {
     "name": "stdout",
     "output_type": "stream",
     "text": [
      "DIEN(\n",
      "  (embedding:mid): Embedding(13171, 18, padding_idx=0)\n",
      "  (embedding:cat): Embedding(253, 18, padding_idx=0)\n",
      "  (attention_pooling:group1): Interest(\n",
      "    (interest_extractor): GRU(36, 36, batch_first=True)\n",
      "    (attention): Attention(\n",
      "      (mlp): MLP(\n",
      "        (_sequential): Sequential(\n",
      "          (dense0): Linear(in_features=144, out_features=80, bias=True)\n",
      "          (batchnorm0): BatchNorm1d(80, eps=1e-05, momentum=0.1, affine=True, track_running_stats=True)\n",
      "          (activation0): PReLU(num_parameters=1)\n",
      "          (dense1): Linear(in_features=80, out_features=40, bias=True)\n",
      "          (batchnorm1): BatchNorm1d(40, eps=1e-05, momentum=0.1, affine=True, track_running_stats=True)\n",
      "          (activation1): PReLU(num_parameters=1)\n",
      "        )\n",
      "      )\n",
      "      (fc): Linear(in_features=40, out_features=1, bias=True)\n",
      "    )\n",
      "    (interest_evolution): GRU(36, 36, batch_first=True)\n",
      "  )\n",
      "  (mlp): MLP(\n",
      "    (_sequential): Sequential(\n",
      "      (dense0): Linear(in_features=72, out_features=200, bias=True)\n",
      "      (batchnorm0): BatchNorm1d(200, eps=1e-05, momentum=0.1, affine=True, track_running_stats=True)\n",
      "      (activation0): PReLU(num_parameters=1)\n",
      "      (dense1): Linear(in_features=200, out_features=80, bias=True)\n",
      "      (batchnorm1): BatchNorm1d(80, eps=1e-05, momentum=0.1, affine=True, track_running_stats=True)\n",
      "      (activation1): PReLU(num_parameters=1)\n",
      "    )\n",
      "  )\n",
      "  (final_layer): Linear(in_features=80, out_features=1, bias=True)\n",
      ")\n"
     ]
    },
    {
     "data": {
      "application/vnd.jupyter.widget-view+json": {
       "model_id": "8e393e667015436987a802f20bc4f868",
       "version_major": 2,
       "version_minor": 0
      },
      "text/plain": [
       "HBox(children=(IntProgress(value=0, description='training routine', max=1, style=ProgressStyle(description_wid…"
      ]
     },
     "metadata": {},
     "output_type": "display_data"
    },
    {
     "data": {
      "application/vnd.jupyter.widget-view+json": {
       "model_id": "dd04cef2fc684cc0a39ef145455a878d",
       "version_major": 2,
       "version_minor": 0
      },
      "text/plain": [
       "HBox(children=(IntProgress(value=0, description='train', max=8, style=ProgressStyle(description_width='initial…"
      ]
     },
     "metadata": {},
     "output_type": "display_data"
    },
    {
     "data": {
      "application/vnd.jupyter.widget-view+json": {
       "model_id": "fa7bc035404c4d61878c8501ab21a6db",
       "version_major": 2,
       "version_minor": 0
      },
      "text/plain": [
       "HBox(children=(IntProgress(value=0, description='valid', max=8, style=ProgressStyle(description_width='initial…"
      ]
     },
     "metadata": {},
     "output_type": "display_data"
    },
    {
     "name": "stdout",
     "output_type": "stream",
     "text": [
      "DIEN(\n",
      "  (embedding:mid): Embedding(13171, 18, padding_idx=0)\n",
      "  (embedding:cat): Embedding(253, 18, padding_idx=0)\n",
      "  (attention_pooling:group1): Interest(\n",
      "    (interest_extractor): GRU(36, 36, batch_first=True)\n",
      "    (attention): Attention(\n",
      "      (mlp): MLP(\n",
      "        (_sequential): Sequential(\n",
      "          (dense0): Linear(in_features=144, out_features=80, bias=True)\n",
      "          (batchnorm0): BatchNorm1d(80, eps=1e-05, momentum=0.1, affine=True, track_running_stats=True)\n",
      "          (activation0): PReLU(num_parameters=1)\n",
      "          (dense1): Linear(in_features=80, out_features=40, bias=True)\n",
      "          (batchnorm1): BatchNorm1d(40, eps=1e-05, momentum=0.1, affine=True, track_running_stats=True)\n",
      "          (activation1): PReLU(num_parameters=1)\n",
      "        )\n",
      "      )\n",
      "      (fc): Linear(in_features=40, out_features=1, bias=True)\n",
      "    )\n",
      "    (interest_evolution): DynamicGRU(\n",
      "      (rnn): AttentionGRUCell()\n",
      "    )\n",
      "  )\n",
      "  (mlp): MLP(\n",
      "    (_sequential): Sequential(\n",
      "      (dense0): Linear(in_features=72, out_features=200, bias=True)\n",
      "      (batchnorm0): BatchNorm1d(200, eps=1e-05, momentum=0.1, affine=True, track_running_stats=True)\n",
      "      (activation0): PReLU(num_parameters=1)\n",
      "      (dense1): Linear(in_features=200, out_features=80, bias=True)\n",
      "      (batchnorm1): BatchNorm1d(80, eps=1e-05, momentum=0.1, affine=True, track_running_stats=True)\n",
      "      (activation1): PReLU(num_parameters=1)\n",
      "    )\n",
      "  )\n",
      "  (final_layer): Linear(in_features=80, out_features=1, bias=True)\n",
      ")\n"
     ]
    },
    {
     "data": {
      "application/vnd.jupyter.widget-view+json": {
       "model_id": "8b67b249f443475baa50581f6b52b722",
       "version_major": 2,
       "version_minor": 0
      },
      "text/plain": [
       "HBox(children=(IntProgress(value=0, description='training routine', max=1, style=ProgressStyle(description_wid…"
      ]
     },
     "metadata": {},
     "output_type": "display_data"
    },
    {
     "data": {
      "application/vnd.jupyter.widget-view+json": {
       "model_id": "07eca2f4fbd54a83acb900f983496406",
       "version_major": 2,
       "version_minor": 0
      },
      "text/plain": [
       "HBox(children=(IntProgress(value=0, description='train', max=8, style=ProgressStyle(description_width='initial…"
      ]
     },
     "metadata": {},
     "output_type": "display_data"
    },
    {
     "data": {
      "application/vnd.jupyter.widget-view+json": {
       "model_id": "7edbf3c0a56f490c9eaae314ff6e0540",
       "version_major": 2,
       "version_minor": 0
      },
      "text/plain": [
       "HBox(children=(IntProgress(value=0, description='valid', max=8, style=ProgressStyle(description_width='initial…"
      ]
     },
     "metadata": {},
     "output_type": "display_data"
    },
    {
     "name": "stdout",
     "output_type": "stream",
     "text": [
      "DIEN(\n",
      "  (embedding:mid): Embedding(13171, 18, padding_idx=0)\n",
      "  (embedding:cat): Embedding(253, 18, padding_idx=0)\n",
      "  (attention_pooling:group1): Interest(\n",
      "    (interest_extractor): GRU(36, 36, batch_first=True)\n",
      "    (attention): Attention(\n",
      "      (mlp): MLP(\n",
      "        (_sequential): Sequential(\n",
      "          (dense0): Linear(in_features=144, out_features=80, bias=True)\n",
      "          (batchnorm0): BatchNorm1d(80, eps=1e-05, momentum=0.1, affine=True, track_running_stats=True)\n",
      "          (activation0): PReLU(num_parameters=1)\n",
      "          (dense1): Linear(in_features=80, out_features=40, bias=True)\n",
      "          (batchnorm1): BatchNorm1d(40, eps=1e-05, momentum=0.1, affine=True, track_running_stats=True)\n",
      "          (activation1): PReLU(num_parameters=1)\n",
      "        )\n",
      "      )\n",
      "      (fc): Linear(in_features=40, out_features=1, bias=True)\n",
      "    )\n",
      "    (interest_evolution): DynamicGRU(\n",
      "      (rnn): AttentionUpdateGateGRUCell()\n",
      "    )\n",
      "  )\n",
      "  (mlp): MLP(\n",
      "    (_sequential): Sequential(\n",
      "      (dense0): Linear(in_features=72, out_features=200, bias=True)\n",
      "      (batchnorm0): BatchNorm1d(200, eps=1e-05, momentum=0.1, affine=True, track_running_stats=True)\n",
      "      (activation0): PReLU(num_parameters=1)\n",
      "      (dense1): Linear(in_features=200, out_features=80, bias=True)\n",
      "      (batchnorm1): BatchNorm1d(80, eps=1e-05, momentum=0.1, affine=True, track_running_stats=True)\n",
      "      (activation1): PReLU(num_parameters=1)\n",
      "    )\n",
      "  )\n",
      "  (final_layer): Linear(in_features=80, out_features=1, bias=True)\n",
      ")\n"
     ]
    },
    {
     "data": {
      "application/vnd.jupyter.widget-view+json": {
       "model_id": "37c23ebb9c784c9dababd921a8ebea0d",
       "version_major": 2,
       "version_minor": 0
      },
      "text/plain": [
       "HBox(children=(IntProgress(value=0, description='training routine', max=1, style=ProgressStyle(description_wid…"
      ]
     },
     "metadata": {},
     "output_type": "display_data"
    },
    {
     "data": {
      "application/vnd.jupyter.widget-view+json": {
       "model_id": "c7f537989641407ab0b39f8b34771179",
       "version_major": 2,
       "version_minor": 0
      },
      "text/plain": [
       "HBox(children=(IntProgress(value=0, description='train', max=8, style=ProgressStyle(description_width='initial…"
      ]
     },
     "metadata": {},
     "output_type": "display_data"
    },
    {
     "data": {
      "application/vnd.jupyter.widget-view+json": {
       "model_id": "ad47683a40d34ef1af58b37b544e7e8f",
       "version_major": 2,
       "version_minor": 0
      },
      "text/plain": [
       "HBox(children=(IntProgress(value=0, description='valid', max=8, style=ProgressStyle(description_width='initial…"
      ]
     },
     "metadata": {},
     "output_type": "display_data"
    }
   ],
   "source": [
    "scores = []\n",
    "for model in models:\n",
    "    print(model)\n",
    "    loss_func = nn.BCELoss()\n",
    "    optimizer = optim.Adam(model.parameters(), lr=0.001, weight_decay=1e-5)\n",
    "    scheduler = optim.lr_scheduler.ReduceLROnPlateau(\n",
    "        optimizer=optimizer, mode='min', factor=0.5, patience=5)\n",
    "    \n",
    "    fit(EPOCH, model, loss_func, optimizer,\n",
    "        train_loader, valid_loader, scheduler, notebook=True, auxiliary_loss_rate=1)\n",
    "    \n",
    "    scores.append(evaluation(valid_df, valid_loader))"
   ]
  },
  {
   "cell_type": "code",
   "execution_count": 30,
   "metadata": {},
   "outputs": [
    {
     "name": "stdout",
     "output_type": "stream",
     "text": [
      "[0.5343889520090892, 0.4807652301931478, 0.476430606007265, 0.4800511273623401, 0.518710694339985, 0.5068409851018547, 0.5230373173737018, 0.4922608855675218]\n"
     ]
    }
   ],
   "source": [
    "print(scores)"
   ]
  },
  {
   "cell_type": "code",
   "execution_count": 31,
   "metadata": {},
   "outputs": [],
   "source": [
    "number_features = []\n",
    "\n",
    "category_features = [\n",
    "    Category('mid', CategoryEncoder(min_cnt=1, word2idx=mid_word2idx, idx2word=mid_idx2word)),\n",
    "    Category('cat', CategoryEncoder(min_cnt=1, word2idx=cat_word2idx, idx2word=cat_idx2word)),\n",
    "]\n",
    "\n",
    "sequence_features = [\n",
    "    Sequence('hist_mids', SequenceEncoder(sep=\"\u0002\", min_cnt=1, max_len=SEQ_MAX_LEN,\n",
    "                                          word2idx=mid_word2idx, idx2word=mid_idx2word)),\n",
    "    Sequence('hist_cats', SequenceEncoder(sep=\"\u0002\", min_cnt=1, max_len=SEQ_MAX_LEN,\n",
    "                                          word2idx=cat_word2idx, idx2word=cat_idx2word)),\n",
    "    Sequence('neg_hist_mids', SequenceEncoder(sep=\"\u0002\", min_cnt=1, max_len=SEQ_MAX_LEN,\n",
    "                                          word2idx=mid_word2idx, idx2word=mid_idx2word)),\n",
    "    Sequence('neg_hist_cats', SequenceEncoder(sep=\"\u0002\", min_cnt=1, max_len=SEQ_MAX_LEN,\n",
    "                                          word2idx=cat_word2idx, idx2word=cat_idx2word))\n",
    "]\n",
    "\n",
    "features, train_loader, valid_loader = create_dataloader_fn(\n",
    "    number_features, category_features, sequence_features, BATCH_SIZE, train_df, 'label', valid_df, 4)"
   ]
  },
  {
   "cell_type": "code",
   "execution_count": 32,
   "metadata": {},
   "outputs": [],
   "source": [
    "augru_attention_groups_with_neg = [\n",
    "    AttentionGroup(\n",
    "        name='group1',\n",
    "        pairs=[{'ad': 'mid', 'pos_hist': 'hist_mids', 'neg_hist': 'neg_hist_mids'},\n",
    "               {'ad': 'cat', 'pos_hist': 'hist_cats', 'neg_hist': 'neg_hist_cats'}],\n",
    "        hidden_layers=[80, 40], att_dropout=0.0, gru_type='AUGRU')]"
   ]
  },
  {
   "cell_type": "code",
   "execution_count": 33,
   "metadata": {},
   "outputs": [],
   "source": [
    "models = [\n",
    "    DIEN(features, augru_attention_groups_with_neg, 2, MBEDDING_DIM, DNN_HIDDEN_SIZE,\n",
    "         final_activation='sigmoid', dropout=DNN_DROPOUT, use_negsampling=True,\n",
    "         embedding_ref=embedding_ref)\n",
    "]"
   ]
  },
  {
   "cell_type": "code",
   "execution_count": 34,
   "metadata": {},
   "outputs": [
    {
     "name": "stdout",
     "output_type": "stream",
     "text": [
      "DIEN(\n",
      "  (embedding:mid): Embedding(13171, 18, padding_idx=0)\n",
      "  (embedding:cat): Embedding(253, 18, padding_idx=0)\n",
      "  (embedding:neg_hist_mids): Embedding(13171, 18, padding_idx=0)\n",
      "  (embedding:neg_hist_cats): Embedding(253, 18, padding_idx=0)\n",
      "  (attention_pooling:group1): Interest(\n",
      "    (interest_extractor): GRU(36, 36, batch_first=True)\n",
      "    (auxiliary_net): AuxiliaryNet(\n",
      "      (_sequential): Sequential(\n",
      "        (dense0): Linear(in_features=72, out_features=50, bias=True)\n",
      "        (activation0): Sigmoid()\n",
      "        (dense1): Linear(in_features=50, out_features=20, bias=True)\n",
      "        (activation1): Sigmoid()\n",
      "        (final_layer): Linear(in_features=20, out_features=1, bias=True)\n",
      "      )\n",
      "    )\n",
      "    (attention): Attention(\n",
      "      (mlp): MLP(\n",
      "        (_sequential): Sequential(\n",
      "          (dense0): Linear(in_features=144, out_features=80, bias=True)\n",
      "          (batchnorm0): BatchNorm1d(80, eps=1e-05, momentum=0.1, affine=True, track_running_stats=True)\n",
      "          (activation0): PReLU(num_parameters=1)\n",
      "          (dense1): Linear(in_features=80, out_features=40, bias=True)\n",
      "          (batchnorm1): BatchNorm1d(40, eps=1e-05, momentum=0.1, affine=True, track_running_stats=True)\n",
      "          (activation1): PReLU(num_parameters=1)\n",
      "        )\n",
      "      )\n",
      "      (fc): Linear(in_features=40, out_features=1, bias=True)\n",
      "    )\n",
      "    (interest_evolution): DynamicGRU(\n",
      "      (rnn): AttentionUpdateGateGRUCell()\n",
      "    )\n",
      "  )\n",
      "  (mlp): MLP(\n",
      "    (_sequential): Sequential(\n",
      "      (dense0): Linear(in_features=72, out_features=200, bias=True)\n",
      "      (batchnorm0): BatchNorm1d(200, eps=1e-05, momentum=0.1, affine=True, track_running_stats=True)\n",
      "      (activation0): PReLU(num_parameters=1)\n",
      "      (dense1): Linear(in_features=200, out_features=80, bias=True)\n",
      "      (batchnorm1): BatchNorm1d(80, eps=1e-05, momentum=0.1, affine=True, track_running_stats=True)\n",
      "      (activation1): PReLU(num_parameters=1)\n",
      "    )\n",
      "  )\n",
      "  (final_layer): Linear(in_features=80, out_features=1, bias=True)\n",
      ")\n"
     ]
    },
    {
     "data": {
      "application/vnd.jupyter.widget-view+json": {
       "model_id": "1210e5a9021d4c05930d285da1d5d07d",
       "version_major": 2,
       "version_minor": 0
      },
      "text/plain": [
       "HBox(children=(IntProgress(value=0, description='training routine', max=1, style=ProgressStyle(description_wid…"
      ]
     },
     "metadata": {},
     "output_type": "display_data"
    },
    {
     "data": {
      "application/vnd.jupyter.widget-view+json": {
       "model_id": "3e64c7837bc041809fef6e00393a20f7",
       "version_major": 2,
       "version_minor": 0
      },
      "text/plain": [
       "HBox(children=(IntProgress(value=0, description='train', max=8, style=ProgressStyle(description_width='initial…"
      ]
     },
     "metadata": {},
     "output_type": "display_data"
    },
    {
     "data": {
      "application/vnd.jupyter.widget-view+json": {
       "model_id": "417eb68b298d4d2585921de4e1e5e033",
       "version_major": 2,
       "version_minor": 0
      },
      "text/plain": [
       "HBox(children=(IntProgress(value=0, description='valid', max=8, style=ProgressStyle(description_width='initial…"
      ]
     },
     "metadata": {},
     "output_type": "display_data"
    }
   ],
   "source": [
    "scores = []\n",
    "for model in models:\n",
    "    print(model)\n",
    "    loss_func = nn.BCELoss()\n",
    "    optimizer = optim.Adam(model.parameters(), lr=0.001, weight_decay=1e-5)\n",
    "    scheduler = optim.lr_scheduler.ReduceLROnPlateau(\n",
    "        optimizer=optimizer, mode='min', factor=0.5, patience=5)\n",
    "    \n",
    "    fit(EPOCH, model, loss_func, optimizer,\n",
    "        train_loader, valid_loader, scheduler, notebook=True, auxiliary_loss_rate=1)\n",
    "    \n",
    "    scores.append(evaluation(valid_df, valid_loader))"
   ]
  },
  {
   "cell_type": "code",
   "execution_count": 35,
   "metadata": {},
   "outputs": [
    {
     "name": "stdout",
     "output_type": "stream",
     "text": [
      "[0.5005380774831576]\n"
     ]
    }
   ],
   "source": [
    "print(scores)"
   ]
  },
  {
   "cell_type": "code",
   "execution_count": null,
   "metadata": {},
   "outputs": [],
   "source": []
  }
 ],
 "metadata": {
  "kernelspec": {
   "display_name": "Python 3",
   "language": "python",
   "name": "python3"
  },
  "language_info": {
   "codemirror_mode": {
    "name": "ipython",
    "version": 3
   },
   "file_extension": ".py",
   "mimetype": "text/x-python",
   "name": "python",
   "nbconvert_exporter": "python",
   "pygments_lexer": "ipython3",
   "version": "3.6.6"
  }
 },
 "nbformat": 4,
 "nbformat_minor": 2
}
