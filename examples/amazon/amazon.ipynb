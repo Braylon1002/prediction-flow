{
 "cells": [
  {
   "cell_type": "markdown",
   "metadata": {},
   "source": [
    "# script to do experiments described in paper: Deep Interest Evolution Network for Click-Through Rate Prediction\n",
    "\n",
    "## how to run\n",
    "please download data.tar.gz, data1.tar.gz and data2.tar.gz from https://github.com/mouna99/dien and decompress them to the same folder with this script.\n"
   ]
  },
  {
   "cell_type": "code",
   "execution_count": 1,
   "metadata": {},
   "outputs": [],
   "source": [
    "SEQ_MAX_LEN = 100 # maximum sequence length\n",
    "BATCH_SIZE = 128\n",
    "MBEDDING_DIM = 18\n",
    "DNN_HIDDEN_SIZE = [200, 80]\n",
    "DNN_DROPOUT = 0.0\n",
    "TEST_RUN = False\n",
    "EPOCH = 1"
   ]
  },
  {
   "cell_type": "code",
   "execution_count": 2,
   "metadata": {},
   "outputs": [],
   "source": [
    "%matplotlib inline\n",
    "\n",
    "import itertools\n",
    "from collections import Counter\n",
    "\n",
    "import numpy as np\n",
    "import pandas as pd\n",
    "\n",
    "import torch\n",
    "import torch.nn as nn\n",
    "import torch.optim as optim\n",
    "import torch.nn.functional as F\n",
    "from sklearn.metrics import roc_auc_score\n",
    "\n",
    "from prediction_flow.features import Number, Category, Sequence, Features\n",
    "from prediction_flow.transformers.column import (\n",
    "    StandardScaler, CategoryEncoder, SequenceEncoder)\n",
    "\n",
    "from prediction_flow.pytorch.data import Dataset\n",
    "from prediction_flow.pytorch import WideDeep, DeepFM, DNN, DIN, DIEN, AttentionGroup, EmbeddingRef\n",
    "\n",
    "from prediction_flow.pytorch.functions import fit, predict, create_dataloader_fn"
   ]
  },
  {
   "cell_type": "code",
   "execution_count": 3,
   "metadata": {},
   "outputs": [],
   "source": [
    "train_df = pd.read_csv(\n",
    "    \"./local_train.csv\", sep='\\t')\n",
    "\n",
    "valid_df = pd.read_csv(\n",
    "    \"./local_test.csv\", sep='\\t')"
   ]
  },
  {
   "cell_type": "code",
   "execution_count": 4,
   "metadata": {},
   "outputs": [],
   "source": [
    "if TEST_RUN:\n",
    "    train_df = train_df.sample(1000)\n",
    "    valid_df = valid_df.sample(1000)"
   ]
  },
  {
   "cell_type": "code",
   "execution_count": 5,
   "metadata": {},
   "outputs": [
    {
     "data": {
      "text/html": [
       "<div>\n",
       "<style scoped>\n",
       "    .dataframe tbody tr th:only-of-type {\n",
       "        vertical-align: middle;\n",
       "    }\n",
       "\n",
       "    .dataframe tbody tr th {\n",
       "        vertical-align: top;\n",
       "    }\n",
       "\n",
       "    .dataframe thead th {\n",
       "        text-align: right;\n",
       "    }\n",
       "</style>\n",
       "<table border=\"1\" class=\"dataframe\">\n",
       "  <thead>\n",
       "    <tr style=\"text-align: right;\">\n",
       "      <th></th>\n",
       "      <th>label</th>\n",
       "      <th>uid</th>\n",
       "      <th>mid</th>\n",
       "      <th>cat</th>\n",
       "      <th>hist_mids</th>\n",
       "      <th>hist_cats</th>\n",
       "      <th>neg_hist_mids</th>\n",
       "      <th>neg_hist_cats</th>\n",
       "    </tr>\n",
       "  </thead>\n",
       "  <tbody>\n",
       "    <tr>\n",
       "      <th>0</th>\n",
       "      <td>0</td>\n",
       "      <td>AZPJ9LUT0FEPY</td>\n",
       "      <td>B00AMNNTIA</td>\n",
       "      <td>Literature &amp; Fiction</td>\n",
       "      <td>0307744434\u00020062248391\u00020470530707\u00020978924622\u000215...</td>\n",
       "      <td>Books\u0002Books\u0002Books\u0002Books\u0002Books</td>\n",
       "      <td>B0085JHNRG\u00020807592072\u0002B00K6WT986\u00020071475338\u000208...</td>\n",
       "      <td>Espionage\u0002Books\u0002Literature &amp; Fiction\u0002Books\u0002Books</td>\n",
       "    </tr>\n",
       "    <tr>\n",
       "      <th>1</th>\n",
       "      <td>1</td>\n",
       "      <td>AZPJ9LUT0FEPY</td>\n",
       "      <td>0800731603</td>\n",
       "      <td>Books</td>\n",
       "      <td>0307744434\u00020062248391\u00020470530707\u00020978924622\u000215...</td>\n",
       "      <td>Books\u0002Books\u0002Books\u0002Books\u0002Books</td>\n",
       "      <td>0825426731\u00021935726188\u00020985350962\u00020727862650\u000208...</td>\n",
       "      <td>Books\u0002Books\u0002Books\u0002Books\u0002Books</td>\n",
       "    </tr>\n",
       "    <tr>\n",
       "      <th>2</th>\n",
       "      <td>0</td>\n",
       "      <td>A2NRV79GKAU726</td>\n",
       "      <td>B003NNV10O</td>\n",
       "      <td>Russian</td>\n",
       "      <td>0814472869\u00020071462074\u00021583942300\u00020812538366\u0002B0...</td>\n",
       "      <td>Books\u0002Books\u0002Books\u0002Books\u0002Baking\u0002Books\u0002Books</td>\n",
       "      <td>1609801385\u0002B00GY4OTHQ\u00021479256447\u0002B009FRSCTK\u0002B0...</td>\n",
       "      <td>Books\u0002Literature &amp; Fiction\u0002Books\u0002Literature &amp; ...</td>\n",
       "    </tr>\n",
       "    <tr>\n",
       "      <th>3</th>\n",
       "      <td>1</td>\n",
       "      <td>A2NRV79GKAU726</td>\n",
       "      <td>B000UWJ91O</td>\n",
       "      <td>Books</td>\n",
       "      <td>0814472869\u00020071462074\u00021583942300\u00020812538366\u0002B0...</td>\n",
       "      <td>Books\u0002Books\u0002Books\u0002Books\u0002Baking\u0002Books\u0002Books</td>\n",
       "      <td>0373362463\u0002B00I9FTOWI\u00021591797101\u00020525953183\u000218...</td>\n",
       "      <td>Books\u0002Health, Fitness &amp; Dieting\u0002Books\u0002Books\u0002Bo...</td>\n",
       "    </tr>\n",
       "    <tr>\n",
       "      <th>4</th>\n",
       "      <td>0</td>\n",
       "      <td>A2GEQVDX2LL4V3</td>\n",
       "      <td>0321334094</td>\n",
       "      <td>Books</td>\n",
       "      <td>0743596870\u00020374280991\u00021439140634\u00020976475731</td>\n",
       "      <td>Books\u0002Books\u0002Books\u0002Books</td>\n",
       "      <td>0812981898\u00020312306644\u0002B004QGYE5Q\u00020762313056</td>\n",
       "      <td>Books\u0002Books\u0002Gay\u0002Books</td>\n",
       "    </tr>\n",
       "  </tbody>\n",
       "</table>\n",
       "</div>"
      ],
      "text/plain": [
       "   label             uid         mid                   cat  \\\n",
       "0      0   AZPJ9LUT0FEPY  B00AMNNTIA  Literature & Fiction   \n",
       "1      1   AZPJ9LUT0FEPY  0800731603                 Books   \n",
       "2      0  A2NRV79GKAU726  B003NNV10O               Russian   \n",
       "3      1  A2NRV79GKAU726  B000UWJ91O                 Books   \n",
       "4      0  A2GEQVDX2LL4V3  0321334094                 Books   \n",
       "\n",
       "                                           hist_mids  \\\n",
       "0  0307744434\u00020062248391\u00020470530707\u00020978924622\u000215...   \n",
       "1  0307744434\u00020062248391\u00020470530707\u00020978924622\u000215...   \n",
       "2  0814472869\u00020071462074\u00021583942300\u00020812538366\u0002B0...   \n",
       "3  0814472869\u00020071462074\u00021583942300\u00020812538366\u0002B0...   \n",
       "4        0743596870\u00020374280991\u00021439140634\u00020976475731   \n",
       "\n",
       "                                    hist_cats  \\\n",
       "0               Books\u0002Books\u0002Books\u0002Books\u0002Books   \n",
       "1               Books\u0002Books\u0002Books\u0002Books\u0002Books   \n",
       "2  Books\u0002Books\u0002Books\u0002Books\u0002Baking\u0002Books\u0002Books   \n",
       "3  Books\u0002Books\u0002Books\u0002Books\u0002Baking\u0002Books\u0002Books   \n",
       "4                     Books\u0002Books\u0002Books\u0002Books   \n",
       "\n",
       "                                       neg_hist_mids  \\\n",
       "0  B0085JHNRG\u00020807592072\u0002B00K6WT986\u00020071475338\u000208...   \n",
       "1  0825426731\u00021935726188\u00020985350962\u00020727862650\u000208...   \n",
       "2  1609801385\u0002B00GY4OTHQ\u00021479256447\u0002B009FRSCTK\u0002B0...   \n",
       "3  0373362463\u0002B00I9FTOWI\u00021591797101\u00020525953183\u000218...   \n",
       "4        0812981898\u00020312306644\u0002B004QGYE5Q\u00020762313056   \n",
       "\n",
       "                                       neg_hist_cats  \n",
       "0   Espionage\u0002Books\u0002Literature & Fiction\u0002Books\u0002Books  \n",
       "1                      Books\u0002Books\u0002Books\u0002Books\u0002Books  \n",
       "2  Books\u0002Literature & Fiction\u0002Books\u0002Literature & ...  \n",
       "3  Books\u0002Health, Fitness & Dieting\u0002Books\u0002Books\u0002Bo...  \n",
       "4                              Books\u0002Books\u0002Gay\u0002Books  "
      ]
     },
     "execution_count": 5,
     "metadata": {},
     "output_type": "execute_result"
    }
   ],
   "source": [
    "train_df.head()"
   ]
  },
  {
   "cell_type": "code",
   "execution_count": 6,
   "metadata": {},
   "outputs": [
    {
     "data": {
      "text/html": [
       "<div>\n",
       "<style scoped>\n",
       "    .dataframe tbody tr th:only-of-type {\n",
       "        vertical-align: middle;\n",
       "    }\n",
       "\n",
       "    .dataframe tbody tr th {\n",
       "        vertical-align: top;\n",
       "    }\n",
       "\n",
       "    .dataframe thead th {\n",
       "        text-align: right;\n",
       "    }\n",
       "</style>\n",
       "<table border=\"1\" class=\"dataframe\">\n",
       "  <thead>\n",
       "    <tr style=\"text-align: right;\">\n",
       "      <th></th>\n",
       "      <th>label</th>\n",
       "      <th>uid</th>\n",
       "      <th>mid</th>\n",
       "      <th>cat</th>\n",
       "      <th>hist_mids</th>\n",
       "      <th>hist_cats</th>\n",
       "      <th>neg_hist_mids</th>\n",
       "      <th>neg_hist_cats</th>\n",
       "    </tr>\n",
       "  </thead>\n",
       "  <tbody>\n",
       "    <tr>\n",
       "      <th>0</th>\n",
       "      <td>0</td>\n",
       "      <td>A3BI7R43VUZ1TY</td>\n",
       "      <td>B00JNHU0T2</td>\n",
       "      <td>Literature &amp; Fiction</td>\n",
       "      <td>0989464105\u0002B00B01691C\u00021477809732\u00021608442845</td>\n",
       "      <td>Books\u0002Literature &amp; Fiction\u0002Books\u0002Books</td>\n",
       "      <td>0140114335\u00021416597867\u00020517148293\u00020425198855</td>\n",
       "      <td>Books\u0002Books\u0002Books\u0002Books</td>\n",
       "    </tr>\n",
       "    <tr>\n",
       "      <th>1</th>\n",
       "      <td>1</td>\n",
       "      <td>A3BI7R43VUZ1TY</td>\n",
       "      <td>0989464121</td>\n",
       "      <td>Books</td>\n",
       "      <td>0989464105\u0002B00B01691C\u00021477809732\u00021608442845</td>\n",
       "      <td>Books\u0002Literature &amp; Fiction\u0002Books\u0002Books</td>\n",
       "      <td>0061662585\u00020310328195\u0002B00HIBIAS8\u00020800732049</td>\n",
       "      <td>Books\u0002Books\u0002Travelers &amp; Explorers\u0002Books</td>\n",
       "    </tr>\n",
       "    <tr>\n",
       "      <th>2</th>\n",
       "      <td>0</td>\n",
       "      <td>A2Z3AHJPXG3ZNP</td>\n",
       "      <td>B0072YSPJ0</td>\n",
       "      <td>Literature &amp; Fiction</td>\n",
       "      <td>1478310960\u00021492231452\u00021477603425\u0002B00FRKLA6Q</td>\n",
       "      <td>Books\u0002Books\u0002Books\u0002Urban</td>\n",
       "      <td>B00BA99IJE\u00021599635933\u00020060897848\u00021595554386</td>\n",
       "      <td>Erotica\u0002Books\u0002Books\u0002Books</td>\n",
       "    </tr>\n",
       "    <tr>\n",
       "      <th>3</th>\n",
       "      <td>1</td>\n",
       "      <td>A2Z3AHJPXG3ZNP</td>\n",
       "      <td>B00G4I4I5U</td>\n",
       "      <td>Urban</td>\n",
       "      <td>1478310960\u00021492231452\u00021477603425\u0002B00FRKLA6Q</td>\n",
       "      <td>Books\u0002Books\u0002Books\u0002Urban</td>\n",
       "      <td>B007K1OF1C\u00021590771540\u0002B00DZV25QS\u00021600571476</td>\n",
       "      <td>Breeds\u0002Books\u0002Literature &amp; Fiction\u0002Books</td>\n",
       "    </tr>\n",
       "    <tr>\n",
       "      <th>4</th>\n",
       "      <td>0</td>\n",
       "      <td>A2KDDPJUNWC5CA</td>\n",
       "      <td>0316228532</td>\n",
       "      <td>Books</td>\n",
       "      <td>0141326085\u0002031026622X\u00020316077046\u00020988649179\u000214...</td>\n",
       "      <td>Books\u0002Books\u0002Books\u0002Books\u0002Books</td>\n",
       "      <td>B00LANEVEW\u0002B009HUVEGI\u0002B00A90PN12\u00020671692658\u0002B0...</td>\n",
       "      <td>Urban Life\u0002Sports Medicine\u0002Contemporary Women\u0002...</td>\n",
       "    </tr>\n",
       "  </tbody>\n",
       "</table>\n",
       "</div>"
      ],
      "text/plain": [
       "   label             uid         mid                   cat  \\\n",
       "0      0  A3BI7R43VUZ1TY  B00JNHU0T2  Literature & Fiction   \n",
       "1      1  A3BI7R43VUZ1TY  0989464121                 Books   \n",
       "2      0  A2Z3AHJPXG3ZNP  B0072YSPJ0  Literature & Fiction   \n",
       "3      1  A2Z3AHJPXG3ZNP  B00G4I4I5U                 Urban   \n",
       "4      0  A2KDDPJUNWC5CA  0316228532                 Books   \n",
       "\n",
       "                                           hist_mids  \\\n",
       "0        0989464105\u0002B00B01691C\u00021477809732\u00021608442845   \n",
       "1        0989464105\u0002B00B01691C\u00021477809732\u00021608442845   \n",
       "2        1478310960\u00021492231452\u00021477603425\u0002B00FRKLA6Q   \n",
       "3        1478310960\u00021492231452\u00021477603425\u0002B00FRKLA6Q   \n",
       "4  0141326085\u0002031026622X\u00020316077046\u00020988649179\u000214...   \n",
       "\n",
       "                                hist_cats  \\\n",
       "0  Books\u0002Literature & Fiction\u0002Books\u0002Books   \n",
       "1  Books\u0002Literature & Fiction\u0002Books\u0002Books   \n",
       "2                 Books\u0002Books\u0002Books\u0002Urban   \n",
       "3                 Books\u0002Books\u0002Books\u0002Urban   \n",
       "4           Books\u0002Books\u0002Books\u0002Books\u0002Books   \n",
       "\n",
       "                                       neg_hist_mids  \\\n",
       "0        0140114335\u00021416597867\u00020517148293\u00020425198855   \n",
       "1        0061662585\u00020310328195\u0002B00HIBIAS8\u00020800732049   \n",
       "2        B00BA99IJE\u00021599635933\u00020060897848\u00021595554386   \n",
       "3        B007K1OF1C\u00021590771540\u0002B00DZV25QS\u00021600571476   \n",
       "4  B00LANEVEW\u0002B009HUVEGI\u0002B00A90PN12\u00020671692658\u0002B0...   \n",
       "\n",
       "                                       neg_hist_cats  \n",
       "0                            Books\u0002Books\u0002Books\u0002Books  \n",
       "1            Books\u0002Books\u0002Travelers & Explorers\u0002Books  \n",
       "2                          Erotica\u0002Books\u0002Books\u0002Books  \n",
       "3            Breeds\u0002Books\u0002Literature & Fiction\u0002Books  \n",
       "4  Urban Life\u0002Sports Medicine\u0002Contemporary Women\u0002...  "
      ]
     },
     "execution_count": 6,
     "metadata": {},
     "output_type": "execute_result"
    }
   ],
   "source": [
    "valid_df.head()"
   ]
  },
  {
   "cell_type": "markdown",
   "metadata": {},
   "source": [
    "# EDA"
   ]
  },
  {
   "cell_type": "code",
   "execution_count": 7,
   "metadata": {},
   "outputs": [],
   "source": [
    "def scale_eda(df):\n",
    "    print(df.shape)\n",
    "    print(df.uid.nunique())\n",
    "    print(df.mid.nunique())\n",
    "    print(df.groupby('label', as_index=False).uid.count())"
   ]
  },
  {
   "cell_type": "code",
   "execution_count": 8,
   "metadata": {},
   "outputs": [
    {
     "name": "stdout",
     "output_type": "stream",
     "text": [
      "(1086120, 8)\n",
      "543060\n",
      "261895\n",
      "   label     uid\n",
      "0      0  543060\n",
      "1      1  543060\n",
      "(121216, 8)\n",
      "60608\n",
      "75053\n",
      "   label    uid\n",
      "0      0  60608\n",
      "1      1  60608\n"
     ]
    }
   ],
   "source": [
    "scale_eda(train_df)\n",
    "scale_eda(valid_df)"
   ]
  },
  {
   "cell_type": "code",
   "execution_count": 9,
   "metadata": {},
   "outputs": [
    {
     "data": {
      "text/plain": [
       "['0307744434', '0062248391', '0470530707', '0978924622', '1590516400']"
      ]
     },
     "execution_count": 9,
     "metadata": {},
     "output_type": "execute_result"
    }
   ],
   "source": [
    "train_df.values[0][4].split(\"\u0002\")"
   ]
  },
  {
   "cell_type": "markdown",
   "metadata": {},
   "source": [
    "**This data set is well balanced. Each user has two samples, pos sample and neg sample.**"
   ]
  },
  {
   "cell_type": "code",
   "execution_count": 10,
   "metadata": {},
   "outputs": [],
   "source": [
    "unique_cats = Counter(train_df.cat.values.tolist())"
   ]
  },
  {
   "cell_type": "code",
   "execution_count": 11,
   "metadata": {},
   "outputs": [],
   "source": [
    "unique_cats_in_hist = Counter(\n",
    "    itertools.chain(*train_df.hist_cats.apply(lambda x: x.split(\"\u0002\")).values.tolist()))"
   ]
  },
  {
   "cell_type": "code",
   "execution_count": 12,
   "metadata": {},
   "outputs": [
    {
     "name": "stdout",
     "output_type": "stream",
     "text": [
      "1459 1600 1459\n"
     ]
    }
   ],
   "source": [
    "print(len(unique_cats), len(unique_cats_in_hist),\n",
    "      len(np.intersect1d(list(unique_cats.keys()), list(unique_cats_in_hist.keys()))))"
   ]
  },
  {
   "cell_type": "markdown",
   "metadata": {},
   "source": [
    "**All categorys also appear in history categorys.**"
   ]
  },
  {
   "cell_type": "code",
   "execution_count": 13,
   "metadata": {},
   "outputs": [],
   "source": [
    "unique_mids = Counter(train_df.mid.values.tolist())"
   ]
  },
  {
   "cell_type": "code",
   "execution_count": 14,
   "metadata": {},
   "outputs": [],
   "source": [
    "unique_mids_in_hist = Counter(\n",
    "    itertools.chain(*train_df.hist_mids.apply(lambda x: x.split(\"\u0002\")).values.tolist()))"
   ]
  },
  {
   "cell_type": "code",
   "execution_count": 15,
   "metadata": {},
   "outputs": [
    {
     "name": "stdout",
     "output_type": "stream",
     "text": [
      "261895 367788 261701\n"
     ]
    }
   ],
   "source": [
    "print(len(unique_mids), len(unique_mids_in_hist),\n",
    "      len(np.intersect1d(list(unique_mids.keys()), list(unique_mids_in_hist.keys()))))"
   ]
  },
  {
   "cell_type": "markdown",
   "metadata": {},
   "source": [
    "**Most mids appears in history mids.**"
   ]
  },
  {
   "cell_type": "code",
   "execution_count": 16,
   "metadata": {},
   "outputs": [
    {
     "name": "stdout",
     "output_type": "stream",
     "text": [
      "There are 86.27769709405354% mid overlap between train and valid\n"
     ]
    }
   ],
   "source": [
    "print(\"There are {}% mid overlap between train and valid\".format(\n",
    "    100 * len(np.intersect1d(train_df.mid.unique(), valid_df.mid.unique())) / len(valid_df.mid.unique())))"
   ]
  },
  {
   "cell_type": "code",
   "execution_count": 17,
   "metadata": {},
   "outputs": [
    {
     "name": "stdout",
     "output_type": "stream",
     "text": [
      "There are 97.91208791208791% mid overlap between train and valid\n"
     ]
    }
   ],
   "source": [
    "print(\"There are {}% mid overlap between train and valid\".format(\n",
    "    100 * len(np.intersect1d(train_df.cat.unique(), valid_df.cat.unique())) / len(valid_df.cat.unique())))"
   ]
  },
  {
   "cell_type": "markdown",
   "metadata": {},
   "source": [
    "# define features"
   ]
  },
  {
   "cell_type": "code",
   "execution_count": 18,
   "metadata": {},
   "outputs": [],
   "source": [
    "cat_enc = SequenceEncoder(sep=\"\u0002\", min_cnt=1, max_len=SEQ_MAX_LEN)"
   ]
  },
  {
   "cell_type": "code",
   "execution_count": 19,
   "metadata": {},
   "outputs": [
    {
     "data": {
      "text/plain": [
       "<prediction_flow.transformers.column.sequence_encoder.SequenceEncoder at 0x12ecaf470>"
      ]
     },
     "execution_count": 19,
     "metadata": {},
     "output_type": "execute_result"
    }
   ],
   "source": [
    "cat_enc.fit(train_df.hist_cats.values)"
   ]
  },
  {
   "cell_type": "code",
   "execution_count": 20,
   "metadata": {},
   "outputs": [],
   "source": [
    "cat_word2idx, cat_idx2word = cat_enc.word2idx, cat_enc.idx2word"
   ]
  },
  {
   "cell_type": "code",
   "execution_count": 21,
   "metadata": {},
   "outputs": [
    {
     "name": "stdout",
     "output_type": "stream",
     "text": [
      "1602\n"
     ]
    }
   ],
   "source": [
    "print(len(cat_word2idx))"
   ]
  },
  {
   "cell_type": "code",
   "execution_count": 22,
   "metadata": {},
   "outputs": [],
   "source": [
    "mid_enc = SequenceEncoder(sep=\"\u0002\", min_cnt=1, max_len=SEQ_MAX_LEN)"
   ]
  },
  {
   "cell_type": "code",
   "execution_count": 23,
   "metadata": {},
   "outputs": [
    {
     "data": {
      "text/plain": [
       "<prediction_flow.transformers.column.sequence_encoder.SequenceEncoder at 0x133284eb8>"
      ]
     },
     "execution_count": 23,
     "metadata": {},
     "output_type": "execute_result"
    }
   ],
   "source": [
    "mid_enc.fit(np.vstack([train_df.mid.values, train_df.hist_mids.values]))"
   ]
  },
  {
   "cell_type": "code",
   "execution_count": 24,
   "metadata": {},
   "outputs": [],
   "source": [
    "mid_word2idx, mid_idx2word = mid_enc.word2idx, mid_enc.idx2word"
   ]
  },
  {
   "cell_type": "code",
   "execution_count": 25,
   "metadata": {},
   "outputs": [
    {
     "name": "stdout",
     "output_type": "stream",
     "text": [
      "367984\n"
     ]
    }
   ],
   "source": [
    "print(len(mid_word2idx))"
   ]
  },
  {
   "cell_type": "code",
   "execution_count": 26,
   "metadata": {},
   "outputs": [],
   "source": [
    "number_features = []\n",
    "\n",
    "category_features = [\n",
    "    Category('mid', CategoryEncoder(min_cnt=1, word2idx=mid_word2idx, idx2word=mid_idx2word)),\n",
    "    Category('cat', CategoryEncoder(min_cnt=1, word2idx=cat_word2idx, idx2word=cat_idx2word)),\n",
    "]\n",
    "\n",
    "sequence_features = [\n",
    "    Sequence('hist_mids', SequenceEncoder(sep=\"\u0002\", min_cnt=1, max_len=SEQ_MAX_LEN,\n",
    "                                          word2idx=mid_word2idx, idx2word=mid_idx2word)),\n",
    "    Sequence('hist_cats', SequenceEncoder(sep=\"\u0002\", min_cnt=1, max_len=SEQ_MAX_LEN,\n",
    "                                          word2idx=cat_word2idx, idx2word=cat_idx2word))\n",
    "]\n",
    "\n",
    "features, train_loader, valid_loader = create_dataloader_fn(\n",
    "    number_features, category_features, sequence_features, BATCH_SIZE, train_df, 'label', valid_df, 4)"
   ]
  },
  {
   "cell_type": "code",
   "execution_count": 27,
   "metadata": {},
   "outputs": [],
   "source": [
    "def evaluation(df, dataloader):\n",
    "    preds = predict(model, dataloader)\n",
    "    return roc_auc_score(df['label'], preds.ravel())"
   ]
  },
  {
   "cell_type": "code",
   "execution_count": 28,
   "metadata": {},
   "outputs": [],
   "source": [
    "embedding_ref = EmbeddingRef(\n",
    "    {'hist_mids': 'mid', 'hist_cats': 'cat'})\n",
    "\n",
    "din_attention_groups = [\n",
    "    AttentionGroup(\n",
    "        name='group1',\n",
    "        pairs=[{'ad': 'mid', 'pos_hist': 'hist_mids'},\n",
    "               {'ad': 'cat', 'pos_hist': 'hist_cats'}],\n",
    "        hidden_layers=[80, 40], att_dropout=0.0)]\n",
    "\n",
    "gru_attention_groups = [\n",
    "    AttentionGroup(\n",
    "        name='group1',\n",
    "        pairs=[{'ad': 'mid', 'pos_hist': 'hist_mids'},\n",
    "               {'ad': 'cat', 'pos_hist': 'hist_cats'}],\n",
    "        hidden_layers=[80, 40], att_dropout=0.0, gru_type='GRU')]\n",
    "\n",
    "aigru_attention_groups = [\n",
    "    AttentionGroup(\n",
    "        name='group1',\n",
    "        pairs=[{'ad': 'mid', 'pos_hist': 'hist_mids'},\n",
    "               {'ad': 'cat', 'pos_hist': 'hist_cats'}],\n",
    "        hidden_layers=[80, 40], att_dropout=0.0, gru_type='AIGRU')]\n",
    "\n",
    "agru_attention_groups = [\n",
    "    AttentionGroup(\n",
    "        name='group1',\n",
    "        pairs=[{'ad': 'mid', 'pos_hist': 'hist_mids'},\n",
    "               {'ad': 'cat', 'pos_hist': 'hist_cats'}],\n",
    "        hidden_layers=[80, 40], att_dropout=0.0, gru_type='AGRU')]\n",
    "\n",
    "augru_attention_groups = [\n",
    "    AttentionGroup(\n",
    "        name='group1',\n",
    "        pairs=[{'ad': 'mid', 'pos_hist': 'hist_mids'},\n",
    "               {'ad': 'cat', 'pos_hist': 'hist_cats'}],\n",
    "        hidden_layers=[80, 40], att_dropout=0.0, gru_type='AUGRU')]\n",
    "\n",
    "models = [\n",
    "    DNN(features, 2, MBEDDING_DIM, DNN_HIDDEN_SIZE,\n",
    "        final_activation='sigmoid', dropout=DNN_DROPOUT,\n",
    "        embedding_ref=embedding_ref),\n",
    "    \n",
    "    WideDeep(features,\n",
    "             wide_features=['mid', 'hist_mids', 'cat', 'hist_cats'],\n",
    "             deep_features=['mid', 'hist_mids', 'cat', 'hist_cats'],\n",
    "             cross_features=[('mid', 'hist_mids'), ('cat', 'hist_cats')],\n",
    "             num_classes=2, embedding_size=MBEDDING_DIM, hidden_layers=DNN_HIDDEN_SIZE,\n",
    "             final_activation='sigmoid', dropout=DNN_DROPOUT, embedding_ref=embedding_ref),\n",
    "    \n",
    "    DeepFM(features, 2, MBEDDING_DIM, DNN_HIDDEN_SIZE, \n",
    "           final_activation='sigmoid', dropout=DNN_DROPOUT,\n",
    "           embedding_ref=embedding_ref),\n",
    "    \n",
    "    DIN(features, din_attention_groups, 2, MBEDDING_DIM, DNN_HIDDEN_SIZE,\n",
    "        final_activation='sigmoid', dropout=DNN_DROPOUT, embedding_ref=embedding_ref),\n",
    "    \n",
    "    DIEN(features, gru_attention_groups, 2, MBEDDING_DIM, DNN_HIDDEN_SIZE,\n",
    "         final_activation='sigmoid', dropout=DNN_DROPOUT, embedding_ref=embedding_ref),\n",
    "    \n",
    "    DIEN(features, aigru_attention_groups, 2, MBEDDING_DIM, DNN_HIDDEN_SIZE,\n",
    "         final_activation='sigmoid', dropout=DNN_DROPOUT, embedding_ref=embedding_ref),\n",
    "    \n",
    "    DIEN(features, agru_attention_groups, 2, MBEDDING_DIM, DNN_HIDDEN_SIZE,\n",
    "         final_activation='sigmoid', dropout=DNN_DROPOUT, embedding_ref=embedding_ref),\n",
    "    \n",
    "    DIEN(features, augru_attention_groups, 2, MBEDDING_DIM, DNN_HIDDEN_SIZE,\n",
    "         final_activation='sigmoid', dropout=DNN_DROPOUT, embedding_ref=embedding_ref)\n",
    "]"
   ]
  },
  {
   "cell_type": "code",
   "execution_count": 29,
   "metadata": {},
   "outputs": [
    {
     "name": "stdout",
     "output_type": "stream",
     "text": [
      "DNN(\n",
      "  (embedding:mid): Embedding(367984, 18, padding_idx=0)\n",
      "  (embedding:cat): Embedding(1602, 18, padding_idx=0)\n",
      "  (pooling:hist_mids): MaxPooling()\n",
      "  (pooling:hist_cats): MaxPooling()\n",
      "  (mlp): MLP(\n",
      "    (_sequential): Sequential(\n",
      "      (dense0): Linear(in_features=72, out_features=200, bias=True)\n",
      "      (batchnorm0): BatchNorm1d(200, eps=1e-05, momentum=0.1, affine=True, track_running_stats=True)\n",
      "      (activation0): ReLU()\n",
      "      (dense1): Linear(in_features=200, out_features=80, bias=True)\n",
      "      (batchnorm1): BatchNorm1d(80, eps=1e-05, momentum=0.1, affine=True, track_running_stats=True)\n",
      "      (activation1): ReLU()\n",
      "    )\n",
      "  )\n",
      "  (final_layer): Linear(in_features=80, out_features=1, bias=True)\n",
      ")\n"
     ]
    },
    {
     "data": {
      "application/vnd.jupyter.widget-view+json": {
       "model_id": "8b2cf8cc5d6e4633b63fd4b15108a0cc",
       "version_major": 2,
       "version_minor": 0
      },
      "text/plain": [
       "HBox(children=(IntProgress(value=0, description='training routine', max=1, style=ProgressStyle(description_wid…"
      ]
     },
     "metadata": {},
     "output_type": "display_data"
    },
    {
     "data": {
      "application/vnd.jupyter.widget-view+json": {
       "model_id": "86f4a83a9a3446ee915764f390295979",
       "version_major": 2,
       "version_minor": 0
      },
      "text/plain": [
       "HBox(children=(IntProgress(value=0, description='train', max=8486, style=ProgressStyle(description_width='init…"
      ]
     },
     "metadata": {},
     "output_type": "display_data"
    },
    {
     "data": {
      "application/vnd.jupyter.widget-view+json": {
       "model_id": "3e0ac7b6ab014ba4bfe2b38cb82464f0",
       "version_major": 2,
       "version_minor": 0
      },
      "text/plain": [
       "HBox(children=(IntProgress(value=0, description='valid', max=947, style=ProgressStyle(description_width='initi…"
      ]
     },
     "metadata": {},
     "output_type": "display_data"
    },
    {
     "name": "stdout",
     "output_type": "stream",
     "text": [
      "WideDeep(\n",
      "  (embedding:mid): Embedding(367984, 18, padding_idx=0)\n",
      "  (embedding:cat): Embedding(1602, 18, padding_idx=0)\n",
      "  (pooling:hist_mids): SumPooling()\n",
      "  (pooling:hist_cats): SumPooling()\n",
      "  (mlp): MLP(\n",
      "    (_sequential): Sequential(\n",
      "      (dense0): Linear(in_features=72, out_features=200, bias=True)\n",
      "      (batchnorm0): BatchNorm1d(200, eps=1e-05, momentum=0.1, affine=True, track_running_stats=True)\n",
      "      (activation0): ReLU()\n",
      "      (dense1): Linear(in_features=200, out_features=80, bias=True)\n",
      "      (batchnorm1): BatchNorm1d(80, eps=1e-05, momentum=0.1, affine=True, track_running_stats=True)\n",
      "      (activation1): ReLU()\n",
      "    )\n",
      "  )\n",
      "  (final_layer): Linear(in_features=188, out_features=1, bias=True)\n",
      ")\n"
     ]
    },
    {
     "data": {
      "application/vnd.jupyter.widget-view+json": {
       "model_id": "ce3f75c2310e4dbea2a8f5b69af5ca1f",
       "version_major": 2,
       "version_minor": 0
      },
      "text/plain": [
       "HBox(children=(IntProgress(value=0, description='training routine', max=1, style=ProgressStyle(description_wid…"
      ]
     },
     "metadata": {},
     "output_type": "display_data"
    },
    {
     "data": {
      "application/vnd.jupyter.widget-view+json": {
       "model_id": "bb08a33630794ddda6f25d04937cbc74",
       "version_major": 2,
       "version_minor": 0
      },
      "text/plain": [
       "HBox(children=(IntProgress(value=0, description='train', max=8486, style=ProgressStyle(description_width='init…"
      ]
     },
     "metadata": {},
     "output_type": "display_data"
    },
    {
     "data": {
      "application/vnd.jupyter.widget-view+json": {
       "model_id": "7d75e17dc5e54615a72662303a024131",
       "version_major": 2,
       "version_minor": 0
      },
      "text/plain": [
       "HBox(children=(IntProgress(value=0, description='valid', max=947, style=ProgressStyle(description_width='initi…"
      ]
     },
     "metadata": {},
     "output_type": "display_data"
    },
    {
     "name": "stdout",
     "output_type": "stream",
     "text": [
      "DeepFM(\n",
      "  (embedding:mid): Embedding(367984, 18, padding_idx=0)\n",
      "  (embedding:cat): Embedding(1602, 18, padding_idx=0)\n",
      "  (pooling:hist_mids): MaxPooling()\n",
      "  (pooling:hist_cats): MaxPooling()\n",
      "  (fm): FM()\n",
      "  (mlp): MLP(\n",
      "    (_sequential): Sequential(\n",
      "      (dense0): Linear(in_features=72, out_features=200, bias=True)\n",
      "      (batchnorm0): BatchNorm1d(200, eps=1e-05, momentum=0.1, affine=True, track_running_stats=True)\n",
      "      (activation0): ReLU()\n",
      "      (dense1): Linear(in_features=200, out_features=80, bias=True)\n",
      "      (batchnorm1): BatchNorm1d(80, eps=1e-05, momentum=0.1, affine=True, track_running_stats=True)\n",
      "      (activation1): ReLU()\n",
      "    )\n",
      "  )\n",
      "  (final_layer): Linear(in_features=81, out_features=1, bias=True)\n",
      ")\n"
     ]
    },
    {
     "data": {
      "application/vnd.jupyter.widget-view+json": {
       "model_id": "b9cd46c970cf40eeaafe2a5358b5dc42",
       "version_major": 2,
       "version_minor": 0
      },
      "text/plain": [
       "HBox(children=(IntProgress(value=0, description='training routine', max=1, style=ProgressStyle(description_wid…"
      ]
     },
     "metadata": {},
     "output_type": "display_data"
    },
    {
     "data": {
      "application/vnd.jupyter.widget-view+json": {
       "model_id": "214d775f0c2f49fea48e07658913ee33",
       "version_major": 2,
       "version_minor": 0
      },
      "text/plain": [
       "HBox(children=(IntProgress(value=0, description='train', max=8486, style=ProgressStyle(description_width='init…"
      ]
     },
     "metadata": {},
     "output_type": "display_data"
    },
    {
     "data": {
      "application/vnd.jupyter.widget-view+json": {
       "model_id": "127711c4e34e4f5985a171d66011e4a6",
       "version_major": 2,
       "version_minor": 0
      },
      "text/plain": [
       "HBox(children=(IntProgress(value=0, description='valid', max=947, style=ProgressStyle(description_width='initi…"
      ]
     },
     "metadata": {},
     "output_type": "display_data"
    },
    {
     "name": "stdout",
     "output_type": "stream",
     "text": [
      "DIN(\n",
      "  (embedding:mid): Embedding(367984, 18, padding_idx=0)\n",
      "  (embedding:cat): Embedding(1602, 18, padding_idx=0)\n",
      "  (attention_pooling:group1): Attention(\n",
      "    (mlp): MLP(\n",
      "      (_sequential): Sequential(\n",
      "        (dense0): Linear(in_features=144, out_features=80, bias=True)\n",
      "        (batchnorm0): BatchNorm1d(80, eps=1e-05, momentum=0.1, affine=True, track_running_stats=True)\n",
      "        (activation0): PReLU(num_parameters=1)\n",
      "        (dense1): Linear(in_features=80, out_features=40, bias=True)\n",
      "        (batchnorm1): BatchNorm1d(40, eps=1e-05, momentum=0.1, affine=True, track_running_stats=True)\n",
      "        (activation1): PReLU(num_parameters=1)\n",
      "      )\n",
      "    )\n",
      "    (fc): Linear(in_features=40, out_features=1, bias=True)\n",
      "  )\n",
      "  (mlp): MLP(\n",
      "    (_sequential): Sequential(\n",
      "      (dense0): Linear(in_features=72, out_features=200, bias=True)\n",
      "      (batchnorm0): BatchNorm1d(200, eps=1e-05, momentum=0.1, affine=True, track_running_stats=True)\n",
      "      (activation0): PReLU(num_parameters=1)\n",
      "      (dense1): Linear(in_features=200, out_features=80, bias=True)\n",
      "      (batchnorm1): BatchNorm1d(80, eps=1e-05, momentum=0.1, affine=True, track_running_stats=True)\n",
      "      (activation1): PReLU(num_parameters=1)\n",
      "    )\n",
      "  )\n",
      "  (final_layer): Linear(in_features=80, out_features=1, bias=True)\n",
      ")\n"
     ]
    },
    {
     "data": {
      "application/vnd.jupyter.widget-view+json": {
       "model_id": "ab8fd186b04146f3b2b277aa7ab17ad4",
       "version_major": 2,
       "version_minor": 0
      },
      "text/plain": [
       "HBox(children=(IntProgress(value=0, description='training routine', max=1, style=ProgressStyle(description_wid…"
      ]
     },
     "metadata": {},
     "output_type": "display_data"
    },
    {
     "data": {
      "application/vnd.jupyter.widget-view+json": {
       "model_id": "ff3efcff2869453c84199ae7cd1a7b8f",
       "version_major": 2,
       "version_minor": 0
      },
      "text/plain": [
       "HBox(children=(IntProgress(value=0, description='train', max=8486, style=ProgressStyle(description_width='init…"
      ]
     },
     "metadata": {},
     "output_type": "display_data"
    },
    {
     "data": {
      "application/vnd.jupyter.widget-view+json": {
       "model_id": "b84c5857834041aeb935ac144c429622",
       "version_major": 2,
       "version_minor": 0
      },
      "text/plain": [
       "HBox(children=(IntProgress(value=0, description='valid', max=947, style=ProgressStyle(description_width='initi…"
      ]
     },
     "metadata": {},
     "output_type": "display_data"
    },
    {
     "name": "stdout",
     "output_type": "stream",
     "text": [
      "DIEN(\n",
      "  (embedding:mid): Embedding(367984, 18, padding_idx=0)\n",
      "  (embedding:cat): Embedding(1602, 18, padding_idx=0)\n",
      "  (attention_pooling:group1): Interest(\n",
      "    (interest_extractor): GRU(36, 36, batch_first=True)\n",
      "    (interest_evolution): GRU(36, 36, batch_first=True)\n",
      "    (attention): Attention(\n",
      "      (mlp): MLP(\n",
      "        (_sequential): Sequential(\n",
      "          (dense0): Linear(in_features=144, out_features=80, bias=True)\n",
      "          (batchnorm0): BatchNorm1d(80, eps=1e-05, momentum=0.1, affine=True, track_running_stats=True)\n",
      "          (activation0): PReLU(num_parameters=1)\n",
      "          (dense1): Linear(in_features=80, out_features=40, bias=True)\n",
      "          (batchnorm1): BatchNorm1d(40, eps=1e-05, momentum=0.1, affine=True, track_running_stats=True)\n",
      "          (activation1): PReLU(num_parameters=1)\n",
      "        )\n",
      "      )\n",
      "      (fc): Linear(in_features=40, out_features=1, bias=True)\n",
      "    )\n",
      "  )\n",
      "  (mlp): MLP(\n",
      "    (_sequential): Sequential(\n",
      "      (dense0): Linear(in_features=72, out_features=200, bias=True)\n",
      "      (batchnorm0): BatchNorm1d(200, eps=1e-05, momentum=0.1, affine=True, track_running_stats=True)\n",
      "      (activation0): PReLU(num_parameters=1)\n",
      "      (dense1): Linear(in_features=200, out_features=80, bias=True)\n",
      "      (batchnorm1): BatchNorm1d(80, eps=1e-05, momentum=0.1, affine=True, track_running_stats=True)\n",
      "      (activation1): PReLU(num_parameters=1)\n",
      "    )\n",
      "  )\n",
      "  (final_layer): Linear(in_features=80, out_features=1, bias=True)\n",
      ")\n"
     ]
    },
    {
     "data": {
      "application/vnd.jupyter.widget-view+json": {
       "model_id": "96f906201a66458f99f6d937e38b4859",
       "version_major": 2,
       "version_minor": 0
      },
      "text/plain": [
       "HBox(children=(IntProgress(value=0, description='training routine', max=1, style=ProgressStyle(description_wid…"
      ]
     },
     "metadata": {},
     "output_type": "display_data"
    },
    {
     "data": {
      "application/vnd.jupyter.widget-view+json": {
       "model_id": "2c4fbdf9180e48fcaedf0fd282526b3d",
       "version_major": 2,
       "version_minor": 0
      },
      "text/plain": [
       "HBox(children=(IntProgress(value=0, description='train', max=8486, style=ProgressStyle(description_width='init…"
      ]
     },
     "metadata": {},
     "output_type": "display_data"
    },
    {
     "data": {
      "application/vnd.jupyter.widget-view+json": {
       "model_id": "ff63c95c972f46768c22212ccc34a60b",
       "version_major": 2,
       "version_minor": 0
      },
      "text/plain": [
       "HBox(children=(IntProgress(value=0, description='valid', max=947, style=ProgressStyle(description_width='initi…"
      ]
     },
     "metadata": {},
     "output_type": "display_data"
    },
    {
     "name": "stdout",
     "output_type": "stream",
     "text": [
      "DIEN(\n",
      "  (embedding:mid): Embedding(367984, 18, padding_idx=0)\n",
      "  (embedding:cat): Embedding(1602, 18, padding_idx=0)\n",
      "  (attention_pooling:group1): Interest(\n",
      "    (interest_extractor): GRU(36, 36, batch_first=True)\n",
      "    (attention): Attention(\n",
      "      (mlp): MLP(\n",
      "        (_sequential): Sequential(\n",
      "          (dense0): Linear(in_features=144, out_features=80, bias=True)\n",
      "          (batchnorm0): BatchNorm1d(80, eps=1e-05, momentum=0.1, affine=True, track_running_stats=True)\n",
      "          (activation0): PReLU(num_parameters=1)\n",
      "          (dense1): Linear(in_features=80, out_features=40, bias=True)\n",
      "          (batchnorm1): BatchNorm1d(40, eps=1e-05, momentum=0.1, affine=True, track_running_stats=True)\n",
      "          (activation1): PReLU(num_parameters=1)\n",
      "        )\n",
      "      )\n",
      "      (fc): Linear(in_features=40, out_features=1, bias=True)\n",
      "    )\n",
      "    (interest_evolution): GRU(36, 36, batch_first=True)\n",
      "  )\n",
      "  (mlp): MLP(\n",
      "    (_sequential): Sequential(\n",
      "      (dense0): Linear(in_features=72, out_features=200, bias=True)\n",
      "      (batchnorm0): BatchNorm1d(200, eps=1e-05, momentum=0.1, affine=True, track_running_stats=True)\n",
      "      (activation0): PReLU(num_parameters=1)\n",
      "      (dense1): Linear(in_features=200, out_features=80, bias=True)\n",
      "      (batchnorm1): BatchNorm1d(80, eps=1e-05, momentum=0.1, affine=True, track_running_stats=True)\n",
      "      (activation1): PReLU(num_parameters=1)\n",
      "    )\n",
      "  )\n",
      "  (final_layer): Linear(in_features=80, out_features=1, bias=True)\n",
      ")\n"
     ]
    },
    {
     "data": {
      "application/vnd.jupyter.widget-view+json": {
       "model_id": "bbe9d2f635fc4910b561adfda1bf75c8",
       "version_major": 2,
       "version_minor": 0
      },
      "text/plain": [
       "HBox(children=(IntProgress(value=0, description='training routine', max=1, style=ProgressStyle(description_wid…"
      ]
     },
     "metadata": {},
     "output_type": "display_data"
    },
    {
     "data": {
      "application/vnd.jupyter.widget-view+json": {
       "model_id": "0548baadf58d404d8be561d90b3bd1af",
       "version_major": 2,
       "version_minor": 0
      },
      "text/plain": [
       "HBox(children=(IntProgress(value=0, description='train', max=8486, style=ProgressStyle(description_width='init…"
      ]
     },
     "metadata": {},
     "output_type": "display_data"
    },
    {
     "data": {
      "application/vnd.jupyter.widget-view+json": {
       "model_id": "ecea59bc7d1e4bd1bb786d0f14be47bd",
       "version_major": 2,
       "version_minor": 0
      },
      "text/plain": [
       "HBox(children=(IntProgress(value=0, description='valid', max=947, style=ProgressStyle(description_width='initi…"
      ]
     },
     "metadata": {},
     "output_type": "display_data"
    },
    {
     "name": "stdout",
     "output_type": "stream",
     "text": [
      "DIEN(\n",
      "  (embedding:mid): Embedding(367984, 18, padding_idx=0)\n",
      "  (embedding:cat): Embedding(1602, 18, padding_idx=0)\n",
      "  (attention_pooling:group1): Interest(\n",
      "    (interest_extractor): GRU(36, 36, batch_first=True)\n",
      "    (attention): Attention(\n",
      "      (mlp): MLP(\n",
      "        (_sequential): Sequential(\n",
      "          (dense0): Linear(in_features=144, out_features=80, bias=True)\n",
      "          (batchnorm0): BatchNorm1d(80, eps=1e-05, momentum=0.1, affine=True, track_running_stats=True)\n",
      "          (activation0): PReLU(num_parameters=1)\n",
      "          (dense1): Linear(in_features=80, out_features=40, bias=True)\n",
      "          (batchnorm1): BatchNorm1d(40, eps=1e-05, momentum=0.1, affine=True, track_running_stats=True)\n",
      "          (activation1): PReLU(num_parameters=1)\n",
      "        )\n",
      "      )\n",
      "      (fc): Linear(in_features=40, out_features=1, bias=True)\n",
      "    )\n",
      "    (interest_evolution): DynamicGRU(\n",
      "      (rnn): AttentionGRUCell()\n",
      "    )\n",
      "  )\n",
      "  (mlp): MLP(\n",
      "    (_sequential): Sequential(\n",
      "      (dense0): Linear(in_features=72, out_features=200, bias=True)\n",
      "      (batchnorm0): BatchNorm1d(200, eps=1e-05, momentum=0.1, affine=True, track_running_stats=True)\n",
      "      (activation0): PReLU(num_parameters=1)\n",
      "      (dense1): Linear(in_features=200, out_features=80, bias=True)\n",
      "      (batchnorm1): BatchNorm1d(80, eps=1e-05, momentum=0.1, affine=True, track_running_stats=True)\n",
      "      (activation1): PReLU(num_parameters=1)\n",
      "    )\n",
      "  )\n",
      "  (final_layer): Linear(in_features=80, out_features=1, bias=True)\n",
      ")\n"
     ]
    },
    {
     "data": {
      "application/vnd.jupyter.widget-view+json": {
       "model_id": "8bafc12ea6124d45bf5e676ef72fc655",
       "version_major": 2,
       "version_minor": 0
      },
      "text/plain": [
       "HBox(children=(IntProgress(value=0, description='training routine', max=1, style=ProgressStyle(description_wid…"
      ]
     },
     "metadata": {},
     "output_type": "display_data"
    },
    {
     "data": {
      "application/vnd.jupyter.widget-view+json": {
       "model_id": "5a2f34f3cb54421c9ed30bea015cb852",
       "version_major": 2,
       "version_minor": 0
      },
      "text/plain": [
       "HBox(children=(IntProgress(value=0, description='train', max=8486, style=ProgressStyle(description_width='init…"
      ]
     },
     "metadata": {},
     "output_type": "display_data"
    },
    {
     "data": {
      "application/vnd.jupyter.widget-view+json": {
       "model_id": "cf94fedf1a5f4c03a21697abe0371334",
       "version_major": 2,
       "version_minor": 0
      },
      "text/plain": [
       "HBox(children=(IntProgress(value=0, description='valid', max=947, style=ProgressStyle(description_width='initi…"
      ]
     },
     "metadata": {},
     "output_type": "display_data"
    },
    {
     "name": "stdout",
     "output_type": "stream",
     "text": [
      "DIEN(\n",
      "  (embedding:mid): Embedding(367984, 18, padding_idx=0)\n",
      "  (embedding:cat): Embedding(1602, 18, padding_idx=0)\n",
      "  (attention_pooling:group1): Interest(\n",
      "    (interest_extractor): GRU(36, 36, batch_first=True)\n",
      "    (attention): Attention(\n",
      "      (mlp): MLP(\n",
      "        (_sequential): Sequential(\n",
      "          (dense0): Linear(in_features=144, out_features=80, bias=True)\n",
      "          (batchnorm0): BatchNorm1d(80, eps=1e-05, momentum=0.1, affine=True, track_running_stats=True)\n",
      "          (activation0): PReLU(num_parameters=1)\n",
      "          (dense1): Linear(in_features=80, out_features=40, bias=True)\n",
      "          (batchnorm1): BatchNorm1d(40, eps=1e-05, momentum=0.1, affine=True, track_running_stats=True)\n",
      "          (activation1): PReLU(num_parameters=1)\n",
      "        )\n",
      "      )\n",
      "      (fc): Linear(in_features=40, out_features=1, bias=True)\n",
      "    )\n",
      "    (interest_evolution): DynamicGRU(\n",
      "      (rnn): AttentionUpdateGateGRUCell()\n",
      "    )\n",
      "  )\n",
      "  (mlp): MLP(\n",
      "    (_sequential): Sequential(\n",
      "      (dense0): Linear(in_features=72, out_features=200, bias=True)\n",
      "      (batchnorm0): BatchNorm1d(200, eps=1e-05, momentum=0.1, affine=True, track_running_stats=True)\n",
      "      (activation0): PReLU(num_parameters=1)\n",
      "      (dense1): Linear(in_features=200, out_features=80, bias=True)\n",
      "      (batchnorm1): BatchNorm1d(80, eps=1e-05, momentum=0.1, affine=True, track_running_stats=True)\n",
      "      (activation1): PReLU(num_parameters=1)\n",
      "    )\n",
      "  )\n",
      "  (final_layer): Linear(in_features=80, out_features=1, bias=True)\n",
      ")\n"
     ]
    },
    {
     "data": {
      "application/vnd.jupyter.widget-view+json": {
       "model_id": "96f8ddeca78e4320a0c66258fe72cf6d",
       "version_major": 2,
       "version_minor": 0
      },
      "text/plain": [
       "HBox(children=(IntProgress(value=0, description='training routine', max=1, style=ProgressStyle(description_wid…"
      ]
     },
     "metadata": {},
     "output_type": "display_data"
    },
    {
     "data": {
      "application/vnd.jupyter.widget-view+json": {
       "model_id": "40ba0de3313944a6adeb638f701120a2",
       "version_major": 2,
       "version_minor": 0
      },
      "text/plain": [
       "HBox(children=(IntProgress(value=0, description='train', max=8486, style=ProgressStyle(description_width='init…"
      ]
     },
     "metadata": {},
     "output_type": "display_data"
    },
    {
     "data": {
      "application/vnd.jupyter.widget-view+json": {
       "model_id": "777be005965f40f1b0bbc0f0b97bab87",
       "version_major": 2,
       "version_minor": 0
      },
      "text/plain": [
       "HBox(children=(IntProgress(value=0, description='valid', max=947, style=ProgressStyle(description_width='initi…"
      ]
     },
     "metadata": {},
     "output_type": "display_data"
    }
   ],
   "source": [
    "scores = []\n",
    "for model in models:\n",
    "    print(model)\n",
    "    loss_func = nn.BCELoss()\n",
    "    optimizer = optim.Adam(model.parameters(), lr=0.001, weight_decay=1e-5)\n",
    "    scheduler = optim.lr_scheduler.ReduceLROnPlateau(\n",
    "        optimizer=optimizer, mode='min', factor=0.5, patience=5)\n",
    "    \n",
    "    fit(EPOCH, model, loss_func, optimizer,\n",
    "        train_loader, valid_loader, scheduler, notebook=True, auxiliary_loss_rate=1)\n",
    "    \n",
    "    scores.append(evaluation(valid_df, valid_loader))"
   ]
  },
  {
   "cell_type": "code",
   "execution_count": 30,
   "metadata": {},
   "outputs": [
    {
     "name": "stdout",
     "output_type": "stream",
     "text": [
      "[0.6959951799469094, 0.6801293430003456, 0.6877024650842773, 0.7230858916723679, 0.7165479448511594, 0.7239262178293835, 0.7261833117355622, 0.7041949819671834]\n"
     ]
    }
   ],
   "source": [
    "print(scores)"
   ]
  },
  {
   "cell_type": "code",
   "execution_count": 31,
   "metadata": {},
   "outputs": [],
   "source": [
    "number_features = []\n",
    "\n",
    "category_features = [\n",
    "    Category('mid', CategoryEncoder(min_cnt=1, word2idx=mid_word2idx, idx2word=mid_idx2word)),\n",
    "    Category('cat', CategoryEncoder(min_cnt=1, word2idx=cat_word2idx, idx2word=cat_idx2word)),\n",
    "]\n",
    "\n",
    "sequence_features = [\n",
    "    Sequence('hist_mids', SequenceEncoder(sep=\"\u0002\", min_cnt=1, max_len=SEQ_MAX_LEN,\n",
    "                                          word2idx=mid_word2idx, idx2word=mid_idx2word)),\n",
    "    Sequence('hist_cats', SequenceEncoder(sep=\"\u0002\", min_cnt=1, max_len=SEQ_MAX_LEN,\n",
    "                                          word2idx=cat_word2idx, idx2word=cat_idx2word)),\n",
    "    Sequence('neg_hist_mids', SequenceEncoder(sep=\"\u0002\", min_cnt=1, max_len=SEQ_MAX_LEN,\n",
    "                                          word2idx=mid_word2idx, idx2word=mid_idx2word)),\n",
    "    Sequence('neg_hist_cats', SequenceEncoder(sep=\"\u0002\", min_cnt=1, max_len=SEQ_MAX_LEN,\n",
    "                                          word2idx=cat_word2idx, idx2word=cat_idx2word))\n",
    "]\n",
    "\n",
    "features, train_loader, valid_loader = create_dataloader_fn(\n",
    "    number_features, category_features, sequence_features, BATCH_SIZE, train_df, 'label', valid_df, 4)"
   ]
  },
  {
   "cell_type": "code",
   "execution_count": 32,
   "metadata": {},
   "outputs": [],
   "source": [
    "augru_attention_groups_with_neg = [\n",
    "    AttentionGroup(\n",
    "        name='group1',\n",
    "        pairs=[{'ad': 'mid', 'pos_hist': 'hist_mids', 'neg_hist': 'neg_hist_mids'},\n",
    "               {'ad': 'cat', 'pos_hist': 'hist_cats', 'neg_hist': 'neg_hist_cats'}],\n",
    "        hidden_layers=[80, 40], att_dropout=0.0, gru_type='AUGRU')]"
   ]
  },
  {
   "cell_type": "code",
   "execution_count": 33,
   "metadata": {},
   "outputs": [],
   "source": [
    "models = [\n",
    "    DIEN(features, augru_attention_groups_with_neg, 2, MBEDDING_DIM, DNN_HIDDEN_SIZE,\n",
    "         final_activation='sigmoid', dropout=DNN_DROPOUT, use_negsampling=True,\n",
    "         embedding_ref=embedding_ref)\n",
    "]"
   ]
  },
  {
   "cell_type": "code",
   "execution_count": 34,
   "metadata": {},
   "outputs": [
    {
     "name": "stdout",
     "output_type": "stream",
     "text": [
      "DIEN(\n",
      "  (embedding:mid): Embedding(367984, 18, padding_idx=0)\n",
      "  (embedding:cat): Embedding(1602, 18, padding_idx=0)\n",
      "  (embedding:neg_hist_mids): Embedding(367984, 18, padding_idx=0)\n",
      "  (embedding:neg_hist_cats): Embedding(1602, 18, padding_idx=0)\n",
      "  (attention_pooling:group1): Interest(\n",
      "    (interest_extractor): GRU(36, 36, batch_first=True)\n",
      "    (auxiliary_net): AuxiliaryNet(\n",
      "      (_sequential): Sequential(\n",
      "        (dense0): Linear(in_features=72, out_features=50, bias=True)\n",
      "        (activation0): Sigmoid()\n",
      "        (dense1): Linear(in_features=50, out_features=20, bias=True)\n",
      "        (activation1): Sigmoid()\n",
      "        (final_layer): Linear(in_features=20, out_features=1, bias=True)\n",
      "      )\n",
      "    )\n",
      "    (attention): Attention(\n",
      "      (mlp): MLP(\n",
      "        (_sequential): Sequential(\n",
      "          (dense0): Linear(in_features=144, out_features=80, bias=True)\n",
      "          (batchnorm0): BatchNorm1d(80, eps=1e-05, momentum=0.1, affine=True, track_running_stats=True)\n",
      "          (activation0): PReLU(num_parameters=1)\n",
      "          (dense1): Linear(in_features=80, out_features=40, bias=True)\n",
      "          (batchnorm1): BatchNorm1d(40, eps=1e-05, momentum=0.1, affine=True, track_running_stats=True)\n",
      "          (activation1): PReLU(num_parameters=1)\n",
      "        )\n",
      "      )\n",
      "      (fc): Linear(in_features=40, out_features=1, bias=True)\n",
      "    )\n",
      "    (interest_evolution): DynamicGRU(\n",
      "      (rnn): AttentionUpdateGateGRUCell()\n",
      "    )\n",
      "  )\n",
      "  (mlp): MLP(\n",
      "    (_sequential): Sequential(\n",
      "      (dense0): Linear(in_features=72, out_features=200, bias=True)\n",
      "      (batchnorm0): BatchNorm1d(200, eps=1e-05, momentum=0.1, affine=True, track_running_stats=True)\n",
      "      (activation0): PReLU(num_parameters=1)\n",
      "      (dense1): Linear(in_features=200, out_features=80, bias=True)\n",
      "      (batchnorm1): BatchNorm1d(80, eps=1e-05, momentum=0.1, affine=True, track_running_stats=True)\n",
      "      (activation1): PReLU(num_parameters=1)\n",
      "    )\n",
      "  )\n",
      "  (final_layer): Linear(in_features=80, out_features=1, bias=True)\n",
      ")\n"
     ]
    },
    {
     "data": {
      "application/vnd.jupyter.widget-view+json": {
       "model_id": "fecaaaf07a8e4082924ba81fda9c8e27",
       "version_major": 2,
       "version_minor": 0
      },
      "text/plain": [
       "HBox(children=(IntProgress(value=0, description='training routine', max=1, style=ProgressStyle(description_wid…"
      ]
     },
     "metadata": {},
     "output_type": "display_data"
    },
    {
     "data": {
      "application/vnd.jupyter.widget-view+json": {
       "model_id": "38079d5bba084f27a17d591420005709",
       "version_major": 2,
       "version_minor": 0
      },
      "text/plain": [
       "HBox(children=(IntProgress(value=0, description='train', max=8486, style=ProgressStyle(description_width='init…"
      ]
     },
     "metadata": {},
     "output_type": "display_data"
    },
    {
     "data": {
      "application/vnd.jupyter.widget-view+json": {
       "model_id": "2e935450b2fb4b3ea7b04c0c74c18031",
       "version_major": 2,
       "version_minor": 0
      },
      "text/plain": [
       "HBox(children=(IntProgress(value=0, description='valid', max=947, style=ProgressStyle(description_width='initi…"
      ]
     },
     "metadata": {},
     "output_type": "display_data"
    }
   ],
   "source": [
    "scores = []\n",
    "for model in models:\n",
    "    print(model)\n",
    "    loss_func = nn.BCELoss()\n",
    "    optimizer = optim.Adam(model.parameters(), lr=0.001, weight_decay=1e-5)\n",
    "    scheduler = optim.lr_scheduler.ReduceLROnPlateau(\n",
    "        optimizer=optimizer, mode='min', factor=0.5, patience=5)\n",
    "    \n",
    "    fit(EPOCH, model, loss_func, optimizer,\n",
    "        train_loader, valid_loader, scheduler, notebook=True, auxiliary_loss_rate=1)\n",
    "    \n",
    "    scores.append(evaluation(valid_df, valid_loader))"
   ]
  },
  {
   "cell_type": "code",
   "execution_count": 35,
   "metadata": {},
   "outputs": [
    {
     "name": "stdout",
     "output_type": "stream",
     "text": [
      "[0.7231377737568615]\n"
     ]
    }
   ],
   "source": [
    "print(scores)"
   ]
  },
  {
   "cell_type": "code",
   "execution_count": null,
   "metadata": {},
   "outputs": [],
   "source": []
  }
 ],
 "metadata": {
  "kernelspec": {
   "display_name": "Python 3",
   "language": "python",
   "name": "python3"
  },
  "language_info": {
   "codemirror_mode": {
    "name": "ipython",
    "version": 3
   },
   "file_extension": ".py",
   "mimetype": "text/x-python",
   "name": "python",
   "nbconvert_exporter": "python",
   "pygments_lexer": "ipython3",
   "version": "3.6.6"
  }
 },
 "nbformat": 4,
 "nbformat_minor": 2
}
