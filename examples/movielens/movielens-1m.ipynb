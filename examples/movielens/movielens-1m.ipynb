{
 "cells": [
  {
   "cell_type": "code",
   "execution_count": 1,
   "metadata": {},
   "outputs": [],
   "source": [
    "%matplotlib inline\n",
    "\n",
    "import numpy as np\n",
    "import pandas as pd\n",
    "\n",
    "from prediction_flow.features import Number, Category, Sequence, Features\n",
    "from prediction_flow.transformers.column import (\n",
    "    StandardScaler, CategoryEncoder, SequenceEncoder)\n",
    "\n",
    "from prediction_flow.pytorch.data import Dataset\n",
    "from prediction_flow.pytorch import DeepFM, DNN, DIN, DIEN, AttentionGroup\n",
    "\n",
    "from prediction_flow.pytorch.functions import fit, predict, create_dataloader_fn"
   ]
  },
  {
   "cell_type": "code",
   "execution_count": 2,
   "metadata": {},
   "outputs": [],
   "source": [
    "train_df = pd.read_csv(\"./ml-1m/train.csv\")\n",
    "valid_df = pd.read_csv(\"./ml-1m/test.csv\")"
   ]
  },
  {
   "cell_type": "code",
   "execution_count": 3,
   "metadata": {},
   "outputs": [],
   "source": [
    "train_df.histHighRatedMovieIds = train_df.histHighRatedMovieIds.astype(str)\n",
    "valid_df.histHighRatedMovieIds = valid_df.histHighRatedMovieIds.astype(str)\n",
    "\n",
    "train_df.negHistMovieIds = train_df.negHistMovieIds.astype(str)\n",
    "valid_df.negHistMovieIds = valid_df.negHistMovieIds.astype(str)"
   ]
  },
  {
   "cell_type": "code",
   "execution_count": 4,
   "metadata": {},
   "outputs": [
    {
     "data": {
      "text/plain": [
       "userId                     int64\n",
       "movieId                    int64\n",
       "ratting                    int64\n",
       "timestamp                  int64\n",
       "last                     float64\n",
       "histHighRatedMovieIds     object\n",
       "negHistMovieIds           object\n",
       "gender                    object\n",
       "age                        int64\n",
       "occupation                 int64\n",
       "zipCode                   object\n",
       "title                     object\n",
       "genres                    object\n",
       "label                      int64\n",
       "dtype: object"
      ]
     },
     "execution_count": 4,
     "metadata": {},
     "output_type": "execute_result"
    }
   ],
   "source": [
    "train_df.dtypes"
   ]
  },
  {
   "cell_type": "code",
   "execution_count": 5,
   "metadata": {},
   "outputs": [
    {
     "data": {
      "text/plain": [
       "userId                     int64\n",
       "movieId                    int64\n",
       "ratting                    int64\n",
       "timestamp                  int64\n",
       "last                     float64\n",
       "histHighRatedMovieIds     object\n",
       "negHistMovieIds           object\n",
       "gender                    object\n",
       "age                        int64\n",
       "occupation                 int64\n",
       "zipCode                   object\n",
       "title                     object\n",
       "genres                    object\n",
       "label                      int64\n",
       "dtype: object"
      ]
     },
     "execution_count": 5,
     "metadata": {},
     "output_type": "execute_result"
    }
   ],
   "source": [
    "valid_df.dtypes"
   ]
  },
  {
   "cell_type": "code",
   "execution_count": 6,
   "metadata": {},
   "outputs": [
    {
     "data": {
      "text/html": [
       "<div>\n",
       "<style scoped>\n",
       "    .dataframe tbody tr th:only-of-type {\n",
       "        vertical-align: middle;\n",
       "    }\n",
       "\n",
       "    .dataframe tbody tr th {\n",
       "        vertical-align: top;\n",
       "    }\n",
       "\n",
       "    .dataframe thead th {\n",
       "        text-align: right;\n",
       "    }\n",
       "</style>\n",
       "<table border=\"1\" class=\"dataframe\">\n",
       "  <thead>\n",
       "    <tr style=\"text-align: right;\">\n",
       "      <th></th>\n",
       "      <th>userId</th>\n",
       "      <th>movieId</th>\n",
       "      <th>ratting</th>\n",
       "      <th>timestamp</th>\n",
       "      <th>last</th>\n",
       "      <th>histHighRatedMovieIds</th>\n",
       "      <th>negHistMovieIds</th>\n",
       "      <th>gender</th>\n",
       "      <th>age</th>\n",
       "      <th>occupation</th>\n",
       "      <th>zipCode</th>\n",
       "      <th>title</th>\n",
       "      <th>genres</th>\n",
       "      <th>label</th>\n",
       "    </tr>\n",
       "  </thead>\n",
       "  <tbody>\n",
       "    <tr>\n",
       "      <th>0</th>\n",
       "      <td>1</td>\n",
       "      <td>48</td>\n",
       "      <td>5</td>\n",
       "      <td>978824351</td>\n",
       "      <td>1.0</td>\n",
       "      <td>1545|527|595|588|1|2355|2294|783|1566|1907</td>\n",
       "      <td>393|2562|3289|3442|2808|2259|295|1190|3321|3470</td>\n",
       "      <td>F</td>\n",
       "      <td>1</td>\n",
       "      <td>10</td>\n",
       "      <td>48067</td>\n",
       "      <td>Pocahontas (1995)</td>\n",
       "      <td>Animation|Children's|Musical|Romance</td>\n",
       "      <td>1</td>\n",
       "    </tr>\n",
       "    <tr>\n",
       "      <th>1</th>\n",
       "      <td>2030</td>\n",
       "      <td>48</td>\n",
       "      <td>3</td>\n",
       "      <td>977809337</td>\n",
       "      <td>1.0</td>\n",
       "      <td>3928|1934|2099|3345|1013|1101|3524|3429|3751|2138</td>\n",
       "      <td>3142|1743|525|1746|3323|935|2183|3556|3343|1542</td>\n",
       "      <td>M</td>\n",
       "      <td>25</td>\n",
       "      <td>4</td>\n",
       "      <td>77345</td>\n",
       "      <td>Pocahontas (1995)</td>\n",
       "      <td>Animation|Children's|Musical|Romance</td>\n",
       "      <td>0</td>\n",
       "    </tr>\n",
       "    <tr>\n",
       "      <th>2</th>\n",
       "      <td>4877</td>\n",
       "      <td>48</td>\n",
       "      <td>2</td>\n",
       "      <td>962767153</td>\n",
       "      <td>1.0</td>\n",
       "      <td>2078|1032|2081|616|364|2033|3034|2394|3745|3615</td>\n",
       "      <td>2354|747|3478|2638|311|1204|3370|807|29|1380</td>\n",
       "      <td>M</td>\n",
       "      <td>25</td>\n",
       "      <td>4</td>\n",
       "      <td>94703</td>\n",
       "      <td>Pocahontas (1995)</td>\n",
       "      <td>Animation|Children's|Musical|Romance</td>\n",
       "      <td>0</td>\n",
       "    </tr>\n",
       "    <tr>\n",
       "      <th>3</th>\n",
       "      <td>2</td>\n",
       "      <td>1917</td>\n",
       "      <td>3</td>\n",
       "      <td>978300174</td>\n",
       "      <td>1.0</td>\n",
       "      <td>3418|349|1527|2353|1370|648|368|736|2002|1544</td>\n",
       "      <td>2117|2560|3480|3678|2798|1222|3872|3503|3913|3494</td>\n",
       "      <td>M</td>\n",
       "      <td>56</td>\n",
       "      <td>16</td>\n",
       "      <td>70072</td>\n",
       "      <td>Armageddon (1998)</td>\n",
       "      <td>Action|Adventure|Sci-Fi|Thriller</td>\n",
       "      <td>0</td>\n",
       "    </tr>\n",
       "    <tr>\n",
       "      <th>4</th>\n",
       "      <td>5122</td>\n",
       "      <td>1917</td>\n",
       "      <td>5</td>\n",
       "      <td>962213528</td>\n",
       "      <td>1.0</td>\n",
       "      <td>3078|2858|2907|1584|2571|32|788|1573|2428|1580</td>\n",
       "      <td>1860|194|742|2379|1966|3397|3195|678|2240|2196</td>\n",
       "      <td>M</td>\n",
       "      <td>25</td>\n",
       "      <td>0</td>\n",
       "      <td>20009</td>\n",
       "      <td>Armageddon (1998)</td>\n",
       "      <td>Action|Adventure|Sci-Fi|Thriller</td>\n",
       "      <td>1</td>\n",
       "    </tr>\n",
       "  </tbody>\n",
       "</table>\n",
       "</div>"
      ],
      "text/plain": [
       "   userId  movieId  ratting  timestamp  last  \\\n",
       "0       1       48        5  978824351   1.0   \n",
       "1    2030       48        3  977809337   1.0   \n",
       "2    4877       48        2  962767153   1.0   \n",
       "3       2     1917        3  978300174   1.0   \n",
       "4    5122     1917        5  962213528   1.0   \n",
       "\n",
       "                               histHighRatedMovieIds  \\\n",
       "0         1545|527|595|588|1|2355|2294|783|1566|1907   \n",
       "1  3928|1934|2099|3345|1013|1101|3524|3429|3751|2138   \n",
       "2    2078|1032|2081|616|364|2033|3034|2394|3745|3615   \n",
       "3      3418|349|1527|2353|1370|648|368|736|2002|1544   \n",
       "4     3078|2858|2907|1584|2571|32|788|1573|2428|1580   \n",
       "\n",
       "                                     negHistMovieIds gender  age  occupation  \\\n",
       "0    393|2562|3289|3442|2808|2259|295|1190|3321|3470      F    1          10   \n",
       "1    3142|1743|525|1746|3323|935|2183|3556|3343|1542      M   25           4   \n",
       "2       2354|747|3478|2638|311|1204|3370|807|29|1380      M   25           4   \n",
       "3  2117|2560|3480|3678|2798|1222|3872|3503|3913|3494      M   56          16   \n",
       "4     1860|194|742|2379|1966|3397|3195|678|2240|2196      M   25           0   \n",
       "\n",
       "  zipCode              title                                genres  label  \n",
       "0   48067  Pocahontas (1995)  Animation|Children's|Musical|Romance      1  \n",
       "1   77345  Pocahontas (1995)  Animation|Children's|Musical|Romance      0  \n",
       "2   94703  Pocahontas (1995)  Animation|Children's|Musical|Romance      0  \n",
       "3   70072  Armageddon (1998)      Action|Adventure|Sci-Fi|Thriller      0  \n",
       "4   20009  Armageddon (1998)      Action|Adventure|Sci-Fi|Thriller      1  "
      ]
     },
     "execution_count": 6,
     "metadata": {},
     "output_type": "execute_result"
    }
   ],
   "source": [
    "train_df.head()"
   ]
  },
  {
   "cell_type": "code",
   "execution_count": 7,
   "metadata": {},
   "outputs": [
    {
     "data": {
      "text/html": [
       "<div>\n",
       "<style scoped>\n",
       "    .dataframe tbody tr th:only-of-type {\n",
       "        vertical-align: middle;\n",
       "    }\n",
       "\n",
       "    .dataframe tbody tr th {\n",
       "        vertical-align: top;\n",
       "    }\n",
       "\n",
       "    .dataframe thead th {\n",
       "        text-align: right;\n",
       "    }\n",
       "</style>\n",
       "<table border=\"1\" class=\"dataframe\">\n",
       "  <thead>\n",
       "    <tr style=\"text-align: right;\">\n",
       "      <th></th>\n",
       "      <th>userId</th>\n",
       "      <th>movieId</th>\n",
       "      <th>ratting</th>\n",
       "      <th>timestamp</th>\n",
       "      <th>last</th>\n",
       "      <th>histHighRatedMovieIds</th>\n",
       "      <th>negHistMovieIds</th>\n",
       "      <th>gender</th>\n",
       "      <th>age</th>\n",
       "      <th>occupation</th>\n",
       "      <th>zipCode</th>\n",
       "      <th>title</th>\n",
       "      <th>genres</th>\n",
       "      <th>label</th>\n",
       "    </tr>\n",
       "  </thead>\n",
       "  <tbody>\n",
       "    <tr>\n",
       "      <th>0</th>\n",
       "      <td>9</td>\n",
       "      <td>2294</td>\n",
       "      <td>4</td>\n",
       "      <td>978226678</td>\n",
       "      <td>1.0</td>\n",
       "      <td>590|480|2302|2268|529|349|524|16|1653|2278</td>\n",
       "      <td>876|1953|2644|3540|2794|90|3291|406|2282|2406</td>\n",
       "      <td>M</td>\n",
       "      <td>25</td>\n",
       "      <td>17</td>\n",
       "      <td>61614</td>\n",
       "      <td>Antz (1998)</td>\n",
       "      <td>Animation|Children's</td>\n",
       "      <td>1</td>\n",
       "    </tr>\n",
       "    <tr>\n",
       "      <th>1</th>\n",
       "      <td>15</td>\n",
       "      <td>3510</td>\n",
       "      <td>5</td>\n",
       "      <td>978361393</td>\n",
       "      <td>1.0</td>\n",
       "      <td>1892|648|1422|1597|3489|1196|260|1210|3461|2115</td>\n",
       "      <td>322|135|1324|3928|2808|3220|2992|3937|652|3671</td>\n",
       "      <td>M</td>\n",
       "      <td>25</td>\n",
       "      <td>7</td>\n",
       "      <td>22903</td>\n",
       "      <td>Frequency (2000)</td>\n",
       "      <td>Drama|Thriller</td>\n",
       "      <td>1</td>\n",
       "    </tr>\n",
       "    <tr>\n",
       "      <th>2</th>\n",
       "      <td>2165</td>\n",
       "      <td>3510</td>\n",
       "      <td>5</td>\n",
       "      <td>974982139</td>\n",
       "      <td>1.0</td>\n",
       "      <td>1095|2959|2416|3552|16|1266|3210|104|3147|3148</td>\n",
       "      <td>1936|1248|2241|985|3097|2282|3550|2690|3731|718</td>\n",
       "      <td>M</td>\n",
       "      <td>25</td>\n",
       "      <td>7</td>\n",
       "      <td>32836</td>\n",
       "      <td>Frequency (2000)</td>\n",
       "      <td>Drama|Thriller</td>\n",
       "      <td>1</td>\n",
       "    </tr>\n",
       "    <tr>\n",
       "      <th>3</th>\n",
       "      <td>2319</td>\n",
       "      <td>3510</td>\n",
       "      <td>4</td>\n",
       "      <td>974476547</td>\n",
       "      <td>1.0</td>\n",
       "      <td>2987|1240|2243|1302|2716|1961|1096|3408|3481|3148</td>\n",
       "      <td>392|2782|1615|3720|781|1511|3225|2273|2655|3798</td>\n",
       "      <td>M</td>\n",
       "      <td>35</td>\n",
       "      <td>7</td>\n",
       "      <td>48104</td>\n",
       "      <td>Frequency (2000)</td>\n",
       "      <td>Drama|Thriller</td>\n",
       "      <td>1</td>\n",
       "    </tr>\n",
       "    <tr>\n",
       "      <th>4</th>\n",
       "      <td>16</td>\n",
       "      <td>2701</td>\n",
       "      <td>2</td>\n",
       "      <td>978174795</td>\n",
       "      <td>1.0</td>\n",
       "      <td>2683|2699|2355|2975|2369|3175|2761|2581|2394|2724</td>\n",
       "      <td>3128|1830|3281|163|1334|585|3580|1776|1392|774</td>\n",
       "      <td>F</td>\n",
       "      <td>35</td>\n",
       "      <td>0</td>\n",
       "      <td>20670</td>\n",
       "      <td>Wild Wild West (1999)</td>\n",
       "      <td>Action|Sci-Fi|Western</td>\n",
       "      <td>0</td>\n",
       "    </tr>\n",
       "  </tbody>\n",
       "</table>\n",
       "</div>"
      ],
      "text/plain": [
       "   userId  movieId  ratting  timestamp  last  \\\n",
       "0       9     2294        4  978226678   1.0   \n",
       "1      15     3510        5  978361393   1.0   \n",
       "2    2165     3510        5  974982139   1.0   \n",
       "3    2319     3510        4  974476547   1.0   \n",
       "4      16     2701        2  978174795   1.0   \n",
       "\n",
       "                               histHighRatedMovieIds  \\\n",
       "0         590|480|2302|2268|529|349|524|16|1653|2278   \n",
       "1    1892|648|1422|1597|3489|1196|260|1210|3461|2115   \n",
       "2     1095|2959|2416|3552|16|1266|3210|104|3147|3148   \n",
       "3  2987|1240|2243|1302|2716|1961|1096|3408|3481|3148   \n",
       "4  2683|2699|2355|2975|2369|3175|2761|2581|2394|2724   \n",
       "\n",
       "                                   negHistMovieIds gender  age  occupation  \\\n",
       "0    876|1953|2644|3540|2794|90|3291|406|2282|2406      M   25          17   \n",
       "1   322|135|1324|3928|2808|3220|2992|3937|652|3671      M   25           7   \n",
       "2  1936|1248|2241|985|3097|2282|3550|2690|3731|718      M   25           7   \n",
       "3  392|2782|1615|3720|781|1511|3225|2273|2655|3798      M   35           7   \n",
       "4   3128|1830|3281|163|1334|585|3580|1776|1392|774      F   35           0   \n",
       "\n",
       "  zipCode                  title                 genres  label  \n",
       "0   61614            Antz (1998)   Animation|Children's      1  \n",
       "1   22903       Frequency (2000)         Drama|Thriller      1  \n",
       "2   32836       Frequency (2000)         Drama|Thriller      1  \n",
       "3   48104       Frequency (2000)         Drama|Thriller      1  \n",
       "4   20670  Wild Wild West (1999)  Action|Sci-Fi|Western      0  "
      ]
     },
     "execution_count": 7,
     "metadata": {},
     "output_type": "execute_result"
    }
   ],
   "source": [
    "valid_df.head()"
   ]
  },
  {
   "cell_type": "code",
   "execution_count": 8,
   "metadata": {},
   "outputs": [
    {
     "name": "stdout",
     "output_type": "stream",
     "text": [
      "(4832, 14) (1208, 14)\n"
     ]
    }
   ],
   "source": [
    "print(train_df.shape, valid_df.shape)"
   ]
  },
  {
   "cell_type": "code",
   "execution_count": 9,
   "metadata": {},
   "outputs": [],
   "source": [
    "number_features = [\n",
    "    Number('age', StandardScaler())\n",
    "]\n",
    "\n",
    "category_features = [\n",
    "    Category('gender', CategoryEncoder(min_cnt=1)),\n",
    "    Category('movieId', CategoryEncoder(min_cnt=1)),\n",
    "    Category('occupation', CategoryEncoder(min_cnt=1)),\n",
    "    Category('zipCode', CategoryEncoder(min_cnt=1))\n",
    "]\n",
    "\n",
    "sequence_features = [\n",
    "    Sequence('genres', SequenceEncoder(sep='|', min_cnt=1)),\n",
    "    Sequence('histHighRatedMovieIds', SequenceEncoder(sep='|', min_cnt=1)),\n",
    "    Sequence('negHistMovieIds', SequenceEncoder(sep='|', min_cnt=1))\n",
    "]"
   ]
  },
  {
   "cell_type": "code",
   "execution_count": 10,
   "metadata": {},
   "outputs": [],
   "source": [
    "features, train_loader, valid_loader = create_dataloader_fn(\n",
    "    [], category_features, sequence_features, 64, train_df, 'label', valid_df, 4)"
   ]
  },
  {
   "cell_type": "code",
   "execution_count": 11,
   "metadata": {},
   "outputs": [],
   "source": [
    "def evaluation(df, dataloader):\n",
    "    preds = predict(model, dataloader)\n",
    "    return roc_auc_score(df['label'], preds.ravel())"
   ]
  },
  {
   "cell_type": "code",
   "execution_count": 12,
   "metadata": {},
   "outputs": [],
   "source": [
    "import torch\n",
    "import torch.nn as nn\n",
    "import torch.optim as optim\n",
    "import torch.nn.functional as F\n",
    "from sklearn.metrics import roc_auc_score"
   ]
  },
  {
   "cell_type": "code",
   "execution_count": 13,
   "metadata": {},
   "outputs": [],
   "source": [
    "din_attention_groups = [\n",
    "    AttentionGroup(\n",
    "        name='group1',\n",
    "        pairs=[{'ad': 'movieId', 'pos_hist': 'histHighRatedMovieIds'}],\n",
    "        hidden_layers=[16, 8], att_dropout=0.1)]\n",
    "\n",
    "gru_attention_groups = [\n",
    "    AttentionGroup(\n",
    "        name='group1',\n",
    "        pairs=[{'ad': 'movieId', 'pos_hist': 'histHighRatedMovieIds'}],\n",
    "        hidden_layers=[16, 8], att_dropout=0.1, gru_type='GRU')]\n",
    "\n",
    "aigru_attention_groups = [\n",
    "    AttentionGroup(\n",
    "        name='group1',\n",
    "        pairs=[{'ad': 'movieId', 'pos_hist': 'histHighRatedMovieIds'}],\n",
    "        hidden_layers=[16, 8], att_dropout=0.1, gru_type='AIGRU')]\n",
    "\n",
    "agru_attention_groups = [\n",
    "    AttentionGroup(\n",
    "        name='group1',\n",
    "        pairs=[{'ad': 'movieId', 'pos_hist': 'histHighRatedMovieIds'}],\n",
    "        hidden_layers=[16, 8], att_dropout=0.1, gru_type='AGRU')]\n",
    "\n",
    "augru_attention_groups = [\n",
    "    AttentionGroup(\n",
    "        name='group1',\n",
    "        pairs=[{'ad': 'movieId', 'pos_hist': 'histHighRatedMovieIds'}],\n",
    "        hidden_layers=[16, 8], att_dropout=0.1, gru_type='AUGRU')]\n",
    "\n",
    "augru_attention_groups_with_neg = [\n",
    "    AttentionGroup(\n",
    "        name='group1',\n",
    "        pairs=[{'ad': 'movieId', 'pos_hist': 'histHighRatedMovieIds', 'neg_hist': 'negHistMovieIds'}],\n",
    "        hidden_layers=[16, 8], att_dropout=0.1, gru_type='AUGRU')]\n",
    "\n",
    "models = [\n",
    "    DNN(features, 2, 16, (32, 16), final_activation='sigmoid', dropout=0.3),\n",
    "    DeepFM(features, 2, 16, (32, 16), final_activation='sigmoid', dropout=0.3),\n",
    "    DIN(features, din_attention_groups, 2, 16, (32, 16), final_activation='sigmoid', dropout=0.3),\n",
    "    DIEN(features, gru_attention_groups, 2, 16, (32, 16), final_activation='sigmoid', dropout=0.3),\n",
    "    DIEN(features, aigru_attention_groups, 2, 16, (32, 16), final_activation='sigmoid', dropout=0.3),\n",
    "    DIEN(features, agru_attention_groups, 2, 16, (32, 16), final_activation='sigmoid', dropout=0.3),\n",
    "    DIEN(features, augru_attention_groups, 2, 16, (32, 16), final_activation='sigmoid', dropout=0.3),\n",
    "    DIEN(features, augru_attention_groups_with_neg, 2, 16, (32, 16),\n",
    "         final_activation='sigmoid', dropout=0.3, use_negsampling=True)\n",
    "]"
   ]
  },
  {
   "cell_type": "code",
   "execution_count": 14,
   "metadata": {},
   "outputs": [
    {
     "data": {
      "application/vnd.jupyter.widget-view+json": {
       "model_id": "c697f650624c4ac7adc891eb40868cc7",
       "version_major": 2,
       "version_minor": 0
      },
      "text/plain": [
       "HBox(children=(IntProgress(value=0, description='training routine', max=10, style=ProgressStyle(description_wi…"
      ]
     },
     "metadata": {},
     "output_type": "display_data"
    },
    {
     "data": {
      "application/vnd.jupyter.widget-view+json": {
       "model_id": "71a6662852794885853e86e9ef1d5cf0",
       "version_major": 2,
       "version_minor": 0
      },
      "text/plain": [
       "HBox(children=(IntProgress(value=0, description='train', max=76, style=ProgressStyle(description_width='initia…"
      ]
     },
     "metadata": {},
     "output_type": "display_data"
    },
    {
     "data": {
      "application/vnd.jupyter.widget-view+json": {
       "model_id": "497850c82ead4924a6e5c9a7c688cc1d",
       "version_major": 2,
       "version_minor": 0
      },
      "text/plain": [
       "HBox(children=(IntProgress(value=0, description='valid', max=19, style=ProgressStyle(description_width='initia…"
      ]
     },
     "metadata": {},
     "output_type": "display_data"
    },
    {
     "data": {
      "application/vnd.jupyter.widget-view+json": {
       "model_id": "3a6774d2173a43a08552b3b88fc10c95",
       "version_major": 2,
       "version_minor": 0
      },
      "text/plain": [
       "HBox(children=(IntProgress(value=0, description='training routine', max=10, style=ProgressStyle(description_wi…"
      ]
     },
     "metadata": {},
     "output_type": "display_data"
    },
    {
     "data": {
      "application/vnd.jupyter.widget-view+json": {
       "model_id": "0d16f26b044a4a28a4c43d3f0bf39891",
       "version_major": 2,
       "version_minor": 0
      },
      "text/plain": [
       "HBox(children=(IntProgress(value=0, description='train', max=76, style=ProgressStyle(description_width='initia…"
      ]
     },
     "metadata": {},
     "output_type": "display_data"
    },
    {
     "data": {
      "application/vnd.jupyter.widget-view+json": {
       "model_id": "291356d6b78140cfb3c1a53817f1eeb4",
       "version_major": 2,
       "version_minor": 0
      },
      "text/plain": [
       "HBox(children=(IntProgress(value=0, description='valid', max=19, style=ProgressStyle(description_width='initia…"
      ]
     },
     "metadata": {},
     "output_type": "display_data"
    },
    {
     "data": {
      "application/vnd.jupyter.widget-view+json": {
       "model_id": "7135d83070364b4e8e5524e747a3bfab",
       "version_major": 2,
       "version_minor": 0
      },
      "text/plain": [
       "HBox(children=(IntProgress(value=0, description='training routine', max=10, style=ProgressStyle(description_wi…"
      ]
     },
     "metadata": {},
     "output_type": "display_data"
    },
    {
     "data": {
      "application/vnd.jupyter.widget-view+json": {
       "model_id": "2304d42ad02a4933b4afe5ce194b3c48",
       "version_major": 2,
       "version_minor": 0
      },
      "text/plain": [
       "HBox(children=(IntProgress(value=0, description='train', max=76, style=ProgressStyle(description_width='initia…"
      ]
     },
     "metadata": {},
     "output_type": "display_data"
    },
    {
     "data": {
      "application/vnd.jupyter.widget-view+json": {
       "model_id": "fbf53135de204a72b18a3d575c6001d6",
       "version_major": 2,
       "version_minor": 0
      },
      "text/plain": [
       "HBox(children=(IntProgress(value=0, description='valid', max=19, style=ProgressStyle(description_width='initia…"
      ]
     },
     "metadata": {},
     "output_type": "display_data"
    },
    {
     "data": {
      "application/vnd.jupyter.widget-view+json": {
       "model_id": "ebd0596b274e4e43a33e7279a903f290",
       "version_major": 2,
       "version_minor": 0
      },
      "text/plain": [
       "HBox(children=(IntProgress(value=0, description='training routine', max=10, style=ProgressStyle(description_wi…"
      ]
     },
     "metadata": {},
     "output_type": "display_data"
    },
    {
     "data": {
      "application/vnd.jupyter.widget-view+json": {
       "model_id": "f5c7f1aa0db94b76a3273739419d2fc6",
       "version_major": 2,
       "version_minor": 0
      },
      "text/plain": [
       "HBox(children=(IntProgress(value=0, description='train', max=76, style=ProgressStyle(description_width='initia…"
      ]
     },
     "metadata": {},
     "output_type": "display_data"
    },
    {
     "data": {
      "application/vnd.jupyter.widget-view+json": {
       "model_id": "4ae7bc5e99764563a74dd1ec80d28968",
       "version_major": 2,
       "version_minor": 0
      },
      "text/plain": [
       "HBox(children=(IntProgress(value=0, description='valid', max=19, style=ProgressStyle(description_width='initia…"
      ]
     },
     "metadata": {},
     "output_type": "display_data"
    },
    {
     "data": {
      "application/vnd.jupyter.widget-view+json": {
       "model_id": "774782b9b4cb40d3b816dc5997efa64d",
       "version_major": 2,
       "version_minor": 0
      },
      "text/plain": [
       "HBox(children=(IntProgress(value=0, description='training routine', max=10, style=ProgressStyle(description_wi…"
      ]
     },
     "metadata": {},
     "output_type": "display_data"
    },
    {
     "data": {
      "application/vnd.jupyter.widget-view+json": {
       "model_id": "a36619561e8647db99659fda9e33ab1b",
       "version_major": 2,
       "version_minor": 0
      },
      "text/plain": [
       "HBox(children=(IntProgress(value=0, description='train', max=76, style=ProgressStyle(description_width='initia…"
      ]
     },
     "metadata": {},
     "output_type": "display_data"
    },
    {
     "data": {
      "application/vnd.jupyter.widget-view+json": {
       "model_id": "faaf4e9e38da41e58674d2e885dce6d8",
       "version_major": 2,
       "version_minor": 0
      },
      "text/plain": [
       "HBox(children=(IntProgress(value=0, description='valid', max=19, style=ProgressStyle(description_width='initia…"
      ]
     },
     "metadata": {},
     "output_type": "display_data"
    },
    {
     "data": {
      "application/vnd.jupyter.widget-view+json": {
       "model_id": "858e835759e94a71be37967c690a3707",
       "version_major": 2,
       "version_minor": 0
      },
      "text/plain": [
       "HBox(children=(IntProgress(value=0, description='training routine', max=10, style=ProgressStyle(description_wi…"
      ]
     },
     "metadata": {},
     "output_type": "display_data"
    },
    {
     "data": {
      "application/vnd.jupyter.widget-view+json": {
       "model_id": "5029b012cc224bb992eabc5c6f62e57c",
       "version_major": 2,
       "version_minor": 0
      },
      "text/plain": [
       "HBox(children=(IntProgress(value=0, description='train', max=76, style=ProgressStyle(description_width='initia…"
      ]
     },
     "metadata": {},
     "output_type": "display_data"
    },
    {
     "data": {
      "application/vnd.jupyter.widget-view+json": {
       "model_id": "2718d7a6a86c4e21985038dafbd6cf94",
       "version_major": 2,
       "version_minor": 0
      },
      "text/plain": [
       "HBox(children=(IntProgress(value=0, description='valid', max=19, style=ProgressStyle(description_width='initia…"
      ]
     },
     "metadata": {},
     "output_type": "display_data"
    },
    {
     "data": {
      "application/vnd.jupyter.widget-view+json": {
       "model_id": "bc143598bc13406698322fee544ddb07",
       "version_major": 2,
       "version_minor": 0
      },
      "text/plain": [
       "HBox(children=(IntProgress(value=0, description='training routine', max=10, style=ProgressStyle(description_wi…"
      ]
     },
     "metadata": {},
     "output_type": "display_data"
    },
    {
     "data": {
      "application/vnd.jupyter.widget-view+json": {
       "model_id": "6c1d05138a1b49448758731637e0e2c9",
       "version_major": 2,
       "version_minor": 0
      },
      "text/plain": [
       "HBox(children=(IntProgress(value=0, description='train', max=76, style=ProgressStyle(description_width='initia…"
      ]
     },
     "metadata": {},
     "output_type": "display_data"
    },
    {
     "data": {
      "application/vnd.jupyter.widget-view+json": {
       "model_id": "41abfd4a9c404d69ba9b93e256dcb9cd",
       "version_major": 2,
       "version_minor": 0
      },
      "text/plain": [
       "HBox(children=(IntProgress(value=0, description='valid', max=19, style=ProgressStyle(description_width='initia…"
      ]
     },
     "metadata": {},
     "output_type": "display_data"
    },
    {
     "data": {
      "application/vnd.jupyter.widget-view+json": {
       "model_id": "d8ba0f3285f3458f8dfa783b5b5e0b19",
       "version_major": 2,
       "version_minor": 0
      },
      "text/plain": [
       "HBox(children=(IntProgress(value=0, description='training routine', max=10, style=ProgressStyle(description_wi…"
      ]
     },
     "metadata": {},
     "output_type": "display_data"
    },
    {
     "data": {
      "application/vnd.jupyter.widget-view+json": {
       "model_id": "a43caf5be9184612956acddc5eea3404",
       "version_major": 2,
       "version_minor": 0
      },
      "text/plain": [
       "HBox(children=(IntProgress(value=0, description='train', max=76, style=ProgressStyle(description_width='initia…"
      ]
     },
     "metadata": {},
     "output_type": "display_data"
    },
    {
     "data": {
      "application/vnd.jupyter.widget-view+json": {
       "model_id": "59294d098a4e4d7084128e438a94ed43",
       "version_major": 2,
       "version_minor": 0
      },
      "text/plain": [
       "HBox(children=(IntProgress(value=0, description='valid', max=19, style=ProgressStyle(description_width='initia…"
      ]
     },
     "metadata": {},
     "output_type": "display_data"
    }
   ],
   "source": [
    "scores = []\n",
    "for model in models:\n",
    "    loss_func = nn.BCELoss()\n",
    "    optimizer = optim.Adam(model.parameters(), lr=0.001, weight_decay=1e-5)\n",
    "    scheduler = optim.lr_scheduler.ReduceLROnPlateau(\n",
    "        optimizer=optimizer, mode='min', factor=0.5, patience=5)\n",
    "    fit(10, model, loss_func, optimizer,\n",
    "        train_loader, valid_loader, scheduler, notebook=True, auxiliary_loss_rate=0.1)\n",
    "    \n",
    "    scores.append(evaluation(valid_df, valid_loader))"
   ]
  },
  {
   "cell_type": "code",
   "execution_count": 15,
   "metadata": {},
   "outputs": [
    {
     "name": "stdout",
     "output_type": "stream",
     "text": [
      "[0.5674254008722664, 0.5967421443733729, 0.5840142909231721, 0.5655231478471754, 0.6159766641887443, 0.5973102764061267, 0.5758738916478938, 0.6057912722483048]\n"
     ]
    }
   ],
   "source": [
    "print(scores)"
   ]
  },
  {
   "cell_type": "code",
   "execution_count": 16,
   "metadata": {},
   "outputs": [
    {
     "name": "stdout",
     "output_type": "stream",
     "text": [
      "Embedding(3, 16)\n",
      "Embedding(1717, 16)\n",
      "Embedding(22, 16)\n",
      "Embedding(2956, 16)\n",
      "Embedding(20, 16, padding_idx=0)\n",
      "MaxPooling()\n",
      "Embedding(2917, 16, padding_idx=0)\n",
      "MaxPooling()\n",
      "Embedding(3886, 16, padding_idx=0)\n",
      "MaxPooling()\n",
      "MLP(\n",
      "  (_sequential): Sequential(\n",
      "    (dense0): Linear(in_features=112, out_features=32, bias=True)\n",
      "    (batchnorm0): BatchNorm1d(32, eps=1e-05, momentum=0.1, affine=True, track_running_stats=True)\n",
      "    (activation0): ReLU()\n",
      "    (dropout0): Dropout(p=0.3)\n",
      "    (dense1): Linear(in_features=32, out_features=16, bias=True)\n",
      "    (batchnorm1): BatchNorm1d(16, eps=1e-05, momentum=0.1, affine=True, track_running_stats=True)\n",
      "    (activation1): ReLU()\n",
      "    (dropout1): Dropout(p=0.3)\n",
      "  )\n",
      ")\n",
      "Linear(in_features=16, out_features=1, bias=True)\n",
      "-------------------------------\n",
      "Embedding(3, 16)\n",
      "Embedding(1717, 16)\n",
      "Embedding(22, 16)\n",
      "Embedding(2956, 16)\n",
      "Embedding(20, 16, padding_idx=0)\n",
      "MaxPooling()\n",
      "Embedding(2917, 16, padding_idx=0)\n",
      "MaxPooling()\n",
      "Embedding(3886, 16, padding_idx=0)\n",
      "MaxPooling()\n",
      "FM()\n",
      "MLP(\n",
      "  (_sequential): Sequential(\n",
      "    (dense0): Linear(in_features=112, out_features=32, bias=True)\n",
      "    (batchnorm0): BatchNorm1d(32, eps=1e-05, momentum=0.1, affine=True, track_running_stats=True)\n",
      "    (activation0): ReLU()\n",
      "    (dropout0): Dropout(p=0.3)\n",
      "    (dense1): Linear(in_features=32, out_features=16, bias=True)\n",
      "    (batchnorm1): BatchNorm1d(16, eps=1e-05, momentum=0.1, affine=True, track_running_stats=True)\n",
      "    (activation1): ReLU()\n",
      "    (dropout1): Dropout(p=0.3)\n",
      "  )\n",
      ")\n",
      "Linear(in_features=17, out_features=1, bias=True)\n",
      "-------------------------------\n",
      "Embedding(3, 16)\n",
      "Embedding(1717, 16)\n",
      "Embedding(22, 16)\n",
      "Embedding(2956, 16)\n",
      "Embedding(20, 16, padding_idx=0)\n",
      "MaxPooling()\n",
      "Embedding(2917, 16, padding_idx=0)\n",
      "Embedding(3886, 16, padding_idx=0)\n",
      "MaxPooling()\n",
      "Attention(\n",
      "  (mlp): MLP(\n",
      "    (_sequential): Sequential(\n",
      "      (dense0): Linear(in_features=64, out_features=16, bias=True)\n",
      "      (batchnorm0): BatchNorm1d(16, eps=1e-05, momentum=0.1, affine=True, track_running_stats=True)\n",
      "      (activation0): PReLU(num_parameters=1)\n",
      "      (dropout0): Dropout(p=0.1)\n",
      "      (dense1): Linear(in_features=16, out_features=8, bias=True)\n",
      "      (batchnorm1): BatchNorm1d(8, eps=1e-05, momentum=0.1, affine=True, track_running_stats=True)\n",
      "      (activation1): PReLU(num_parameters=1)\n",
      "      (dropout1): Dropout(p=0.1)\n",
      "    )\n",
      "  )\n",
      "  (fc): Linear(in_features=8, out_features=1, bias=True)\n",
      ")\n",
      "MLP(\n",
      "  (_sequential): Sequential(\n",
      "    (dense0): Linear(in_features=112, out_features=32, bias=True)\n",
      "    (batchnorm0): BatchNorm1d(32, eps=1e-05, momentum=0.1, affine=True, track_running_stats=True)\n",
      "    (activation0): PReLU(num_parameters=1)\n",
      "    (dropout0): Dropout(p=0.3)\n",
      "    (dense1): Linear(in_features=32, out_features=16, bias=True)\n",
      "    (batchnorm1): BatchNorm1d(16, eps=1e-05, momentum=0.1, affine=True, track_running_stats=True)\n",
      "    (activation1): PReLU(num_parameters=1)\n",
      "    (dropout1): Dropout(p=0.3)\n",
      "  )\n",
      ")\n",
      "Linear(in_features=16, out_features=1, bias=True)\n",
      "-------------------------------\n",
      "Embedding(3, 16)\n",
      "Embedding(1717, 16)\n",
      "Embedding(22, 16)\n",
      "Embedding(2956, 16)\n",
      "Embedding(20, 16, padding_idx=0)\n",
      "MaxPooling()\n",
      "Embedding(2917, 16, padding_idx=0)\n",
      "Embedding(3886, 16, padding_idx=0)\n",
      "MaxPooling()\n",
      "Interest(\n",
      "  (interest_extractor): GRU(16, 16, batch_first=True)\n",
      "  (interest_evolution): GRU(16, 16, batch_first=True)\n",
      "  (attention): Attention(\n",
      "    (mlp): MLP(\n",
      "      (_sequential): Sequential(\n",
      "        (dense0): Linear(in_features=64, out_features=16, bias=True)\n",
      "        (batchnorm0): BatchNorm1d(16, eps=1e-05, momentum=0.1, affine=True, track_running_stats=True)\n",
      "        (activation0): PReLU(num_parameters=1)\n",
      "        (dropout0): Dropout(p=0.1)\n",
      "        (dense1): Linear(in_features=16, out_features=8, bias=True)\n",
      "        (batchnorm1): BatchNorm1d(8, eps=1e-05, momentum=0.1, affine=True, track_running_stats=True)\n",
      "        (activation1): PReLU(num_parameters=1)\n",
      "        (dropout1): Dropout(p=0.1)\n",
      "      )\n",
      "    )\n",
      "    (fc): Linear(in_features=8, out_features=1, bias=True)\n",
      "  )\n",
      ")\n",
      "MLP(\n",
      "  (_sequential): Sequential(\n",
      "    (dense0): Linear(in_features=112, out_features=32, bias=True)\n",
      "    (batchnorm0): BatchNorm1d(32, eps=1e-05, momentum=0.1, affine=True, track_running_stats=True)\n",
      "    (activation0): PReLU(num_parameters=1)\n",
      "    (dropout0): Dropout(p=0.3)\n",
      "    (dense1): Linear(in_features=32, out_features=16, bias=True)\n",
      "    (batchnorm1): BatchNorm1d(16, eps=1e-05, momentum=0.1, affine=True, track_running_stats=True)\n",
      "    (activation1): PReLU(num_parameters=1)\n",
      "    (dropout1): Dropout(p=0.3)\n",
      "  )\n",
      ")\n",
      "Linear(in_features=16, out_features=1, bias=True)\n",
      "-------------------------------\n",
      "Embedding(3, 16)\n",
      "Embedding(1717, 16)\n",
      "Embedding(22, 16)\n",
      "Embedding(2956, 16)\n",
      "Embedding(20, 16, padding_idx=0)\n",
      "MaxPooling()\n",
      "Embedding(2917, 16, padding_idx=0)\n",
      "Embedding(3886, 16, padding_idx=0)\n",
      "MaxPooling()\n",
      "Interest(\n",
      "  (interest_extractor): GRU(16, 16, batch_first=True)\n",
      "  (attention): Attention(\n",
      "    (mlp): MLP(\n",
      "      (_sequential): Sequential(\n",
      "        (dense0): Linear(in_features=64, out_features=16, bias=True)\n",
      "        (batchnorm0): BatchNorm1d(16, eps=1e-05, momentum=0.1, affine=True, track_running_stats=True)\n",
      "        (activation0): PReLU(num_parameters=1)\n",
      "        (dropout0): Dropout(p=0.1)\n",
      "        (dense1): Linear(in_features=16, out_features=8, bias=True)\n",
      "        (batchnorm1): BatchNorm1d(8, eps=1e-05, momentum=0.1, affine=True, track_running_stats=True)\n",
      "        (activation1): PReLU(num_parameters=1)\n",
      "        (dropout1): Dropout(p=0.1)\n",
      "      )\n",
      "    )\n",
      "    (fc): Linear(in_features=8, out_features=1, bias=True)\n",
      "  )\n",
      "  (interest_evolution): GRU(16, 16, batch_first=True)\n",
      ")\n",
      "MLP(\n",
      "  (_sequential): Sequential(\n",
      "    (dense0): Linear(in_features=112, out_features=32, bias=True)\n",
      "    (batchnorm0): BatchNorm1d(32, eps=1e-05, momentum=0.1, affine=True, track_running_stats=True)\n",
      "    (activation0): PReLU(num_parameters=1)\n",
      "    (dropout0): Dropout(p=0.3)\n",
      "    (dense1): Linear(in_features=32, out_features=16, bias=True)\n",
      "    (batchnorm1): BatchNorm1d(16, eps=1e-05, momentum=0.1, affine=True, track_running_stats=True)\n",
      "    (activation1): PReLU(num_parameters=1)\n",
      "    (dropout1): Dropout(p=0.3)\n",
      "  )\n",
      ")\n",
      "Linear(in_features=16, out_features=1, bias=True)\n",
      "-------------------------------\n",
      "Embedding(3, 16)\n",
      "Embedding(1717, 16)\n",
      "Embedding(22, 16)\n",
      "Embedding(2956, 16)\n",
      "Embedding(20, 16, padding_idx=0)\n",
      "MaxPooling()\n",
      "Embedding(2917, 16, padding_idx=0)\n",
      "Embedding(3886, 16, padding_idx=0)\n",
      "MaxPooling()\n",
      "Interest(\n",
      "  (interest_extractor): GRU(16, 16, batch_first=True)\n",
      "  (attention): Attention(\n",
      "    (mlp): MLP(\n",
      "      (_sequential): Sequential(\n",
      "        (dense0): Linear(in_features=64, out_features=16, bias=True)\n",
      "        (batchnorm0): BatchNorm1d(16, eps=1e-05, momentum=0.1, affine=True, track_running_stats=True)\n",
      "        (activation0): PReLU(num_parameters=1)\n",
      "        (dropout0): Dropout(p=0.1)\n",
      "        (dense1): Linear(in_features=16, out_features=8, bias=True)\n",
      "        (batchnorm1): BatchNorm1d(8, eps=1e-05, momentum=0.1, affine=True, track_running_stats=True)\n",
      "        (activation1): PReLU(num_parameters=1)\n",
      "        (dropout1): Dropout(p=0.1)\n",
      "      )\n",
      "    )\n",
      "    (fc): Linear(in_features=8, out_features=1, bias=True)\n",
      "  )\n",
      "  (interest_evolution): DynamicGRU(\n",
      "    (rnn): AttentionGRUCell()\n",
      "  )\n",
      ")\n",
      "MLP(\n",
      "  (_sequential): Sequential(\n",
      "    (dense0): Linear(in_features=112, out_features=32, bias=True)\n",
      "    (batchnorm0): BatchNorm1d(32, eps=1e-05, momentum=0.1, affine=True, track_running_stats=True)\n",
      "    (activation0): PReLU(num_parameters=1)\n",
      "    (dropout0): Dropout(p=0.3)\n",
      "    (dense1): Linear(in_features=32, out_features=16, bias=True)\n",
      "    (batchnorm1): BatchNorm1d(16, eps=1e-05, momentum=0.1, affine=True, track_running_stats=True)\n",
      "    (activation1): PReLU(num_parameters=1)\n",
      "    (dropout1): Dropout(p=0.3)\n",
      "  )\n",
      ")\n",
      "Linear(in_features=16, out_features=1, bias=True)\n",
      "-------------------------------\n",
      "Embedding(3, 16)\n",
      "Embedding(1717, 16)\n",
      "Embedding(22, 16)\n",
      "Embedding(2956, 16)\n",
      "Embedding(20, 16, padding_idx=0)\n",
      "MaxPooling()\n",
      "Embedding(2917, 16, padding_idx=0)\n",
      "Embedding(3886, 16, padding_idx=0)\n",
      "MaxPooling()\n",
      "Interest(\n",
      "  (interest_extractor): GRU(16, 16, batch_first=True)\n",
      "  (attention): Attention(\n",
      "    (mlp): MLP(\n",
      "      (_sequential): Sequential(\n",
      "        (dense0): Linear(in_features=64, out_features=16, bias=True)\n",
      "        (batchnorm0): BatchNorm1d(16, eps=1e-05, momentum=0.1, affine=True, track_running_stats=True)\n",
      "        (activation0): PReLU(num_parameters=1)\n",
      "        (dropout0): Dropout(p=0.1)\n",
      "        (dense1): Linear(in_features=16, out_features=8, bias=True)\n",
      "        (batchnorm1): BatchNorm1d(8, eps=1e-05, momentum=0.1, affine=True, track_running_stats=True)\n",
      "        (activation1): PReLU(num_parameters=1)\n",
      "        (dropout1): Dropout(p=0.1)\n",
      "      )\n",
      "    )\n",
      "    (fc): Linear(in_features=8, out_features=1, bias=True)\n",
      "  )\n",
      "  (interest_evolution): DynamicGRU(\n",
      "    (rnn): AttentionUpdateGateGRUCell()\n",
      "  )\n",
      ")\n",
      "MLP(\n",
      "  (_sequential): Sequential(\n",
      "    (dense0): Linear(in_features=112, out_features=32, bias=True)\n",
      "    (batchnorm0): BatchNorm1d(32, eps=1e-05, momentum=0.1, affine=True, track_running_stats=True)\n",
      "    (activation0): PReLU(num_parameters=1)\n",
      "    (dropout0): Dropout(p=0.3)\n",
      "    (dense1): Linear(in_features=32, out_features=16, bias=True)\n",
      "    (batchnorm1): BatchNorm1d(16, eps=1e-05, momentum=0.1, affine=True, track_running_stats=True)\n",
      "    (activation1): PReLU(num_parameters=1)\n",
      "    (dropout1): Dropout(p=0.3)\n",
      "  )\n",
      ")\n",
      "Linear(in_features=16, out_features=1, bias=True)\n",
      "-------------------------------\n",
      "Embedding(3, 16)\n",
      "Embedding(1717, 16)\n",
      "Embedding(22, 16)\n",
      "Embedding(2956, 16)\n",
      "Embedding(20, 16, padding_idx=0)\n",
      "MaxPooling()\n",
      "Embedding(2917, 16, padding_idx=0)\n",
      "Embedding(3886, 16, padding_idx=0)\n",
      "Interest(\n",
      "  (interest_extractor): GRU(16, 16, batch_first=True)\n",
      "  (auxiliary_net): AuxiliaryNet(\n",
      "    (_sequential): Sequential(\n",
      "      (dense0): Linear(in_features=32, out_features=50, bias=True)\n",
      "      (activation0): Sigmoid()\n",
      "      (dense1): Linear(in_features=50, out_features=20, bias=True)\n",
      "      (activation1): Sigmoid()\n",
      "      (final_layer): Linear(in_features=20, out_features=1, bias=True)\n",
      "    )\n",
      "  )\n",
      "  (attention): Attention(\n",
      "    (mlp): MLP(\n",
      "      (_sequential): Sequential(\n",
      "        (dense0): Linear(in_features=64, out_features=16, bias=True)\n",
      "        (batchnorm0): BatchNorm1d(16, eps=1e-05, momentum=0.1, affine=True, track_running_stats=True)\n",
      "        (activation0): PReLU(num_parameters=1)\n",
      "        (dropout0): Dropout(p=0.1)\n",
      "        (dense1): Linear(in_features=16, out_features=8, bias=True)\n",
      "        (batchnorm1): BatchNorm1d(8, eps=1e-05, momentum=0.1, affine=True, track_running_stats=True)\n",
      "        (activation1): PReLU(num_parameters=1)\n",
      "        (dropout1): Dropout(p=0.1)\n",
      "      )\n",
      "    )\n",
      "    (fc): Linear(in_features=8, out_features=1, bias=True)\n",
      "  )\n",
      "  (interest_evolution): DynamicGRU(\n",
      "    (rnn): AttentionUpdateGateGRUCell()\n",
      "  )\n",
      ")\n",
      "MLP(\n",
      "  (_sequential): Sequential(\n",
      "    (dense0): Linear(in_features=96, out_features=32, bias=True)\n",
      "    (batchnorm0): BatchNorm1d(32, eps=1e-05, momentum=0.1, affine=True, track_running_stats=True)\n",
      "    (activation0): PReLU(num_parameters=1)\n",
      "    (dropout0): Dropout(p=0.3)\n",
      "    (dense1): Linear(in_features=32, out_features=16, bias=True)\n",
      "    (batchnorm1): BatchNorm1d(16, eps=1e-05, momentum=0.1, affine=True, track_running_stats=True)\n",
      "    (activation1): PReLU(num_parameters=1)\n",
      "    (dropout1): Dropout(p=0.3)\n",
      "  )\n",
      ")\n",
      "Linear(in_features=16, out_features=1, bias=True)\n",
      "-------------------------------\n"
     ]
    }
   ],
   "source": [
    "for model in models:\n",
    "    for child in model.children():\n",
    "        print(child)\n",
    "    print(\"-------------------------------\")"
   ]
  },
  {
   "cell_type": "code",
   "execution_count": null,
   "metadata": {},
   "outputs": [],
   "source": []
  }
 ],
 "metadata": {
  "kernelspec": {
   "display_name": "Python 3",
   "language": "python",
   "name": "python3"
  },
  "language_info": {
   "codemirror_mode": {
    "name": "ipython",
    "version": 3
   },
   "file_extension": ".py",
   "mimetype": "text/x-python",
   "name": "python",
   "nbconvert_exporter": "python",
   "pygments_lexer": "ipython3",
   "version": "3.6.6"
  }
 },
 "nbformat": 4,
 "nbformat_minor": 2
}
